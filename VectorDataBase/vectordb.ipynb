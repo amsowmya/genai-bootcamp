{
 "cells": [
  {
   "cell_type": "code",
   "execution_count": 46,
   "metadata": {},
   "outputs": [],
   "source": [
    "from langchain_community.document_loaders import PyPDFLoader, PyPDFDirectoryLoader"
   ]
  },
  {
   "cell_type": "code",
   "execution_count": 47,
   "metadata": {},
   "outputs": [],
   "source": [
    "directory_loader = PyPDFDirectoryLoader(\"E:\\\\2025\\\\Generative_AI\\\\Course\\\\genai-bootcamp\\\\data\")"
   ]
  },
  {
   "cell_type": "code",
   "execution_count": 49,
   "metadata": {},
   "outputs": [],
   "source": [
    "docs = directory_loader.load()"
   ]
  },
  {
   "cell_type": "code",
   "execution_count": 50,
   "metadata": {},
   "outputs": [
    {
     "data": {
      "text/plain": [
       "107"
      ]
     },
     "execution_count": 50,
     "metadata": {},
     "output_type": "execute_result"
    }
   ],
   "source": [
    "len(docs)"
   ]
  },
  {
   "cell_type": "code",
   "execution_count": 27,
   "metadata": {},
   "outputs": [],
   "source": [
    "loader = PyPDFLoader(\"E:\\\\2025\\\\Generative_AI\\\\Course\\\\genai-bootcamp\\\\data\\\\llama2.pdf\")"
   ]
  },
  {
   "cell_type": "code",
   "execution_count": 28,
   "metadata": {},
   "outputs": [],
   "source": [
    "documents = loader.load()"
   ]
  },
  {
   "cell_type": "code",
   "execution_count": 29,
   "metadata": {},
   "outputs": [
    {
     "data": {
      "text/plain": [
       "77"
      ]
     },
     "execution_count": 29,
     "metadata": {},
     "output_type": "execute_result"
    }
   ],
   "source": [
    "len(documents)"
   ]
  },
  {
   "cell_type": "code",
   "execution_count": 30,
   "metadata": {},
   "outputs": [
    {
     "data": {
      "text/plain": [
       "'Llama 2 : Open Foundation and Fine-Tuned Chat Models\\nHugo Touvron∗Louis Martin†Kevin Stone†\\nPeter Albert Amjad Almahairi Yasmine Babaei Nikolay Bashlykov Soumya Batra\\nPrajjwal Bhargava Shruti Bhosale Dan Bikel Lukas Blecher Cristian Canton Ferrer Moya Chen\\nGuillem Cucurull David Esiobu Jude Fernandes Jeremy Fu Wenyin Fu Brian Fuller\\nCynthia Gao Vedanuj Goswami Naman Goyal Anthony Hartshorn Saghar Hosseini Rui Hou\\nHakan Inan Marcin Kardas Viktor Kerkez Madian Khabsa Isabel Kloumann Artem Korenev\\nPunit Singh Koura Marie-Anne Lachaux Thibaut Lavril Jenya Lee Diana Liskovich\\nYinghai Lu Yuning Mao Xavier Martinet Todor Mihaylov Pushkar Mishra\\nIgor Molybog Yixin Nie Andrew Poulton Jeremy Reizenstein Rashi Rungta Kalyan Saladi\\nAlan Schelten Ruan Silva Eric Michael Smith Ranjan Subramanian Xiaoqing Ellen Tan Binh Tang\\nRoss Taylor Adina Williams Jian Xiang Kuan Puxin Xu Zheng Yan Iliyan Zarov Yuchen Zhang\\nAngela Fan Melanie Kambadur Sharan Narang Aurelien Rodriguez Robert Stojnic\\nSergey Edunov Thomas Scialom∗\\nGenAI, Meta\\nAbstract\\nIn this work, we develop and release Llama 2, a collection of pretrained and fine-tuned\\nlarge language models (LLMs) ranging in scale from 7 billion to 70 billion parameters.\\nOur fine-tuned LLMs, called Llama 2-Chat , are optimized for dialogue use cases. Our\\nmodels outperform open-source chat models on most benchmarks we tested, and based on\\nourhumanevaluationsforhelpfulnessandsafety,maybeasuitablesubstituteforclosed-\\nsource models. We provide a detailed description of our approach to fine-tuning and safety\\nimprovements of Llama 2-Chat in order to enable the community to build on our work and\\ncontribute to the responsible development of LLMs.\\n∗Equal contribution, corresponding authors: {tscialom, htouvron}@meta.com\\n†Second author\\nContributions for all the authors can be found in Section A.1.arXiv:2307.09288v2  [cs.CL]  19 Jul 2023'"
      ]
     },
     "execution_count": 30,
     "metadata": {},
     "output_type": "execute_result"
    }
   ],
   "source": [
    "documents[0].page_content"
   ]
  },
  {
   "cell_type": "code",
   "execution_count": 31,
   "metadata": {},
   "outputs": [
    {
     "data": {
      "text/plain": [
       "{'source': 'E:\\\\2025\\\\Generative_AI\\\\Course\\\\genai-bootcamp\\\\data\\\\llama2.pdf',\n",
       " 'page': 0}"
      ]
     },
     "execution_count": 31,
     "metadata": {},
     "output_type": "execute_result"
    }
   ],
   "source": [
    "documents[0].metadata"
   ]
  },
  {
   "cell_type": "code",
   "execution_count": 32,
   "metadata": {},
   "outputs": [
    {
     "data": {
      "text/plain": [
       "Document(metadata={'source': 'E:\\\\2025\\\\Generative_AI\\\\Course\\\\genai-bootcamp\\\\data\\\\llama2.pdf', 'page': 0}, page_content='Llama 2 : Open Foundation and Fine-Tuned Chat Models\\nHugo Touvron∗Louis Martin†Kevin Stone†\\nPeter Albert Amjad Almahairi Yasmine Babaei Nikolay Bashlykov Soumya Batra\\nPrajjwal Bhargava Shruti Bhosale Dan Bikel Lukas Blecher Cristian Canton Ferrer Moya Chen\\nGuillem Cucurull David Esiobu Jude Fernandes Jeremy Fu Wenyin Fu Brian Fuller\\nCynthia Gao Vedanuj Goswami Naman Goyal Anthony Hartshorn Saghar Hosseini Rui Hou\\nHakan Inan Marcin Kardas Viktor Kerkez Madian Khabsa Isabel Kloumann Artem Korenev\\nPunit Singh Koura Marie-Anne Lachaux Thibaut Lavril Jenya Lee Diana Liskovich\\nYinghai Lu Yuning Mao Xavier Martinet Todor Mihaylov Pushkar Mishra\\nIgor Molybog Yixin Nie Andrew Poulton Jeremy Reizenstein Rashi Rungta Kalyan Saladi\\nAlan Schelten Ruan Silva Eric Michael Smith Ranjan Subramanian Xiaoqing Ellen Tan Binh Tang\\nRoss Taylor Adina Williams Jian Xiang Kuan Puxin Xu Zheng Yan Iliyan Zarov Yuchen Zhang\\nAngela Fan Melanie Kambadur Sharan Narang Aurelien Rodriguez Robert Stojnic\\nSergey Edunov Thomas Scialom∗\\nGenAI, Meta\\nAbstract\\nIn this work, we develop and release Llama 2, a collection of pretrained and fine-tuned\\nlarge language models (LLMs) ranging in scale from 7 billion to 70 billion parameters.\\nOur fine-tuned LLMs, called Llama 2-Chat , are optimized for dialogue use cases. Our\\nmodels outperform open-source chat models on most benchmarks we tested, and based on\\nourhumanevaluationsforhelpfulnessandsafety,maybeasuitablesubstituteforclosed-\\nsource models. We provide a detailed description of our approach to fine-tuning and safety\\nimprovements of Llama 2-Chat in order to enable the community to build on our work and\\ncontribute to the responsible development of LLMs.\\n∗Equal contribution, corresponding authors: {tscialom, htouvron}@meta.com\\n†Second author\\nContributions for all the authors can be found in Section A.1.arXiv:2307.09288v2  [cs.CL]  19 Jul 2023')"
      ]
     },
     "execution_count": 32,
     "metadata": {},
     "output_type": "execute_result"
    }
   ],
   "source": [
    "documents[0]"
   ]
  },
  {
   "cell_type": "code",
   "execution_count": null,
   "metadata": {},
   "outputs": [],
   "source": []
  },
  {
   "cell_type": "markdown",
   "metadata": {},
   "source": [
    "#### Embeddings"
   ]
  },
  {
   "cell_type": "code",
   "execution_count": 33,
   "metadata": {},
   "outputs": [
    {
     "data": {
      "text/plain": [
       "True"
      ]
     },
     "execution_count": 33,
     "metadata": {},
     "output_type": "execute_result"
    }
   ],
   "source": [
    "from langchain_openai.embeddings import AzureOpenAIEmbeddings\n",
    "from dotenv import load_dotenv\n",
    "import os\n",
    "\n",
    "load_dotenv()"
   ]
  },
  {
   "cell_type": "code",
   "execution_count": 34,
   "metadata": {},
   "outputs": [],
   "source": [
    "openai_embedding = AzureOpenAIEmbeddings(\n",
    "    api_key=os.getenv('AZURE_OPENAI_API_KEY'),\n",
    "    azure_deployment=os.getenv('AZURE_EMBEDDING_DEPLOYMENT_MODEL'),\n",
    ")"
   ]
  },
  {
   "cell_type": "code",
   "execution_count": 39,
   "metadata": {},
   "outputs": [],
   "source": [
    "import faiss\n",
    "from langchain_community.vectorstores import FAISS \n",
    "from langchain_community.docstore.in_memory import InMemoryDocstore"
   ]
  },
  {
   "cell_type": "code",
   "execution_count": 36,
   "metadata": {},
   "outputs": [
    {
     "data": {
      "text/plain": [
       "'Llama 2 : Open Foundation and Fine-Tuned Chat Models\\nHugo Touvron∗Louis Martin†Kevin Stone†\\nPeter Albert Amjad Almahairi Yasmine Babaei Nikolay Bashlykov Soumya Batra\\nPrajjwal Bhargava Shruti Bhosale Dan Bikel Lukas Blecher Cristian Canton Ferrer Moya Chen\\nGuillem Cucurull David Esiobu Jude Fernandes Jeremy Fu Wenyin Fu Brian Fuller\\nCynthia Gao Vedanuj Goswami Naman Goyal Anthony Hartshorn Saghar Hosseini Rui Hou\\nHakan Inan Marcin Kardas Viktor Kerkez Madian Khabsa Isabel Kloumann Artem Korenev\\nPunit Singh Koura Marie-Anne Lachaux Thibaut Lavril Jenya Lee Diana Liskovich\\nYinghai Lu Yuning Mao Xavier Martinet Todor Mihaylov Pushkar Mishra\\nIgor Molybog Yixin Nie Andrew Poulton Jeremy Reizenstein Rashi Rungta Kalyan Saladi\\nAlan Schelten Ruan Silva Eric Michael Smith Ranjan Subramanian Xiaoqing Ellen Tan Binh Tang\\nRoss Taylor Adina Williams Jian Xiang Kuan Puxin Xu Zheng Yan Iliyan Zarov Yuchen Zhang\\nAngela Fan Melanie Kambadur Sharan Narang Aurelien Rodriguez Robert Stojnic\\nSergey Edunov Thomas Scialom∗\\nGenAI, Meta\\nAbstract\\nIn this work, we develop and release Llama 2, a collection of pretrained and fine-tuned\\nlarge language models (LLMs) ranging in scale from 7 billion to 70 billion parameters.\\nOur fine-tuned LLMs, called Llama 2-Chat , are optimized for dialogue use cases. Our\\nmodels outperform open-source chat models on most benchmarks we tested, and based on\\nourhumanevaluationsforhelpfulnessandsafety,maybeasuitablesubstituteforclosed-\\nsource models. We provide a detailed description of our approach to fine-tuning and safety\\nimprovements of Llama 2-Chat in order to enable the community to build on our work and\\ncontribute to the responsible development of LLMs.\\n∗Equal contribution, corresponding authors: {tscialom, htouvron}@meta.com\\n†Second author\\nContributions for all the authors can be found in Section A.1.arXiv:2307.09288v2  [cs.CL]  19 Jul 2023'"
      ]
     },
     "execution_count": 36,
     "metadata": {},
     "output_type": "execute_result"
    }
   ],
   "source": [
    "documents[0].page_content"
   ]
  },
  {
   "cell_type": "code",
   "execution_count": 21,
   "metadata": {},
   "outputs": [],
   "source": [
    "dim = len(openai_embedding.embed_query(documents[0].page_content))"
   ]
  },
  {
   "cell_type": "code",
   "execution_count": 40,
   "metadata": {},
   "outputs": [],
   "source": [
    "faiss_index = faiss.IndexFlatIP(dim)"
   ]
  },
  {
   "cell_type": "code",
   "execution_count": 42,
   "metadata": {},
   "outputs": [],
   "source": [
    "vector_store = FAISS(\n",
    "    embedding_function=openai_embedding,\n",
    "    index=faiss_index,\n",
    "    docstore=InMemoryDocstore(),\n",
    "    index_to_docstore_id={}\n",
    ")"
   ]
  },
  {
   "cell_type": "code",
   "execution_count": 43,
   "metadata": {},
   "outputs": [
    {
     "data": {
      "text/plain": [
       "['596c72c2-15e0-44d8-be22-e349e5c3a5da',\n",
       " '2393efb5-d3f9-4342-8c9a-9708782f097e',\n",
       " '9d6a0b1e-4634-4ed5-bf72-5b214c3f9339',\n",
       " '279a6bae-331e-40c6-affb-8f74402f5521',\n",
       " 'c5d8bbb4-9815-4f5a-8445-bad0deaeb9fa',\n",
       " '5e7c50d7-b32c-4389-a6ed-02e9164936f2',\n",
       " '43d932da-25c8-47e4-ac5e-b5bfa3fd7428',\n",
       " '9787a9db-cd4b-4242-9677-782b633d750f',\n",
       " '4e7302c7-05b1-4057-b0b6-b08e70c7e4a6',\n",
       " 'bd974558-fcaa-41d4-aa9d-2a77f34ce5d3',\n",
       " '6adc825a-d938-4865-8c4f-97e6c52e62a6',\n",
       " 'b99422fe-b4b4-4303-9867-d61c37372b86',\n",
       " 'e40aa928-4f76-47af-baf7-7d86b47a51ec',\n",
       " 'bf469859-65c3-4836-9dfe-9ca9d456e678',\n",
       " '41b2df04-5e36-43cf-9b4d-66088f361281',\n",
       " 'f7f6403e-82e5-4429-99da-c3e389d4377f',\n",
       " '8d4c366d-2c0f-4ef8-8b29-5c68795402e7',\n",
       " '379a3353-3dc3-4448-ac6f-7d3226ad230b',\n",
       " '58833967-9dad-465f-98fc-1b9bb91a2db5',\n",
       " '91f9c889-403e-478e-b960-86ccf3b6bf5c',\n",
       " '76d64237-e484-43d4-a5bc-9ceccb4b439f',\n",
       " '34e3b288-cbed-4b75-97d5-e6596cd1d3ea',\n",
       " '60af069e-1cdd-4ffc-bb6d-2cd989fc95a6',\n",
       " '3da46343-4833-4783-87ba-63125cf540a2',\n",
       " 'cb20d95f-ca7e-4e5b-9d27-65169bc9f450',\n",
       " 'cf56274d-fdbf-4f28-a886-f5e7e8959488',\n",
       " '7e85beb4-0fdc-42f1-a1ff-890eff611ce9',\n",
       " '04caf326-c9e7-4b37-8656-43dcd9ffeed6',\n",
       " 'cb8b1c2e-2d69-4c78-9e3b-931a41ff2c80',\n",
       " 'e80e08b3-7865-41a7-9f61-a4f14b31a52b',\n",
       " '3b9d7421-ca97-487e-bc4c-1a1ed1743445',\n",
       " 'a08615d9-d53d-4c1a-9ff8-a182d433b271',\n",
       " 'ce7282dd-e504-4440-82d1-4c7cf5aba089',\n",
       " '5cf15bf4-d5f4-40b6-8cf5-3f6045167977',\n",
       " '697578f6-b841-45c5-8775-f61354d8515c',\n",
       " '40366992-8137-4ab8-8807-226cfc08ef81',\n",
       " 'd88eb49c-6267-46c9-b947-8a39ff3015f4',\n",
       " '6b83ecc0-a6c2-4c5f-b6e1-916f17fbb87b',\n",
       " '26d3cdb6-fdd0-47f5-8533-8f0d62e13e7d',\n",
       " '819dd4bc-7b66-46b0-b7cb-207609121dba',\n",
       " 'c99efb9f-570c-4e70-8500-0920a43b0f0c',\n",
       " '7dade70f-a011-428c-9987-2ac8a4c52651',\n",
       " '3aa62219-a7c5-4266-aa14-8d39b445c721',\n",
       " '4916045e-befe-4cec-8af7-259c58faac27',\n",
       " '6341b4fe-d766-470d-b44a-abc5c1229342',\n",
       " 'd029ff60-49ee-4df4-99b1-23e837d0192f',\n",
       " '1a102cb3-d041-4dde-af31-13f2fd5911be',\n",
       " 'b0c3dcc7-144a-4385-947d-ab9b1b33b40b',\n",
       " '825fe71d-c617-474c-a8e7-c2e0b62899aa',\n",
       " '684b20d8-7b3d-4cfa-b113-493b0b65622c',\n",
       " '0f234650-c032-4f9d-83c8-63727449c980',\n",
       " 'eb8d9ba1-be34-441d-8397-73e5b2358e16',\n",
       " 'b24ba5da-ff2e-46bc-bad6-dc254e0d23bf',\n",
       " 'd29dd633-166d-4d12-99c0-eede7b31b1b3',\n",
       " 'a5bd98e1-83ed-453a-b13a-aff043155aeb',\n",
       " 'dbb7a0cb-8249-4b60-ad91-8d29fe3eb382',\n",
       " 'c59ff727-88f6-419e-8503-cda6cb36a837',\n",
       " '4dfcf882-582f-4681-9243-bf13301eab8c',\n",
       " '34ba7fe8-3dbf-447e-a16a-0229c65bb86b',\n",
       " '4ae8d16d-79a4-4a40-8594-1ea3c3f1c1bc',\n",
       " 'cebed915-7221-4be4-9b41-d08a3fe1cd80',\n",
       " 'daaaf962-ce81-431f-9e2d-018a0d0dc18f',\n",
       " 'e3161f74-b640-49df-b75a-092b6cbfb21c',\n",
       " '58d5c584-a0a3-4fdd-9777-d46b9833c41f',\n",
       " 'adda7576-cc56-4eb9-a422-6a12d919463a',\n",
       " '35358520-dd77-455d-82d6-11d1f5c369fd',\n",
       " '9b72ad92-3b0c-4a0a-9736-7b9614480f62',\n",
       " 'de807129-cc79-4e81-976f-2a458d5bd618',\n",
       " '300154e1-573a-4199-8179-c0ef7c0ccc32',\n",
       " '6bbedb87-869d-49a1-b969-e4059ca4d6f3',\n",
       " '29ce8d5f-3b16-4e51-8c44-b7c69a770296',\n",
       " '900b1c85-18a0-454a-af7d-f212811a6334',\n",
       " '85047e90-f9ea-4880-9a4b-ffd50854f11f',\n",
       " 'a8ec2cf4-1cd4-49e7-9bdf-bb13f624a091',\n",
       " '790e782c-f628-4ade-a469-d0f70b6917bf',\n",
       " '586beb05-bfc3-420d-bc06-713df42ed195',\n",
       " '14116d7c-2d8b-4111-86dd-26f452161c41']"
      ]
     },
     "execution_count": 43,
     "metadata": {},
     "output_type": "execute_result"
    }
   ],
   "source": [
    "vector_store.add_documents(documents)"
   ]
  },
  {
   "cell_type": "code",
   "execution_count": 45,
   "metadata": {},
   "outputs": [
    {
     "data": {
      "text/plain": [
       "[Document(id='c5d8bbb4-9815-4f5a-8445-bad0deaeb9fa', metadata={'source': 'E:\\\\2025\\\\Generative_AI\\\\Course\\\\genai-bootcamp\\\\data\\\\llama2.pdf', 'page': 4}, page_content='Figure4: Trainingof Llama 2-Chat : Thisprocessbeginswiththe pretraining ofLlama 2 usingpublicly\\navailableonlinesources. Followingthis,wecreateaninitialversionof Llama 2-Chat throughtheapplication\\nofsupervised fine-tuning . Subsequently, the model is iteratively refined using Reinforcement Learning\\nwith Human Feedback (RLHF) methodologies, specifically through rejection sampling and Proximal Policy\\nOptimization(PPO).ThroughouttheRLHFstage,theaccumulationof iterativerewardmodelingdata in\\nparallel with model enhancements is crucial to ensure the reward models remain within distribution.\\n2 Pretraining\\nTocreatethenewfamilyof Llama 2models,webeganwiththepretrainingapproachdescribedinTouvronetal.\\n(2023), using an optimized auto-regressive transformer, but made several changes to improve performance.\\nSpecifically,weperformedmorerobustdatacleaning,updatedourdatamixes,trainedon40%moretotal\\ntokens,doubledthecontextlength,andusedgrouped-queryattention(GQA)toimproveinferencescalability\\nfor our larger models. Table 1 compares the attributes of the new Llama 2 models with the Llama 1 models.\\n2.1 Pretraining Data\\nOur training corpus includes a new mix of data from publicly available sources, which does not include data\\nfromMeta’sproductsorservices. Wemadeanefforttoremovedatafromcertainsitesknowntocontaina\\nhighvolumeofpersonalinformationaboutprivateindividuals. Wetrainedon2trilliontokensofdataasthis\\nprovidesagoodperformance–costtrade-off,up-samplingthemostfactualsourcesinanefforttoincrease\\nknowledge and dampen hallucinations.\\nWeperformedavarietyofpretrainingdatainvestigationssothatuserscanbetterunderstandthepotential\\ncapabilities and limitations of our models; results can be found in Section 4.1.\\n2.2 Training Details\\nWe adopt most of the pretraining setting and model architecture from Llama 1 . We use the standard\\ntransformer architecture (Vaswani et al., 2017), apply pre-normalization using RMSNorm (Zhang and\\nSennrich, 2019), use the SwiGLU activation function (Shazeer, 2020), and rotary positional embeddings\\n(RoPE, Su et al. 2022). The primary architectural differences from Llama 1 include increased context length\\nandgrouped-queryattention(GQA).WedetailinAppendixSectionA.2.1eachofthesedifferenceswith\\nablation experiments to demonstrate their importance.\\nHyperparameters. We trained using the AdamW optimizer (Loshchilov and Hutter, 2017), with β1=\\n0.9, β2= 0.95,eps= 10−5. We use a cosine learning rate schedule, with warmup of 2000 steps, and decay\\nfinallearningratedownto10%ofthepeaklearningrate. Weuseaweightdecayof 0.1andgradientclipping\\nof1.0. Figure 5 (a) shows the training loss for Llama 2 with these hyperparameters.\\n5')]"
      ]
     },
     "execution_count": 45,
     "metadata": {},
     "output_type": "execute_result"
    }
   ],
   "source": [
    "vector_store.similarity_search(\n",
    "    query=\"what is llama2 and what is the difference between llama2 and mistral?\",\n",
    "    k=1\n",
    ")"
   ]
  },
  {
   "cell_type": "markdown",
   "metadata": {},
   "source": [
    "## Pinecone VectorDB"
   ]
  },
  {
   "cell_type": "code",
   "execution_count": 1,
   "metadata": {},
   "outputs": [],
   "source": [
    "# ! pip install pinecone-client"
   ]
  },
  {
   "cell_type": "code",
   "execution_count": 2,
   "metadata": {},
   "outputs": [],
   "source": [
    "from langchain.document_loaders import PyPDFDirectoryLoader\n",
    "from langchain_text_splitters import RecursiveCharacterTextSplitter\n",
    "from langchain.vectorstores import Pinecone"
   ]
  },
  {
   "cell_type": "code",
   "execution_count": 3,
   "metadata": {},
   "outputs": [],
   "source": [
    "path = \"E:\\\\2025\\\\Generative_AI\\\\Course\\\\genai-bootcamp\\\\data\"\n",
    "\n",
    "loader = PyPDFDirectoryLoader(path)\n",
    "documents = loader.load()"
   ]
  },
  {
   "cell_type": "code",
   "execution_count": 5,
   "metadata": {},
   "outputs": [
    {
     "data": {
      "text/plain": [
       "107"
      ]
     },
     "execution_count": 5,
     "metadata": {},
     "output_type": "execute_result"
    }
   ],
   "source": [
    "len(documents)"
   ]
  },
  {
   "cell_type": "code",
   "execution_count": 6,
   "metadata": {},
   "outputs": [
    {
     "data": {
      "text/plain": [
       "Document(metadata={'source': 'E:\\\\2025\\\\Generative_AI\\\\Course\\\\genai-bootcamp\\\\data\\\\llama2.pdf', 'page': 0}, page_content='Llama 2 : Open Foundation and Fine-Tuned Chat Models\\nHugo Touvron∗Louis Martin†Kevin Stone†\\nPeter Albert Amjad Almahairi Yasmine Babaei Nikolay Bashlykov Soumya Batra\\nPrajjwal Bhargava Shruti Bhosale Dan Bikel Lukas Blecher Cristian Canton Ferrer Moya Chen\\nGuillem Cucurull David Esiobu Jude Fernandes Jeremy Fu Wenyin Fu Brian Fuller\\nCynthia Gao Vedanuj Goswami Naman Goyal Anthony Hartshorn Saghar Hosseini Rui Hou\\nHakan Inan Marcin Kardas Viktor Kerkez Madian Khabsa Isabel Kloumann Artem Korenev\\nPunit Singh Koura Marie-Anne Lachaux Thibaut Lavril Jenya Lee Diana Liskovich\\nYinghai Lu Yuning Mao Xavier Martinet Todor Mihaylov Pushkar Mishra\\nIgor Molybog Yixin Nie Andrew Poulton Jeremy Reizenstein Rashi Rungta Kalyan Saladi\\nAlan Schelten Ruan Silva Eric Michael Smith Ranjan Subramanian Xiaoqing Ellen Tan Binh Tang\\nRoss Taylor Adina Williams Jian Xiang Kuan Puxin Xu Zheng Yan Iliyan Zarov Yuchen Zhang\\nAngela Fan Melanie Kambadur Sharan Narang Aurelien Rodriguez Robert Stojnic\\nSergey Edunov Thomas Scialom∗\\nGenAI, Meta\\nAbstract\\nIn this work, we develop and release Llama 2, a collection of pretrained and fine-tuned\\nlarge language models (LLMs) ranging in scale from 7 billion to 70 billion parameters.\\nOur fine-tuned LLMs, called Llama 2-Chat , are optimized for dialogue use cases. Our\\nmodels outperform open-source chat models on most benchmarks we tested, and based on\\nourhumanevaluationsforhelpfulnessandsafety,maybeasuitablesubstituteforclosed-\\nsource models. We provide a detailed description of our approach to fine-tuning and safety\\nimprovements of Llama 2-Chat in order to enable the community to build on our work and\\ncontribute to the responsible development of LLMs.\\n∗Equal contribution, corresponding authors: {tscialom, htouvron}@meta.com\\n†Second author\\nContributions for all the authors can be found in Section A.1.arXiv:2307.09288v2  [cs.CL]  19 Jul 2023')"
      ]
     },
     "execution_count": 6,
     "metadata": {},
     "output_type": "execute_result"
    }
   ],
   "source": [
    "documents[0]"
   ]
  },
  {
   "cell_type": "code",
   "execution_count": 7,
   "metadata": {},
   "outputs": [
    {
     "data": {
      "text/plain": [
       "1880"
      ]
     },
     "execution_count": 7,
     "metadata": {},
     "output_type": "execute_result"
    }
   ],
   "source": [
    "len(documents[0].page_content)"
   ]
  },
  {
   "cell_type": "code",
   "execution_count": 10,
   "metadata": {},
   "outputs": [],
   "source": [
    "text_splitter = RecursiveCharacterTextSplitter(chunk_size=500, chunk_overlap=50)\n",
    "text_chunks = text_splitter.split_documents(documents=documents)"
   ]
  },
  {
   "cell_type": "code",
   "execution_count": 11,
   "metadata": {},
   "outputs": [
    {
     "data": {
      "text/plain": [
       "781"
      ]
     },
     "execution_count": 11,
     "metadata": {},
     "output_type": "execute_result"
    }
   ],
   "source": [
    "len(text_chunks)"
   ]
  },
  {
   "cell_type": "code",
   "execution_count": 12,
   "metadata": {},
   "outputs": [],
   "source": [
    "from langchain_google_genai import GoogleGenerativeAIEmbeddings"
   ]
  },
  {
   "cell_type": "code",
   "execution_count": 13,
   "metadata": {},
   "outputs": [],
   "source": [
    "google_embedding = GoogleGenerativeAIEmbeddings(model=\"models/embedding-001\")"
   ]
  },
  {
   "cell_type": "code",
   "execution_count": 14,
   "metadata": {},
   "outputs": [
    {
     "data": {
      "text/plain": [
       "Document(metadata={'source': 'E:\\\\2025\\\\Generative_AI\\\\Course\\\\genai-bootcamp\\\\data\\\\llama2.pdf', 'page': 0}, page_content='Llama 2 : Open Foundation and Fine-Tuned Chat Models\\nHugo Touvron∗Louis Martin†Kevin Stone†\\nPeter Albert Amjad Almahairi Yasmine Babaei Nikolay Bashlykov Soumya Batra\\nPrajjwal Bhargava Shruti Bhosale Dan Bikel Lukas Blecher Cristian Canton Ferrer Moya Chen\\nGuillem Cucurull David Esiobu Jude Fernandes Jeremy Fu Wenyin Fu Brian Fuller\\nCynthia Gao Vedanuj Goswami Naman Goyal Anthony Hartshorn Saghar Hosseini Rui Hou\\nHakan Inan Marcin Kardas Viktor Kerkez Madian Khabsa Isabel Kloumann Artem Korenev')"
      ]
     },
     "execution_count": 14,
     "metadata": {},
     "output_type": "execute_result"
    }
   ],
   "source": [
    "text_chunks[0]"
   ]
  },
  {
   "cell_type": "code",
   "execution_count": 19,
   "metadata": {},
   "outputs": [],
   "source": [
    "embed = google_embedding.embed_query(text_chunks[0].page_content)"
   ]
  },
  {
   "cell_type": "code",
   "execution_count": 20,
   "metadata": {},
   "outputs": [
    {
     "data": {
      "text/plain": [
       "768"
      ]
     },
     "execution_count": 20,
     "metadata": {},
     "output_type": "execute_result"
    }
   ],
   "source": [
    "len(embed)"
   ]
  },
  {
   "cell_type": "markdown",
   "metadata": {},
   "source": [
    "### Configure Pinecone client"
   ]
  },
  {
   "cell_type": "code",
   "execution_count": 24,
   "metadata": {},
   "outputs": [
    {
     "data": {
      "text/plain": [
       "True"
      ]
     },
     "execution_count": 24,
     "metadata": {},
     "output_type": "execute_result"
    }
   ],
   "source": [
    "import pinecone\n",
    "import os \n",
    "from dotenv import load_dotenv\n",
    "\n",
    "load_dotenv()"
   ]
  },
  {
   "cell_type": "code",
   "execution_count": 25,
   "metadata": {},
   "outputs": [],
   "source": [
    "from pinecone import Pinecone, ServerlessSpec\n",
    "\n",
    "pinecone_api_key = os.getenv('PINECONE_API_KEY')\n",
    "pc = Pinecone(api_key=pinecone_api_key)"
   ]
  },
  {
   "cell_type": "code",
   "execution_count": 47,
   "metadata": {},
   "outputs": [],
   "source": [
    "import time\n",
    "\n",
    "index_name = \"quickstart2\"\n",
    "\n",
    "existing_indexes = [index_info['name'] for index_info in pc.list_indexes()]\n",
    "\n",
    "if index_name not in existing_indexes:\n",
    "    pc.create_index(\n",
    "        name=index_name,\n",
    "        dimension=768, # Replace with your model dimensions\n",
    "        metric=\"cosine\", # Replace with your model metric\n",
    "        spec=ServerlessSpec(\n",
    "            cloud=\"aws\",\n",
    "            region=\"us-east-1\"\n",
    "        ) \n",
    "    )\n",
    "    while not pc.describe_index(index_name).status['ready']:\n",
    "        time.sleep(1)\n",
    "        \n",
    "index = pc.Index(index_name)"
   ]
  },
  {
   "cell_type": "code",
   "execution_count": 42,
   "metadata": {},
   "outputs": [],
   "source": [
    "from langchain_pinecone import PineconeVectorStore\n",
    "\n",
    "vectorstore_from_docs = PineconeVectorStore.from_documents(\n",
    "    text_chunks,\n",
    "    index_name=index_name,\n",
    "    embedding=google_embedding\n",
    ")"
   ]
  },
  {
   "cell_type": "code",
   "execution_count": 43,
   "metadata": {},
   "outputs": [],
   "source": [
    "vectorstore = PineconeVectorStore(index_name=index_name, embedding=google_embedding)"
   ]
  },
  {
   "cell_type": "code",
   "execution_count": 44,
   "metadata": {},
   "outputs": [
    {
     "data": {
      "text/plain": [
       "[Document(id='e27b28a4-1ec1-4466-a9c3-22762877799b', metadata={'page': 76.0, 'source': 'E:\\\\2025\\\\Generative_AI\\\\Course\\\\genai-bootcamp\\\\data\\\\llama2.pdf'}, page_content='Llama 2 is a new technology that carries risks with use. Testing conducted to date has been in\\nEnglish, and has notcovered, nor could it coverall scenarios. For these reasons, aswith all LLMs,\\nLlama 2’s potential outputs cannot be predicted in advance, and the model may in some instances\\nproduceinaccurateorobjectionableresponsestouserprompts. Therefore,beforedeployingany\\napplications of Llama 2, developers should perform safety testing and tuning tailored to their'),\n",
       " Document(id='ddfeb9d9-8099-48c3-ba96-8d28b49d831f', metadata={'page': 2.0, 'source': 'E:\\\\2025\\\\Generative_AI\\\\Course\\\\genai-bootcamp\\\\data\\\\llama2.pdf'}, page_content='preferences, which greatly enhances their usability and safety. This step can require significant costs in\\ncomputeandhumanannotation,andisoftennottransparentoreasilyreproducible,limitingprogresswithin\\nthe community to advance AI alignment research.\\nIn this work, we develop and release Llama 2, a family of pretrained and fine-tuned LLMs, Llama 2 and\\nLlama 2-Chat , at scales up to 70B parameters. On the series of helpfulness and safety benchmarks we tested,'),\n",
       " Document(id='b2cab319-afa5-4518-a69b-c17c98422ee5', metadata={'page': 3.0, 'source': 'E:\\\\2025\\\\Generative_AI\\\\Course\\\\genai-bootcamp\\\\data\\\\llama2.pdf'}, page_content='7B,13B,and70Bparameters. Wehavealsotrained34Bvariants,whichwereportoninthispaper\\nbut are not releasing.§\\n2.Llama 2-Chat , a fine-tuned version of Llama 2 that is optimized for dialogue use cases. We release\\nvariants of this model with 7B, 13B, and 70B parameters as well.\\nWebelievethattheopenreleaseofLLMs,whendonesafely,willbeanetbenefittosociety. LikeallLLMs,\\nLlama 2 is a new technology that carries potential risks with use (Bender et al., 2021b; Weidinger et al., 2021;'),\n",
       " Document(id='db07d615-6028-462c-b6ba-e96479266213', metadata={'page': 0.0, 'source': 'E:\\\\2025\\\\Generative_AI\\\\Course\\\\genai-bootcamp\\\\data\\\\llama2.pdf'}, page_content='Sergey Edunov Thomas Scialom∗\\nGenAI, Meta\\nAbstract\\nIn this work, we develop and release Llama 2, a collection of pretrained and fine-tuned\\nlarge language models (LLMs) ranging in scale from 7 billion to 70 billion parameters.\\nOur fine-tuned LLMs, called Llama 2-Chat , are optimized for dialogue use cases. Our\\nmodels outperform open-source chat models on most benchmarks we tested, and based on\\nourhumanevaluationsforhelpfulnessandsafety,maybeasuitablesubstituteforclosed-')]"
      ]
     },
     "execution_count": 44,
     "metadata": {},
     "output_type": "execute_result"
    }
   ],
   "source": [
    "query = \"about llama2\"\n",
    "vectorstore.similarity_search(query)"
   ]
  },
  {
   "cell_type": "markdown",
   "metadata": {},
   "source": [
    "#### from_text"
   ]
  },
  {
   "cell_type": "code",
   "execution_count": null,
   "metadata": {},
   "outputs": [],
   "source": [
    "# texts =[text_chunk.page_content for text_chunk in text_chunks]\n",
    "\n",
    "# vectorstore_from_texts = PineconeVectorStore.from_texts(\n",
    "#     texts,\n",
    "#     index_name=index_name,\n",
    "#     embedding=google_embedding\n",
    "# )"
   ]
  },
  {
   "cell_type": "markdown",
   "metadata": {},
   "source": [
    "########## uuid"
   ]
  },
  {
   "cell_type": "code",
   "execution_count": 48,
   "metadata": {},
   "outputs": [],
   "source": [
    "from langchain_pinecone import PineconeVectorStore\n",
    "\n",
    "vector_store = PineconeVectorStore(index=index, embedding=google_embedding)"
   ]
  },
  {
   "cell_type": "code",
   "execution_count": 49,
   "metadata": {},
   "outputs": [],
   "source": [
    "from uuid import uuid4"
   ]
  },
  {
   "cell_type": "code",
   "execution_count": 50,
   "metadata": {},
   "outputs": [],
   "source": [
    "uuids = [str(uuid4()) for _ in range(len(text_chunks))]"
   ]
  },
  {
   "cell_type": "code",
   "execution_count": 52,
   "metadata": {},
   "outputs": [
    {
     "data": {
      "text/plain": [
       "781"
      ]
     },
     "execution_count": 52,
     "metadata": {},
     "output_type": "execute_result"
    }
   ],
   "source": [
    "len(uuids)"
   ]
  },
  {
   "cell_type": "code",
   "execution_count": 53,
   "metadata": {},
   "outputs": [
    {
     "data": {
      "text/plain": [
       "Document(metadata={'source': 'E:\\\\2025\\\\Generative_AI\\\\Course\\\\genai-bootcamp\\\\data\\\\llama2.pdf', 'page': 0, 'text': 'Llama 2 : Open Foundation and Fine-Tuned Chat Models\\nHugo Touvron∗Louis Martin†Kevin Stone†\\nPeter Albert Amjad Almahairi Yasmine Babaei Nikolay Bashlykov Soumya Batra\\nPrajjwal Bhargava Shruti Bhosale Dan Bikel Lukas Blecher Cristian Canton Ferrer Moya Chen\\nGuillem Cucurull David Esiobu Jude Fernandes Jeremy Fu Wenyin Fu Brian Fuller\\nCynthia Gao Vedanuj Goswami Naman Goyal Anthony Hartshorn Saghar Hosseini Rui Hou\\nHakan Inan Marcin Kardas Viktor Kerkez Madian Khabsa Isabel Kloumann Artem Korenev'}, page_content='Llama 2 : Open Foundation and Fine-Tuned Chat Models\\nHugo Touvron∗Louis Martin†Kevin Stone†\\nPeter Albert Amjad Almahairi Yasmine Babaei Nikolay Bashlykov Soumya Batra\\nPrajjwal Bhargava Shruti Bhosale Dan Bikel Lukas Blecher Cristian Canton Ferrer Moya Chen\\nGuillem Cucurull David Esiobu Jude Fernandes Jeremy Fu Wenyin Fu Brian Fuller\\nCynthia Gao Vedanuj Goswami Naman Goyal Anthony Hartshorn Saghar Hosseini Rui Hou\\nHakan Inan Marcin Kardas Viktor Kerkez Madian Khabsa Isabel Kloumann Artem Korenev')"
      ]
     },
     "execution_count": 53,
     "metadata": {},
     "output_type": "execute_result"
    }
   ],
   "source": [
    "text_chunks[0]"
   ]
  },
  {
   "cell_type": "code",
   "execution_count": 54,
   "metadata": {},
   "outputs": [
    {
     "data": {
      "text/plain": [
       "'85179c14-14a8-4f6a-a9ea-1968c3882716'"
      ]
     },
     "execution_count": 54,
     "metadata": {},
     "output_type": "execute_result"
    }
   ],
   "source": [
    "uuids[0]"
   ]
  },
  {
   "cell_type": "code",
   "execution_count": 55,
   "metadata": {},
   "outputs": [
    {
     "data": {
      "text/plain": [
       "['85179c14-14a8-4f6a-a9ea-1968c3882716',\n",
       " '32c07aac-5636-4918-a508-bd83cdbe003a',\n",
       " '367b275f-298e-44f8-9850-63a31d680fc1',\n",
       " '64003c76-e412-4ab9-8a00-94ba4130aaab',\n",
       " 'a58bde2c-ea00-458f-86fd-dcb1a569230a',\n",
       " '0acd4797-239c-4ddc-af13-985ff0fed0ae',\n",
       " '13a09696-f80d-47c2-a747-65f2d951c98a',\n",
       " 'af085621-fc00-4249-ab9c-97d333c20ae3',\n",
       " 'd19c6451-e724-4c8b-ab8f-d3058d91cff9',\n",
       " '82ed649a-36ea-49d2-85cb-48bef0ee7e4a',\n",
       " 'b6af8976-4bac-4167-821b-36017a983aa7',\n",
       " '0f1ddbda-ac78-4dce-a77e-18d1e32049a2',\n",
       " 'b3d32ea8-bb42-4693-8096-28beebe6853d',\n",
       " 'd0f2c491-2cea-410a-8c3d-e9056f4b26ef',\n",
       " '2bfb89ec-4cf4-47ec-a919-d4ccb6160459',\n",
       " '42cbaa9e-767c-4346-aa4d-c2960c2adecb',\n",
       " '6ad4c903-b3b9-4f5a-b8ca-132aa67a9182',\n",
       " '3fde4a1e-e610-4a27-a282-7cc9447e1079',\n",
       " '6df627f5-26aa-431a-9985-badacc218d5d',\n",
       " 'bb78f960-b6a0-4f01-8cbb-f28134e967cd',\n",
       " 'de95fcbc-52dc-4024-b9e3-2e2aad500011',\n",
       " 'c2822464-d07f-4008-9599-19886bda502b',\n",
       " 'ae5ac3a4-e7d6-4f8c-997b-4bea4776cd84',\n",
       " '598d2c12-af8c-44a3-bc15-6e8b7451b0ce',\n",
       " 'fbc60eec-1ec7-46ee-913e-2b8ae23f8539',\n",
       " '6fb0b6a1-b89f-4628-ba76-378fa56197f2',\n",
       " '1dc0c53c-5019-471b-968c-1c25406c1d81',\n",
       " '91cae43b-bf59-459a-8a43-3122ce217764',\n",
       " 'd522b2a5-811f-41c0-9cae-5c1ae5e0b055',\n",
       " 'a13dbb84-59cf-4752-aea8-199ce6b6d833',\n",
       " '7ed7e1e8-de8b-4faf-998c-588165306716',\n",
       " '7c93f356-39ad-4b65-932b-01ae85f8481c',\n",
       " '7e449c6a-30ba-4d43-aeb7-debe84f5a4d9',\n",
       " '187c598a-7e30-4c40-8083-f9944f732189',\n",
       " '91f098fa-e507-4b98-8eca-499c1e60fd7e',\n",
       " '2acca12e-8022-4349-aa84-6b1ecff3b904',\n",
       " 'e809d4e0-9682-46d6-abd5-d3246e548241',\n",
       " 'b059b981-3d15-43b3-b720-7520de0e60f0',\n",
       " '4cc85d9a-11d8-4054-a52b-c4736fd1e47f',\n",
       " '383f72fe-9e9c-4596-bfd6-71ceead1e704',\n",
       " 'fa7f98ec-046a-4645-b6d4-8ea75da08af4',\n",
       " 'aa52f678-ca26-4936-aac1-a3d9d01308d1',\n",
       " '99a0ae25-e406-4313-86f2-5a4be4127dea',\n",
       " 'a11408fb-5de4-4e25-92d7-5c1ba1a7c0b8',\n",
       " '8e08ebc0-7cae-4d6c-aeba-13975ec022a4',\n",
       " 'a1b78421-86ea-4dd6-8a06-e103f7a48055',\n",
       " '879360b6-f5b9-4654-85a0-0f20c451d1d0',\n",
       " 'b22eb38d-acd0-49b6-a635-77172a352acd',\n",
       " '6f092fdf-b80a-4737-b326-a373fa730dd9',\n",
       " '333e8856-6672-41c1-b316-46be2d7efe53',\n",
       " '5e6841da-d20c-4bdc-835d-42970407ece9',\n",
       " '778438ca-fad0-405b-be5d-6a7662052a9b',\n",
       " '175d825a-0eb9-4bb0-8a65-b1caa5c18934',\n",
       " 'd2d71c89-fe6b-49fe-acf4-b25ae4ea200c',\n",
       " 'b18c6db2-daab-4ffc-8e6b-91db0901ead6',\n",
       " 'bbd6ed7d-15fc-45c4-a12a-ffadb3ab436c',\n",
       " 'd0771c55-16ae-44f3-aced-a50bd209fc84',\n",
       " '91fa093a-3044-4588-891c-6c628a9a2cfd',\n",
       " 'f7af35ba-564f-435c-9b5a-4b1a9a5b67d3',\n",
       " '30fb68de-53e5-4a58-aab9-2e6b39127744',\n",
       " '646c2f59-06fd-4112-839f-26193270a444',\n",
       " 'bec0ddbf-54fc-4838-a2e8-171defdf24b0',\n",
       " '69b12107-a23f-4b71-96e3-1f47f84d9f15',\n",
       " '13805e3f-0f3b-4c85-a895-85ddcf01e415',\n",
       " 'd9b8821f-ac4c-46d2-b8b5-79c72589e572',\n",
       " '36f2aa50-1f65-4d82-8b73-0260d5507506',\n",
       " '4607a8f8-fbb4-4f12-9a88-f40c1e4b2b9e',\n",
       " 'd730a788-acc8-4dbc-94e8-c53f0bfb11b0',\n",
       " 'f32f9c07-db86-4521-8320-86f53da0bf4b',\n",
       " 'a40171ea-f26b-4839-9895-800373967eae',\n",
       " '24a97008-b9f6-48d9-afe9-9b1bc0fa35ce',\n",
       " '23774791-9a14-410e-9cb6-7deaa6d09883',\n",
       " '1e420b9b-7a03-439b-8119-4666ae8e8da1',\n",
       " 'a7cc0896-e180-4013-a501-ba632d610c39',\n",
       " '8c9d7c5d-d24e-4e8f-b8b2-7fa1486347d4',\n",
       " '999da62b-2dcd-49d5-848d-8064df2a3263',\n",
       " '9d2637af-1fee-41b5-98c9-90f6c24ec64b',\n",
       " '14b47770-f3e1-43b9-9fb9-62389be9c7c8',\n",
       " 'e29d80df-7a01-405b-8cf7-22b49bddc73d',\n",
       " 'a700129b-9c1e-4b76-b615-d513182cae07',\n",
       " 'a4086098-e2d7-4502-be60-4394461e5e1b',\n",
       " '103df5f4-d56a-4b97-a77b-370f9b54ee92',\n",
       " '5fc74cb7-36cd-4027-b2c9-08465fbe0011',\n",
       " 'e7bb11bd-1f16-4228-9a17-543869c694d6',\n",
       " '9209245c-d6a8-4854-a6af-9144799b75dc',\n",
       " '74ca1b32-6007-47ad-be59-f681c08e4ef2',\n",
       " 'fefb63a4-14ac-4190-876b-518246fc2331',\n",
       " '7e928ea2-e062-4a4f-a98e-4c32daf07989',\n",
       " '6a8dc255-31f7-4589-abc6-5388e8b08f38',\n",
       " '185ed7d6-d532-49fb-bc8a-179bdb2f1293',\n",
       " 'bf9ca8b7-e167-4bb9-9f45-7aaa64842f54',\n",
       " '86994364-b5f7-4056-a472-a6a5e11a07ce',\n",
       " 'c92e43de-6fa2-45ea-b4ec-ddb156f5bff6',\n",
       " '8d81a391-8745-44c4-8783-c2b0a90f4e0c',\n",
       " '4ec06a90-7846-475c-9c1f-d85fb177ef61',\n",
       " '4982787a-04e8-4982-95ee-bf7a3ba52889',\n",
       " '0dffc855-4232-493d-aef5-c64f56bb2bb7',\n",
       " '3519b226-481b-48ec-bca8-37a83fcf1d4e',\n",
       " '947f0f87-d86a-4054-b791-ad433ab224c7',\n",
       " 'cb259251-31dd-4af5-917e-8ed5804b4f96',\n",
       " '626418a5-fb58-4972-ab18-ca9d04984985',\n",
       " 'd0bdc520-6c63-4973-b877-39584a65be82',\n",
       " '391bf9e0-483f-4554-ace7-095bd5c36a21',\n",
       " 'ca7c6800-0a6b-4eeb-bb5b-15aec2a83c5c',\n",
       " '843d7393-1942-4877-b6d6-e3c73ef72b95',\n",
       " 'de66e8c8-41f1-473e-811e-2579837b9d29',\n",
       " '7f2e8b4d-a93b-4154-b53f-0711c088d143',\n",
       " '172ce722-2cae-4c02-9dac-d28fb87054dd',\n",
       " '311aba63-f958-4805-8624-9af32987e45b',\n",
       " '1cd78118-3c70-4e18-9335-5f1455a7acc7',\n",
       " '0a664b39-cdd4-49ad-94ad-9e452e54bd86',\n",
       " 'bb47c6a3-0bc5-4b22-985a-91d69ba1ccba',\n",
       " 'a607592a-ec37-4e04-9d81-c4cd82419daa',\n",
       " 'c095db8d-b2f1-450c-90ac-16fc7d1e8f68',\n",
       " '2fc7b7d4-1bcb-4aa5-bbb5-f70396e02ca8',\n",
       " 'e458a21a-727b-431f-9ea1-79465fad668b',\n",
       " '26f777f2-09d6-4ed1-9fb0-7675cab5fdf1',\n",
       " '86eab28a-65e2-4959-894b-3ad6d4f1fb7b',\n",
       " '06944507-2dfd-43a0-a509-7c4b1fab4aca',\n",
       " '96e33d30-c21e-49f6-8326-58eff42f644e',\n",
       " '030abfb3-f18d-4b7f-a2ba-5c19d8ab2779',\n",
       " '111dba5e-4692-436f-a7f9-7a6381e1ecd9',\n",
       " 'b9a321c8-aaf7-4c93-81e1-7a6de3847624',\n",
       " '3d694f91-5bf5-40c9-9d27-b510aa9b68f6',\n",
       " '0efe83f1-3fed-4959-9c16-82c8c0375fbc',\n",
       " 'd22def6c-b6b6-444f-a6dc-caff0ac8fd22',\n",
       " '29db4873-0961-42f5-8ac8-61e67d05b9da',\n",
       " 'ba47ff80-d572-4bb5-bd8e-e7d7fa0927a1',\n",
       " '879495ee-982b-4372-b959-504a32513eb8',\n",
       " '1f808967-d2e3-422b-b01a-018d58e0e6b5',\n",
       " '90fe15ab-13d2-44a7-9646-b191b231896b',\n",
       " '5c733cfb-30c7-4519-8e94-769ecb10d5b8',\n",
       " 'ab10defe-a4d5-4016-bc25-8ad1cfe43a0a',\n",
       " 'e3c8921d-bb80-4560-9e26-18a17182fb97',\n",
       " '5d8da52b-201a-4640-ba8f-f1c906009438',\n",
       " '6b0a6e2b-815e-429d-bbb9-9d798ccfb76c',\n",
       " 'f685c4ce-db68-4d11-84a2-af1cd81b2092',\n",
       " '7c693284-45ef-493b-baaa-11d33f7726eb',\n",
       " '2249b059-2cdf-467e-b848-e6f0a31534a4',\n",
       " '955bcc9a-7b13-4856-81a7-a8453ce2402d',\n",
       " 'baf538b0-273d-40ac-bb6d-edef3854455d',\n",
       " 'ee565c4d-0a04-4704-b612-20b15523ddbb',\n",
       " '99415f3c-ee08-4ab9-bbe1-647644188749',\n",
       " '3364a373-3505-48fe-b7ec-e335186a053c',\n",
       " 'ea60d490-c144-4826-b659-da0a311455e8',\n",
       " 'a25733a2-7104-4e80-8ee3-5566957a3512',\n",
       " '04582296-3e98-442b-8f5b-126a8855c4c4',\n",
       " 'c84b62f4-8ab0-42cb-bb67-6d97ee444737',\n",
       " 'ead94ed4-0c6f-4323-a28d-573bf6961852',\n",
       " '5dd22026-2e02-4c60-a5e1-efacf42f5bf1',\n",
       " '309c1e76-8561-43f1-bfed-b2e87daabef0',\n",
       " 'a6a4d4a0-799d-49ce-a502-ce28de138620',\n",
       " '2abef144-70e6-4808-9785-6bc16f6f2b06',\n",
       " '6cf5f6b4-6d42-4479-969a-495e08da2743',\n",
       " '31d6e376-09be-4ed2-8d6e-2be28aa50f7c',\n",
       " '0cd02aa2-c67e-4d1e-b3c4-1137eea6b7f0',\n",
       " '74b371fe-dc38-4462-88af-49dfc7eb684e',\n",
       " '56d966a2-c55a-4481-ada6-cca1fba5dbe0',\n",
       " '08a8daba-c4a0-462b-be22-7b2e1037203b',\n",
       " '3d6712b8-518a-410d-80f0-833a669c42cb',\n",
       " '4b357462-c6eb-4dd7-a165-affdeb014ddc',\n",
       " '564110f3-8840-41f7-9587-559196ce380d',\n",
       " 'dc84ebe7-365f-46f3-b8b8-e854001a1b5f',\n",
       " 'bf473e4f-e5fc-4276-8369-d9d85a3ee8d9',\n",
       " 'e07388c7-ccce-4a1f-847e-3c5b3985b5cd',\n",
       " '6c79ec24-6965-4a10-b7db-1bbb58935838',\n",
       " '6e60fd8f-6e10-4e0f-bb06-3be4d7f11bc4',\n",
       " '21983476-eaa3-4834-98f9-d36e9963711a',\n",
       " '017272d3-2480-4b91-b798-1b98b62eff93',\n",
       " 'dc665207-8039-4d0a-b35f-adb7159db238',\n",
       " '0e633af7-c6bf-4794-b75a-5f62f24db328',\n",
       " 'a65838ac-1ac7-4478-83af-cd467db5ec84',\n",
       " '1e648ddc-6e19-4646-ac42-dd7fcc0f581b',\n",
       " '38996962-68e1-4de2-b794-bac0fcc16f46',\n",
       " '004d27a1-d444-4254-b6cb-a476b8c0ffa5',\n",
       " '9f94a8c5-601c-4a5a-b987-5d9ddea3327b',\n",
       " '4e131eb5-37f1-4e47-aa95-a8068b5edf2b',\n",
       " '8bacbedd-85e4-4cda-a0ac-7e7bc96ad422',\n",
       " '222944f9-88b7-46c9-acec-3e5951a30f6b',\n",
       " '18220446-b5e6-48de-8c0c-3d4c9220345d',\n",
       " 'd96d2b32-9c6e-4d2a-96d3-47c6aef2603a',\n",
       " '16b534f7-b03a-476e-906b-1710d831d35d',\n",
       " '00bf4b33-77b5-4874-8fe9-dad7a379e2eb',\n",
       " '4a4dc0d6-b5b0-4942-b588-be6a868d93d2',\n",
       " '6f2747aa-53e6-409e-b32e-98d32af2c57f',\n",
       " '02ead18a-fd60-48aa-915f-bd391ea70138',\n",
       " 'd8bee500-9bf1-4687-b296-44dc4ced341e',\n",
       " 'e31bdab0-064d-46f7-b4b0-582661f9a51f',\n",
       " '7672d7ce-5224-476b-9980-ce576a795b60',\n",
       " 'f1a8398d-31c5-47ef-9cff-792ae5c80f57',\n",
       " 'e126ca3e-05b3-45a4-88df-acffd8c9bb30',\n",
       " 'a1006a94-a4fb-422a-ac5a-e29021901ceb',\n",
       " '1aeaa33e-2e6b-487b-b9c9-3a21351e0bf6',\n",
       " '004b035e-b0b4-455d-9bcb-e2844d0d584c',\n",
       " '96c3b680-b68d-4a19-8cfd-a87649ad2408',\n",
       " '6dbce721-89a9-4933-86cb-4e299ce456ff',\n",
       " '0c191a7c-16fd-4ad4-be8b-f1137b87f1cb',\n",
       " 'a9a64784-aef8-4f80-a018-d561d6efd4f4',\n",
       " 'e1b450ee-4ff8-4452-b851-af1876c3b8fd',\n",
       " 'd6f8781f-2876-4779-a950-f3b52a2ff688',\n",
       " 'ece9a1fe-f24b-482a-93dc-b10ac909f25e',\n",
       " 'dda424a6-b49c-4444-875d-269bbe6e47bc',\n",
       " '56f5bb8c-9be5-4efd-9819-b5c0e9ccd499',\n",
       " '6662dcc8-2fb7-4139-9199-28aac93b003c',\n",
       " '88f48c27-8e97-489d-8498-913f2b96daf9',\n",
       " '2733443a-2564-4f95-9112-6901e1099789',\n",
       " '68d56383-7ae7-47b1-b807-8ad8bbaff97c',\n",
       " '77426904-06fd-43a4-ac0f-53b8bc92fb41',\n",
       " 'a0d47a3b-98f0-41a5-9fd5-6d0673ba3d79',\n",
       " '173228a6-66c6-43b3-94aa-2b1a371d4373',\n",
       " '5f497cc1-bc93-40cf-bd47-21c5c17c8cad',\n",
       " 'b0694006-338c-4402-8121-0070430fb336',\n",
       " '8ffa39f5-84e9-4be1-a266-c7a53bbaa9a9',\n",
       " '4d583b92-ab5a-4f91-a74e-49302a2a5f73',\n",
       " '03de0a57-7fe4-4885-8a1f-fb540649d94c',\n",
       " 'dc5f7fbc-75dc-4c84-af04-7ee0f0669318',\n",
       " '87f74ede-2214-499a-8e49-46d8857fe5a8',\n",
       " 'f5754c95-d28b-4ca6-82e8-e15508191786',\n",
       " '65e12221-d7c7-4b3e-9b3a-e3f22a57f3af',\n",
       " '4fdd44dc-0686-413a-b5ca-a995e779f8d4',\n",
       " '8aac5595-bf77-435a-8008-e44e417fa17e',\n",
       " 'dd81bfb7-69ea-4562-b6bb-59306ace44c6',\n",
       " 'cb0ebf54-14fb-4cb3-9eb5-62647128a5ee',\n",
       " '72858f66-26f9-4184-b2a0-b4b6f5ea520b',\n",
       " 'e6333744-5463-481a-a5a2-ce2ad4852dbe',\n",
       " '75f0a2f1-e6e8-4b2c-82b0-7bbcb56cbd76',\n",
       " 'fa3be380-53db-424d-8f1a-677dbac6841f',\n",
       " '177446c1-e932-44d2-91d4-ffb1c87924d5',\n",
       " '925ff69b-00fc-4c58-a7ec-5339abc5006a',\n",
       " '4c414775-c121-46a4-adf3-d2e2954b6da7',\n",
       " '2e5b8a78-ee03-41fe-9673-ac175aeef31f',\n",
       " '7ecf872b-1956-49d8-a878-2590e6fab500',\n",
       " 'a21df0b0-adbc-49f7-ba99-b6a9299692ab',\n",
       " '3a292835-d727-4687-b653-d69112f30f3c',\n",
       " '4d8071bf-62e7-4882-a357-759027decdf2',\n",
       " '530eddb9-0074-4cf3-bbdd-326d8babad04',\n",
       " '3aa65154-f5b6-47fe-a7a5-fc280edd7fe6',\n",
       " '7ef0eee3-9d3d-4c96-8d0e-c89333f58876',\n",
       " 'cc8b583d-e8a5-4789-850f-8c027d5eb9ff',\n",
       " '19e0c007-43fa-4507-81d8-2216be714918',\n",
       " 'cb326191-7266-4a77-913c-e479ad38ad51',\n",
       " '3723483d-a152-42f6-9f7d-36499df1e0f9',\n",
       " 'd54bca8a-1009-4370-8af0-7c7b8fe8e642',\n",
       " '8e54553e-c243-4939-9faf-57396ff73f54',\n",
       " '19155a2f-6a2e-4ccc-9c82-488dd83e346f',\n",
       " '48b359d9-5c9b-467b-942c-577b463b2f7e',\n",
       " '41830ff6-a2b9-4755-8819-d003752703eb',\n",
       " '2be2d9f2-b7a7-4e36-b056-6b48cc1d31e9',\n",
       " '382b86f4-4a88-4dbe-8429-00f18ba71fae',\n",
       " '6b90d7f3-33d6-4719-af30-37b23e4f5e07',\n",
       " 'c41d9ca3-d76f-4dc6-8d8a-b7edab3b2682',\n",
       " '98de65b0-b89c-4b4f-bf16-1323978d3ad1',\n",
       " 'a0bc9a4a-3405-4aa2-a681-78db489f59a4',\n",
       " '4b53dd15-9b48-4fad-aaf0-94b270b225af',\n",
       " '585e980b-28ea-4f4b-a261-3df791e5cdac',\n",
       " '6f1685d9-2ce1-45c7-8601-12ca243e8007',\n",
       " 'dd195db4-a420-49c3-b6ce-34371af38091',\n",
       " '93fefa3b-0936-4825-a30e-fd180aba177c',\n",
       " 'dd275a5a-ced2-4687-a7f9-ff24857e660c',\n",
       " '05d591e1-533f-4d32-8cdb-43b5283529d1',\n",
       " '9bffca40-3ebf-4582-bbfe-4b6b1725ebc4',\n",
       " '01fa1756-2dee-42cc-a89c-1cd377d35165',\n",
       " 'b97f3d17-0203-424a-8470-e0259b99bc43',\n",
       " '6831c2f1-0b1d-42d3-a46f-e124b55ab62d',\n",
       " 'b93c8b07-5bf7-4c5b-b0e4-77621e13d8d8',\n",
       " '13256857-7793-4e54-80b6-4da123002548',\n",
       " '0cd62949-b90a-4bd2-8a72-ef2888e6188c',\n",
       " '760ad2f5-a6f4-4321-93bb-6fbdd6c8efa7',\n",
       " '0911afa0-8af9-413a-ad05-ad93ffa76451',\n",
       " '8e7b9bf1-7994-4651-ac35-7069e596c054',\n",
       " '86d08afc-1544-455c-bc20-3b1a066bfa6b',\n",
       " 'a382f525-4dc1-4a5f-8d2f-a2c999e867da',\n",
       " '8f658542-2a8c-4c7b-ad61-6ca351c425e4',\n",
       " 'd6baf7f7-fc25-4a29-bd96-8211bcbafa25',\n",
       " 'ebceccc4-d983-4e27-9f4e-0f77843d22b0',\n",
       " 'b221b8b4-ea3f-4dad-9c19-85b48470684b',\n",
       " 'eb3c823a-9369-46f2-883b-31741f0d05ac',\n",
       " 'b295a750-b4a7-4028-9df3-2ccdc8018387',\n",
       " 'd6141abe-e5b7-47e1-854e-19f0d6b0cada',\n",
       " '7c134c5a-f466-4658-9c3d-f4403caf6347',\n",
       " 'e2d8c760-9f97-4b6b-953f-010020d6f400',\n",
       " 'f4da699f-0eec-4e7a-9480-beb336dd4dcc',\n",
       " '732b00b0-a911-4d9f-af63-4573b3fb0848',\n",
       " '97803436-8228-442b-81d0-969d15e5e13d',\n",
       " 'bce3b077-9672-4fd5-8457-25f36bff602d',\n",
       " 'd030bf19-c244-4724-98bf-7aec963c4546',\n",
       " 'b2c87824-301c-40e4-9b1c-fd603587d73b',\n",
       " 'bc01a883-f551-46bf-928d-7d575540a750',\n",
       " '4e571980-a8ac-4bfa-9f8d-796e0a840deb',\n",
       " 'f6e349c0-89e5-4fab-8f96-b93f200b4c4a',\n",
       " '490e5bfa-7bbc-417d-93f9-d0399cf21487',\n",
       " '63795da4-85e9-4037-8dae-cc274fcca952',\n",
       " '4f392908-4f2a-4bdd-9038-149246006717',\n",
       " '3fc2e2e3-dbab-47d2-aeea-ea36dd0ce1ed',\n",
       " '2b2267cb-8c40-41b9-928b-3010ddf16506',\n",
       " 'db76eac4-9eb9-4c38-a837-13136759f66c',\n",
       " 'ec5314c6-27d1-43bd-8ae8-d5e74f08efa6',\n",
       " 'ec1cb8bf-5c0e-4d09-8c65-a2213ffb8d84',\n",
       " 'd15e568c-540d-48ad-a39d-26fc015930cb',\n",
       " 'ebea5a3f-2a2f-45aa-bed9-5cbedf6437c5',\n",
       " 'dea25a33-2307-4a44-b1cb-a862ca09c36e',\n",
       " 'ac01df9b-ffc6-441d-ac7f-49a698606703',\n",
       " '4fc3ec57-581a-463e-ade2-eece9d9bd266',\n",
       " '8947ab3c-e55b-44c7-9558-28ad177cdf8c',\n",
       " 'fccbf788-1153-4706-90f4-0d7158929331',\n",
       " '13524f9e-c7ed-4577-961c-648f43e26be4',\n",
       " '5c4f3f89-bf06-47ff-8d64-b0d1c4403246',\n",
       " 'f6065c95-93f3-427f-99ff-8ec39ad654b6',\n",
       " '886dba0d-a219-47fb-bcce-b62ec680901a',\n",
       " '53c359a9-bc78-4ab4-aa4b-7b4eb9e6c48c',\n",
       " '79a2281e-73ea-4314-9469-3a2ccf3b7293',\n",
       " '7ac31997-d0d3-406a-b7bc-242337d1c75f',\n",
       " 'b4f43798-6031-4686-9370-65bd9c37d5b7',\n",
       " '0e0069ad-2491-420f-911e-dfa0e2fd215f',\n",
       " '1c8d3ca6-ae5e-4230-a5fa-b70bfcbcfb62',\n",
       " 'cf5d0fd4-c985-4fc1-8f6a-f5b16c4fcfcb',\n",
       " '61aa919e-ff90-439b-a6db-2d9a96d4333c',\n",
       " '47515f6f-9acd-4ad5-a005-4529b045075c',\n",
       " 'b833f195-24f0-4f8c-a7bc-80a5d2e8ffd3',\n",
       " '6062164e-eee1-444e-8bbc-8bc6f3910abe',\n",
       " '5d7432ff-7bfa-4804-a0be-f459f6c33f92',\n",
       " 'faa2bdb1-f27c-4b14-8e01-8c822f1073db',\n",
       " '2982dcec-71de-4e79-af07-4bbdf9f60a59',\n",
       " '5b06c2bb-45ff-4176-8b95-28cb804669f4',\n",
       " '2f85179a-096f-4040-aa07-faae39683bd8',\n",
       " '20b6207b-d3f4-41e6-9fae-3d2c07c8f212',\n",
       " 'eaba67d6-6f2a-47e0-838c-5069a3cff8fa',\n",
       " '665800a9-cbd1-4e77-be47-2810ad0898fd',\n",
       " 'b98eb8a4-153c-4c8d-af25-e5685b859f1d',\n",
       " '413aa46d-7356-4992-ae19-3760fb853de7',\n",
       " 'b55fe588-fed4-47d1-a8e5-d964ab03b738',\n",
       " 'd8a505dd-0c85-42dc-bb11-62490b9f79c5',\n",
       " 'c40b61e6-3aeb-463d-bac1-7270036e10f6',\n",
       " 'e4bdadbe-4835-49b9-8c78-a0c6178de5c2',\n",
       " '5beebde4-2cc1-4b5b-aaec-ce04ca184c47',\n",
       " 'c1294d56-3e81-4996-8c56-f4fd08bdfd64',\n",
       " '207f718e-82fe-488e-bc86-30a8af2838de',\n",
       " '9d8a5d41-1d34-4ce4-9af8-727b798a1a71',\n",
       " 'ea33a2cc-178b-4f28-a6c5-686f9a6d70be',\n",
       " '7c5612c4-958c-45ae-b20a-397fcaaf36c1',\n",
       " 'a7976e92-e990-4a2c-98ad-b628f159939c',\n",
       " '0028b69a-8b07-4ed4-b724-73a6acf088af',\n",
       " 'c452a921-2fc3-4b76-87b3-f009689a4c47',\n",
       " '28989978-4fdf-46cb-aa4d-f9af1dd1788e',\n",
       " '6898cb6a-df34-4c67-b5d6-eaf4ccb199bb',\n",
       " 'fa95a806-ef30-4e1a-8fc0-d2d86625b5d1',\n",
       " '58aed77d-a544-46cf-8819-282c01419557',\n",
       " 'e1b8665c-5187-4af1-bdf3-125620eb6796',\n",
       " '1675cea2-d1e6-47fd-b7a2-d1e7a7413041',\n",
       " '7aaa9b1f-542f-410f-957f-ca36f036219f',\n",
       " '33cf2fa7-ae6b-4e2b-8da2-3c783de8872d',\n",
       " 'a337fe66-24db-4795-ab9d-c9c9c8556ee4',\n",
       " '5de02614-129e-4677-a260-b671d8434313',\n",
       " '5e304469-0776-45b9-9572-3d4957548d7d',\n",
       " 'bdc9c5fa-bcad-43ec-b56a-451de22876c6',\n",
       " '35a92137-58fa-4608-a01e-b0b9e2d0034e',\n",
       " '3413d4ed-dc2d-4905-999f-38c00666529a',\n",
       " '26f356fd-98dd-4d4e-a671-f64c66096784',\n",
       " '43f9bf76-f3d4-406f-a2f6-c7e597900bc9',\n",
       " '207964ee-1a05-47b2-bff3-7920e45275c7',\n",
       " 'd292158b-982c-44fb-bd23-5484b9f572ee',\n",
       " 'aa27af8b-a316-4260-927c-0d2d639bf456',\n",
       " '398ade92-c953-47ad-9aac-8b61e0e6a72b',\n",
       " '8fca35b6-30a4-4023-9dcf-967b843395aa',\n",
       " '136c1afa-3701-42fb-933d-e038baade376',\n",
       " '3349737c-9582-4ee6-bdb6-64a53ead4ba2',\n",
       " '4953886f-aa4e-4563-8a93-e6cf1d9ecc9a',\n",
       " 'a0d44a13-0e0a-4f91-adee-f684852f37b7',\n",
       " 'b6755925-d470-4f57-868b-d5ecff6e4503',\n",
       " 'a07be416-cd4a-4cb4-beba-74908d3ccab6',\n",
       " '8ffa8514-25a5-43ad-9608-97356e4641fb',\n",
       " 'd3deb2c2-9c33-4d75-8496-347f283778f3',\n",
       " '7a0c6ca6-4229-49ca-9cc1-913413cb847f',\n",
       " '247395c6-4d94-482e-817e-2e1d7d1411b2',\n",
       " '52820964-f9c8-4935-a05f-88c1c08d791e',\n",
       " '25f581da-2f51-46a5-af22-cce641b557fa',\n",
       " '740fdd70-b369-44c4-9367-58112dfef183',\n",
       " '220f4c7d-cf48-4f8d-bfcf-41909f25d525',\n",
       " 'ce694fef-02d3-403c-8311-be78300d2bb3',\n",
       " '6375cce3-470a-41b7-b717-53902d973de5',\n",
       " 'c1f901c1-7bce-44eb-8ab0-541943ae46e4',\n",
       " '64da86d1-1b04-4c84-a573-3e53eee92ef8',\n",
       " '158274b2-93a7-4330-98a2-64f177bbc999',\n",
       " 'c69927cf-e963-4fd6-ad85-7434dd58a058',\n",
       " '5a1fb611-e94c-4770-9c62-e791a69c6b95',\n",
       " '14e7ae59-284e-41a3-bc7a-8425eef692b3',\n",
       " '5502c108-affb-4a6a-8a26-56fe20418255',\n",
       " '0844b509-37c8-431b-aa1b-3168ad9c4840',\n",
       " '944d0dc7-a80d-48fc-82ad-3b5ad615ee40',\n",
       " '9340e560-8a33-496d-9fc7-5e62be3a84e7',\n",
       " '7cb7ac1f-71dd-4ece-8bd7-b25bc6de20cf',\n",
       " 'd1787fa4-1830-4de2-803f-2e51970ed1fc',\n",
       " '9b0c4477-0672-4519-adb2-3df15c1f31b0',\n",
       " 'a86050c7-c342-4298-a0fd-62a444f79b1c',\n",
       " 'e5ce1f05-0184-4401-9b5e-f6a5def06f7d',\n",
       " '9c4ada4f-0b14-47e2-80e1-766c4988109b',\n",
       " 'ad643861-883e-45aa-bfb4-c1d06840e1b5',\n",
       " '51f4d203-0200-4931-88b0-6b4386bdc45f',\n",
       " '2e929d09-fc0e-4b5d-a401-9ee523887975',\n",
       " '7b246811-c0a2-4613-96f0-ffec00809d15',\n",
       " '96635a91-8dfe-4967-a559-5ea82bbb09e7',\n",
       " 'c15084d4-62ea-43ec-95db-58a7bd5fe0c6',\n",
       " 'd9131b99-e2f6-46e5-99ca-2ff570f30e7d',\n",
       " '2aa26e65-ebd7-4d00-b85b-4fb06f5a956c',\n",
       " '10f99598-3ce1-41ae-9e28-2852a236e98d',\n",
       " '7c2dc07b-f755-4d53-8780-05b52bec0111',\n",
       " '3f4f1850-fe1a-45c6-9ff2-25634592a703',\n",
       " 'cda47189-e2bd-4e26-9214-78f39f9a1a6a',\n",
       " '6af5f54c-abf9-4e33-9dad-75b44348b6cf',\n",
       " '0e6fbaf7-b4c8-4873-9035-a17aee770479',\n",
       " 'cf191990-7b40-4f83-bd1a-e30ac12ac932',\n",
       " 'b792faea-9653-41de-a678-ef8e60720629',\n",
       " '1bc82432-3e0b-4e2b-9d65-efdf63327522',\n",
       " '15bbf501-8c51-40e4-be0c-f6d6bfa2d29f',\n",
       " '7d02c824-9044-4109-9916-be5b1a2daef9',\n",
       " '69a1b03e-f13b-49e5-857f-7c90e3f60859',\n",
       " '7de8fd0a-f517-41b1-acb7-0f6d2f4ff5ea',\n",
       " '34bed386-22c5-40f1-9e80-bfc8d39436cf',\n",
       " '7575cb4d-f7d5-4457-973c-8c2956d6ca62',\n",
       " '2ea186f6-0013-47b2-9b7e-b6127adcb4b6',\n",
       " 'bacee886-53f3-424c-b301-aa7481ee57df',\n",
       " '25c067ce-1888-49b3-a304-43186c0fdf74',\n",
       " 'fa6b5e12-0e19-4556-84f7-ce7ab2fcf2bb',\n",
       " 'd95abdde-d5cc-4204-88f2-bd1707282231',\n",
       " 'c1a57021-d935-4b70-aefd-9ee5c848c7d7',\n",
       " 'b7e0cc5f-6a97-4fb2-877b-dd3583484bd7',\n",
       " 'fe5e3fd3-232a-442e-8eb2-f90d0821e7f0',\n",
       " 'ced71cef-ad64-4e1f-9aa0-c45b77962e40',\n",
       " 'b4fc89bf-6157-48d2-bb5a-05dc404cf1b1',\n",
       " '50087ec9-30ca-4ecd-85d9-27017a85d61b',\n",
       " 'd3b718ac-ebc4-409b-97aa-1a258522955d',\n",
       " 'f2b11090-27fe-4ac7-9761-e6f9b746147a',\n",
       " '14d0d75f-f7fc-40da-a8fc-4644e5ac1bc6',\n",
       " '8ef17d31-f0f5-4601-8ea6-a226d0ecdc4c',\n",
       " '712836a8-ae56-4ae9-9f1d-e18013002e15',\n",
       " '511d4612-089b-4336-a835-04b799d9372e',\n",
       " 'a3ba03ea-48bd-4c1a-8925-be439ef7c958',\n",
       " 'c05a00ae-00dc-4886-8fd8-0a6e28740869',\n",
       " 'd2963739-b27a-4f9f-bd32-948c83bb69bf',\n",
       " '2d7280aa-8ec5-4948-b5c5-98256be0269f',\n",
       " 'bfb12cce-364d-4986-b3a0-f992512bf3a5',\n",
       " 'ea55ef2a-3451-4a91-bff4-2d4014591f05',\n",
       " 'c542554c-28ea-4331-b3be-2b9f4a6e17f6',\n",
       " '8b693b2d-3802-4b68-9761-501705f6ca07',\n",
       " '8e97623b-3368-472a-91eb-6982a7f95a97',\n",
       " '71398203-81f2-45be-9670-6aa5ca8bd1c2',\n",
       " '857f5e50-91a7-4da4-ab20-21dc98c820b5',\n",
       " '42289d95-0b12-412e-8052-eb3122ac0457',\n",
       " 'f6a22e37-9320-4744-9957-942dc5196548',\n",
       " 'a34c943d-e71b-47ab-b2f3-3f0de51bc812',\n",
       " '6a2332cb-232d-4f07-98c7-3f54d2c8b0f2',\n",
       " 'b2d9e5eb-0311-4896-96f7-07f13d2e9025',\n",
       " 'ec3fda00-2a6e-4407-9ba2-c0e9f4fcc1ae',\n",
       " 'c666e4ac-2ef8-458a-83fb-e93db37219c1',\n",
       " 'a3d90c6c-c85b-4999-8e1b-e61c7712cc57',\n",
       " '7deaa9a2-c740-4889-b4b9-3249abd3b32c',\n",
       " 'fe41f760-d80e-45f6-8705-f6e320a1a183',\n",
       " 'cb0ba6e7-e7a5-4e90-9e2a-ba0bd9ade1c5',\n",
       " '08169954-b251-41f3-a3dc-01152b944abf',\n",
       " 'c6397328-68a1-4369-8a08-e0d110ebb701',\n",
       " '32fcc32d-9c8d-467c-bcb0-0944cf20c917',\n",
       " 'ee3ef06e-9bc4-47a2-a2d2-8acfb8f5cb97',\n",
       " 'e455c342-c7c2-4654-8397-c660996d3782',\n",
       " '1d052151-58ca-477a-bc86-81ecc7ae26a3',\n",
       " '40c14562-76de-4ce9-8385-449fbabd00ce',\n",
       " '4a90469b-ad13-4ded-a04d-d8fc4bb44a20',\n",
       " '52ec5de8-876e-42e8-8f15-b632eedd34a2',\n",
       " 'e255b18f-5132-426d-9f1a-abcca124443d',\n",
       " 'a79ad0a8-06da-4bcf-977e-e33e1637342e',\n",
       " '20983453-f54f-4f8d-83f0-f55d029166d7',\n",
       " '59440a5d-ffcc-439d-b3e0-ce88163de379',\n",
       " '872e5524-e1a4-45e1-99c8-a004562ef2fa',\n",
       " 'b29cbda8-748c-450b-a39a-4efb1bfc2d59',\n",
       " '529dfc5c-0984-432e-9876-66de92085d07',\n",
       " '5a3c075b-9d23-4def-9999-ca4b7bf4f589',\n",
       " '97931d15-54ab-433f-bcea-f64924d28822',\n",
       " 'f18bcbf4-5b63-4878-95ba-6ec16c609b87',\n",
       " '58881e81-9950-45e5-a627-c10533a61d12',\n",
       " '890c1c84-822f-49ce-91f6-893c417a6516',\n",
       " '0d5854d2-6c6a-47a9-bf83-8769e4d78683',\n",
       " '15dd6c0f-5de0-4eee-b388-ecba2f81a473',\n",
       " '64b9bc48-267a-433a-98b6-3881ad7da6a1',\n",
       " 'ea38ca19-0a04-4747-be73-4e5324444bbc',\n",
       " '8975ee88-b248-4f30-801a-4e5cda34123b',\n",
       " 'a14c8bd8-99be-48c2-ba36-affa5f4332f7',\n",
       " '9fae3d69-7de9-40b2-b02c-bf0759a5b6df',\n",
       " '0c69c513-575c-4c5b-8603-83761b5877c5',\n",
       " 'b416401e-3638-4258-a14d-dbd18b695398',\n",
       " 'dfbf7510-0773-4c89-b522-98831eed2743',\n",
       " '4c29a28a-1fa9-47e2-86a2-59aac3a357ba',\n",
       " '6ab4f805-73d8-4b73-97c8-1bb03716fd79',\n",
       " '4eae3994-bcce-4da4-899c-6bb11822f9f6',\n",
       " '4779a800-9c1f-4eaa-8b20-2dee1c23c06f',\n",
       " '28fa5173-354b-460d-8aa3-d9df8fc6b88a',\n",
       " '7aad45fd-4e1e-403f-bb0d-6c8e19a08701',\n",
       " '1e836825-9b9f-45e7-b3b1-1caf385fe52d',\n",
       " '00eedeb0-d38f-499b-b61d-1570d1ce45ff',\n",
       " '903b6063-f228-46d9-9983-de08d551e0ff',\n",
       " '073a1208-19b4-4639-9902-6097c2a3f150',\n",
       " '4e4a4ac4-3bac-4580-b010-e6c89f04a8ae',\n",
       " '69201f8b-3358-421a-8742-46dbbbfb124c',\n",
       " 'bf86bd4f-5d02-4b90-aa80-7be7f11b6455',\n",
       " '033163c3-ff8a-492f-ac87-cf33f62b420f',\n",
       " '81b5d2c6-c542-45f5-bd97-942fa9a37e76',\n",
       " '507f14f9-9c20-4ff5-a9aa-6e2d5dee7e97',\n",
       " 'c76d7e24-0373-4a26-a4ff-817c2f404fa4',\n",
       " '5eba2cdc-04c5-4af7-a6db-2f6e243bd355',\n",
       " 'a6f58f05-e0ef-4855-a718-f8d03834c81e',\n",
       " '974c46e9-26ea-4f28-a53e-7326a23f5dcf',\n",
       " '5d4bfdcf-a952-4ce4-bf55-b08a6d0575c8',\n",
       " 'e4c6a455-5762-4e91-afc0-aac48d5473f1',\n",
       " 'd14e3a6a-0d4c-4eaa-80d0-5de57b9c8a1f',\n",
       " 'edcc8bf7-8723-4e1b-8b16-2194f78d80d1',\n",
       " '9baae529-f6e6-46ff-8d1d-411304cbb5a3',\n",
       " 'f2ac06a9-7b25-48b5-b04a-dcf65fa74f5b',\n",
       " 'e0c88dda-6275-4976-955f-6ecf77dfe83c',\n",
       " '72995864-cbb4-4376-9577-94492fcef38f',\n",
       " 'fa46186e-b59e-480d-9a7c-e5a4efbd1d96',\n",
       " '68f04b7b-3569-42b9-971d-709ff043037b',\n",
       " '344adf79-e5d3-4c4d-8d02-cd7000822dee',\n",
       " 'e9cfeef5-cbc8-44fb-9484-55710e8a721b',\n",
       " '8089f0b2-76e4-41cb-a749-0c1ec2d9bef9',\n",
       " '394d4628-8038-4d4a-8800-61de3ce4f5e7',\n",
       " '940275ed-acfc-4183-892e-7628cc8a3111',\n",
       " '20dcb028-90a3-4df4-b530-7d1c5ee95268',\n",
       " '1053f3ae-6121-4751-9124-346ac78de10b',\n",
       " '0da7a8c2-fe15-4a7c-890c-cb3862ab06b7',\n",
       " 'bffc097d-90d4-43e6-b708-a56b0e864195',\n",
       " 'eb682614-edf6-43d9-8866-140c4e35cbda',\n",
       " '6e1233c7-1fcb-432d-bfba-a748c7eb9e75',\n",
       " '4787b614-cdd2-47e2-8bdf-81b278fa5a0e',\n",
       " 'dc8be98e-d9d9-4179-b3be-d8dc780b448a',\n",
       " 'f3205ce7-ba7c-4475-b2de-185bed6918a7',\n",
       " '5ab6f40b-3b26-46ce-b1a5-50a7bcfde7df',\n",
       " '0c6c4a98-6758-45d6-a5a7-b976aeaae923',\n",
       " 'd2cd17ad-ab91-4d58-af3f-48b09f8ec47d',\n",
       " '23f73365-07e8-4567-a429-3503d2204a26',\n",
       " 'e50359d1-abc9-4d94-9452-e480ab514a43',\n",
       " 'f2c91dc8-90b4-4b64-91f8-e02269ff64f4',\n",
       " 'c52cb127-1559-4e91-93e3-617452e6ab76',\n",
       " '964dcba9-4406-4291-8902-1e33632d3443',\n",
       " '47183bf0-4578-46d3-843e-db176df55e65',\n",
       " '6ec46cbe-4950-4ccc-924b-422cc585740a',\n",
       " 'c9c41113-1122-4ef4-8383-00b88f62c8e8',\n",
       " '64e9dc2d-4fd9-46f7-b0c2-9eb48c2d8dff',\n",
       " '8a568b0e-0ff9-42a2-bda8-d31b804a55ec',\n",
       " '6717a763-ca49-4107-9c51-317753a21003',\n",
       " 'e67c640b-6fed-45a4-b55b-9eeb3c53fcfc',\n",
       " '978673f2-ddef-4df9-8858-e299f6682a33',\n",
       " 'ec86db96-2483-4c72-af63-45d573da28e1',\n",
       " '4353b27e-d767-404e-8550-04d145da53ac',\n",
       " '82283f0b-bd02-4bd8-8f8b-c0664487c605',\n",
       " '5e1d3efd-0b1f-4d4f-8bf2-118a4f619312',\n",
       " '3f6d58e7-4b29-4185-a76f-3985dd7a45a0',\n",
       " '69f3f2ae-1976-41d8-b1f1-8afde6d474d1',\n",
       " '80895816-608d-444b-b0dd-e58c50597663',\n",
       " '703ecb51-cc30-40d8-900a-d69a184c62f4',\n",
       " '07401ae3-28f4-4066-a987-1273857b5d75',\n",
       " '1cd2ce64-688b-4ca9-8579-12da90a5164d',\n",
       " '77996b43-e684-4921-ad45-ee3f1c49e03c',\n",
       " 'c016bf0b-b152-437a-ab47-b54d716405db',\n",
       " 'dfdd0365-d2a5-4fb7-a672-439b4bfd9218',\n",
       " 'e62e9c72-76c4-467a-8dd3-f2026ab7c3ac',\n",
       " 'd569abd0-7398-4834-865d-cd4531f883e2',\n",
       " '90e907e4-0ee4-45e8-b219-a90654772330',\n",
       " 'c2c044e8-58bc-44b8-9f41-19ca754dac01',\n",
       " '2d12968c-2071-4827-bb05-fd6daaadf69f',\n",
       " '42dcd0af-9c05-4417-aa27-33da84d88a82',\n",
       " '8336864f-a119-476e-ba33-8bc9a6c48026',\n",
       " 'eac7ec77-6fc5-4d4f-b074-a480396076d1',\n",
       " 'cba25375-f97b-4370-a161-1bd8422ff099',\n",
       " '1098ae91-9685-4c8f-9b47-45be820e519f',\n",
       " '09d6c479-5316-40ee-981b-84b199f51df0',\n",
       " 'd2a4be56-4c6f-4bd3-b830-f2b505741d21',\n",
       " '130d9112-9be9-46f0-b885-cffb6484ebae',\n",
       " 'db5db472-6d1f-4040-b3cc-45b3d15b620b',\n",
       " '0354f9e8-5357-474e-91ac-d470de37c275',\n",
       " 'bfd4db71-95f5-4061-a889-13c1c05282eb',\n",
       " '3f7ee322-8b65-41c7-9252-64cb2d365025',\n",
       " '20e72910-2408-4d80-a2b6-f8657036c796',\n",
       " '1ef5f460-1a31-424f-b7ea-4622c5f2a931',\n",
       " '4b1ceed4-8fd6-4a76-852f-b4b3a1d2a8a4',\n",
       " '4807927f-c20f-428c-a141-b00a8625ef89',\n",
       " '2eee5ba6-598a-4e89-b082-f3edda47a6cb',\n",
       " '92ebb9eb-c498-4ac6-aab0-3fe12ddf65e2',\n",
       " '2c72b828-e3c0-4d0c-bde0-309460282f96',\n",
       " 'a7c88fdf-8815-42ec-a4fd-34933e1cdb6d',\n",
       " '9b469981-c345-4815-b1d3-85361ebad11c',\n",
       " '2536412c-ab07-4a20-a015-dc3890bd7e74',\n",
       " '82ebd59c-4b35-495b-8c05-149af3cb8152',\n",
       " '04c3cacd-64f2-490b-b13c-7f377fb07dd9',\n",
       " 'a6e48b78-f5a9-450e-883a-ba718dcefdc6',\n",
       " '672acafb-deac-4e8f-89f3-fc2c4e1c7c2c',\n",
       " 'a9d59a41-ca94-421b-ade9-acc65f38003b',\n",
       " '3224d05f-cd13-4a0f-ab79-eec00a3dc793',\n",
       " 'f357aebf-da1f-47b9-9349-fed008e87ade',\n",
       " 'b464fe76-d6a8-4b51-bc34-c82052f083e4',\n",
       " 'b249d104-b4b0-4d17-a2af-e7f5d931fc48',\n",
       " '26e0747a-2bac-49c3-9f17-55ec461fa554',\n",
       " '1face5d9-31c8-467e-ba4d-4d869d704db4',\n",
       " '1c8855ae-02fc-49b5-93c7-2c9044044177',\n",
       " 'ba73d641-c38c-403f-99f9-c0138f1cb97e',\n",
       " '6938ddaf-ffff-4a3e-a324-c5b8d7ff5b0c',\n",
       " 'a8f4399c-5e2d-4ceb-a4f8-960fc0acfb5f',\n",
       " '66dc1013-a299-449b-9383-11882631b8f9',\n",
       " '3bb71516-8c2e-43e2-a529-9913660db34e',\n",
       " 'd7262ea0-1801-4151-9cfd-e79ae2c2680f',\n",
       " 'd171bef7-2273-462e-bd20-81063a50e365',\n",
       " '2b9b87ff-c2a3-4e64-abd3-7d36a97791c5',\n",
       " 'c6ea32bb-ca2d-4ddd-94d9-7896cab0b3c5',\n",
       " 'dd50e708-0ce2-45aa-9544-69052e71a25d',\n",
       " 'e96f6b88-9867-478b-85e1-583094a83db3',\n",
       " '938d6520-55d7-47df-9117-a5ded8b80aa9',\n",
       " 'e8e6a0a6-9316-46ea-b7a7-de81220b5823',\n",
       " 'ddeffc8d-b9be-4511-97f9-d8b500b9cb1a',\n",
       " '9b729efa-df3a-41cc-a832-cd489388d869',\n",
       " '2558ed40-6e4e-4c7f-a76c-58b2047f0002',\n",
       " 'cf096380-dd1b-47bc-9ca1-d6785b34a03b',\n",
       " '4a4f10bc-b8e4-4e1a-9d06-8c57d714be42',\n",
       " '810768e4-f707-4d9c-8c65-0c2fef6cccb8',\n",
       " '8ce75508-bbc9-4562-a67e-f305a709fa29',\n",
       " '107ee57d-5a7e-4976-8916-1fb288971372',\n",
       " '30bd0f3f-d602-4477-857b-6c0c0d3e99b4',\n",
       " '3d38d77b-549d-4bb0-913e-87a92f25fd67',\n",
       " '215bb69c-bcf1-4354-8b8b-367727939f13',\n",
       " 'a38ad49a-bead-4660-824e-f7a8bfa9f737',\n",
       " '00c7e4b5-0697-427e-9c13-a4773da5467c',\n",
       " '9af58a79-ff31-4286-9caa-fcf7bda1a13b',\n",
       " 'bc480686-f6d6-4d13-8dd4-bff30bcb2f82',\n",
       " 'a9008c5c-8b4b-4df9-a33b-bc64d20568ea',\n",
       " 'a010e702-f4f2-4dc9-a6fe-97da3baf016f',\n",
       " '60cc57e9-3bd3-43b9-b691-845b1ffe3d8b',\n",
       " 'c3a50eff-1fd2-439a-bf80-98d612d7302f',\n",
       " '45d8d81e-be6f-4eaa-a0f3-9ab409eab1bb',\n",
       " 'b89ff1f3-72e2-4f40-89d5-7b6d6c68c26b',\n",
       " '05681e8f-f241-4e9e-b6f2-bd783859f36d',\n",
       " 'f0a14eea-295e-4738-913f-aac055ca8b8d',\n",
       " 'a776fce7-b387-4c85-b914-0cd539de14a0',\n",
       " '84630ebd-0a25-4e68-b29c-d5a0af415d88',\n",
       " '816503b2-1173-4f77-98d5-f8f769f5388e',\n",
       " 'c4c3a926-adfc-4ba3-8b3d-3ca9e34cb380',\n",
       " '05b9a113-05a0-4378-8c5e-1000e0fc90a4',\n",
       " '269302d0-94ef-4ff8-b285-ebb67c4886b0',\n",
       " '5c1b551a-40aa-4f50-a14d-6290752aba9a',\n",
       " 'f876548d-d763-4331-859d-b2a9eaeb0c9a',\n",
       " '11ee2fe2-f58a-43ea-bf13-83965a17e53e',\n",
       " '921eb079-e9bb-4111-84ef-4da4022ac17e',\n",
       " '942a13fb-aac4-41b3-a396-be870c520be1',\n",
       " '36fdfa0b-67c1-48b3-bc1f-b147807979cc',\n",
       " '4e2016e6-6f00-48e4-b870-55a3266d0fc9',\n",
       " '2469329e-fc7a-42f0-81b0-442f2c83f687',\n",
       " 'c480be41-0d72-4535-85bf-901dbece4b19',\n",
       " 'd1bca46d-adb5-4bba-8a54-ea8c19606020',\n",
       " '9eb4f7a5-8f5d-4001-bd38-2322ada174a2',\n",
       " '3c8b3ce1-591f-4bc8-9dc5-1af8955bcc67',\n",
       " '39f1c045-be7a-4729-8054-b74436aa800f',\n",
       " 'dc90ff2c-72c7-4240-9012-e56173082254',\n",
       " '378c3782-1a50-4bca-8dbf-c6688d83ddff',\n",
       " '47a8943b-9a28-4bf6-952a-2bdc0e9d4cc9',\n",
       " 'a54061ca-0746-4530-837c-b2d0b84a52e3',\n",
       " 'b4098285-7eb4-4739-8744-22049f2a70c2',\n",
       " '5b34a508-2c79-45ba-81a1-fd130aeedf64',\n",
       " '79515adf-ccf0-41b6-8212-80ba13fa6dcc',\n",
       " '56dbe905-794a-4f2d-bbb1-5cb557973d22',\n",
       " '509abf9c-5d9e-46e3-a5e6-992adc1fe8bb',\n",
       " 'e4938396-7d06-487f-90c3-1fe2f8c14b2d',\n",
       " 'f7105fbe-cb31-4bc8-aa83-73889e9a7649',\n",
       " '3071bc38-829b-4e98-9992-8216fdeaf262',\n",
       " 'f28e81a6-68df-4ea5-ad9e-05ec99385977',\n",
       " '182a95d1-8ccd-4405-9320-2d22a77c1d51',\n",
       " '1e0daa4f-dddb-4158-8a1b-8ecedec10d0d',\n",
       " 'b5a5a68b-e279-4f08-b6b9-73b1f27441b5',\n",
       " 'a707b08b-d93b-4380-85b7-a654c0de231b',\n",
       " 'b56972d3-87c5-49f8-9791-c8c8cbb21131',\n",
       " 'ebb101e8-f831-44a1-834b-b3691a949871',\n",
       " 'ff28de01-1139-431d-b4f3-29e7875a1a7f',\n",
       " 'e6132a44-2892-4367-8b52-c084f73b4488',\n",
       " '67736143-c394-4177-b618-8719424fb60f',\n",
       " '5b38a7d8-8084-4f38-9030-93ec6b696b59',\n",
       " 'db635fa3-1b08-4039-a2bb-b4c083c73a5b',\n",
       " '4aa7b8e9-c6f7-4fdd-8d7d-8489b6493eea',\n",
       " '33da2afa-060c-4f2b-86b5-16fb0106f598',\n",
       " '04a6f401-8314-4bef-927a-f22ccb1d1e0c',\n",
       " 'cc307147-9f88-4736-a65a-80826b8b866f',\n",
       " 'e564ab9b-5c48-4e9c-a8fe-dab10eaccdba',\n",
       " '8f4caa1d-30d0-473c-b07b-6434e3d85219',\n",
       " '84405e66-56fc-426f-af55-7d5870e608de',\n",
       " '0454f523-0300-4558-891f-4be9d2279c34',\n",
       " '61e1b6dd-3d5d-41a7-abd6-618a15962145',\n",
       " '29634884-7047-4eb8-a528-932e923d048b',\n",
       " '6bbd21ea-ec46-44bf-b0f1-8dcf3a7833e0',\n",
       " '35868130-a8e4-4b31-a3e8-f152acb73704',\n",
       " 'cf7ad7bd-8067-4a74-8e94-ff5dd42b1676',\n",
       " '00e8aad1-60ba-4d60-ad24-1d88becd4a5c',\n",
       " 'fc890ee2-db74-4d5a-b632-c2ab814fe659',\n",
       " '48753244-3377-4f1e-be62-7f1e4ca5bf6c',\n",
       " '076f5ebc-3b8b-491a-a7d6-5c44c7aba66c',\n",
       " '9c7b3d31-68f7-420a-afac-85edaf336d2c',\n",
       " '8e8f2235-7aaf-40df-98df-1748d975699d',\n",
       " '2cf73897-483f-4db1-9b1a-c21d7d9ec66e',\n",
       " 'f7a3933c-0208-4ddd-8371-bfe9f1c7c05f',\n",
       " '990d5690-8fca-4acc-bd38-cb4c619666de',\n",
       " '78def506-13ec-4d91-8578-b9d39a37d196',\n",
       " 'a47cdac3-53d7-4550-a413-394b43a9c53a',\n",
       " '3558cabf-7127-4e98-b83e-725ba59359e4',\n",
       " '5b9493f3-853d-4909-8206-e0b5b4bce57a',\n",
       " '3587dcd9-4caf-4a15-930b-05526266f43b',\n",
       " '876ec69f-5040-4372-8e89-b3994f2b9433',\n",
       " '819b80c2-56e8-4c8c-b397-943fcdf63f8f',\n",
       " '0cc12ba2-56ed-411a-8fce-ebd4df8cd29b',\n",
       " '8d00b944-502f-4855-83f3-22730002c7ee',\n",
       " '2ba1005b-0bc9-485a-8613-7a90a074900e',\n",
       " '28071039-cfde-40e3-a3d7-60851304dc33',\n",
       " '9025a2c3-27ac-429c-ba58-752fa780b9e3',\n",
       " '5cb1c02f-e3da-4d36-b75d-726d73255598',\n",
       " 'a87e7c5b-4800-4f39-ac1c-6d0cc9fc6689',\n",
       " 'af38e2ec-6685-413d-81ce-2b37658f1bb2',\n",
       " 'c3ef3984-6569-43eb-ac83-d57ca7f13f6a',\n",
       " 'd7209dc1-7dc2-4be6-a3b1-ffddbdb2cf2e',\n",
       " '04eef095-4562-4b58-a331-1fe3f4be7c34',\n",
       " 'f86d326f-cccd-4ab7-be3e-35493cc56649',\n",
       " '403647dc-d263-424f-a3d7-463d81209adb',\n",
       " '06ea7274-7495-417e-86b0-b17cf17bea84',\n",
       " '7115a074-7d27-4beb-8ed7-a0ec4193cbb9',\n",
       " '47afdbde-6bf9-4095-8d7c-d0529cd7650d',\n",
       " 'f3c09757-7845-437e-998c-0ea59ffb2af1',\n",
       " 'b1b39459-15c0-4ee2-965c-45e6c84ce28b',\n",
       " '08347021-ab89-4f25-8c34-30055079fc11',\n",
       " '45e8f9b2-35dd-4d5f-baa1-464cead80382',\n",
       " '5f8639cd-9ed3-48fe-b603-cbf4b262b5c0',\n",
       " '06b0ee14-4e22-43db-97f6-9175e100ad52',\n",
       " 'df5b5969-bb7d-413c-a588-f90f360ccffd',\n",
       " '12c02e09-1fcd-4321-a5bb-53f09264e909',\n",
       " 'f02a903d-bacd-44da-856b-3c6ba5230783',\n",
       " '002ba4b8-777b-42f6-9838-068a505aeb5a',\n",
       " '1c1b6a62-c9f7-4e23-978e-697f522b0fad',\n",
       " 'ba8653c2-4c9d-4c90-bd0e-509441480989',\n",
       " '7777ad3c-afe0-442a-a4db-878b0a6a1378',\n",
       " '6c784cfe-43d6-4a6b-84e1-723e79b53018',\n",
       " '0126c5e0-5975-4e2e-9c44-a20281f4c86c',\n",
       " '65f66c54-b143-4cae-8074-697142ee01cb',\n",
       " '95d92adf-64e4-4055-a508-be4fd31a8353',\n",
       " '059be580-b0c3-4a4d-8eac-ea73bf02a07f',\n",
       " 'c5964b2a-1776-40f8-9742-f7e06425a751',\n",
       " '092e6e83-bba3-4976-a8c4-64378a3a3a58',\n",
       " '161f2a44-764c-44d9-9ef3-5863bd0d7cbc',\n",
       " '79383f52-b9d0-4536-abed-0433563b68f1',\n",
       " '09de4849-f610-4fb9-b644-c2b9f73b961f',\n",
       " 'a4fdba1c-4e5d-41ab-b910-b10d7f898f51',\n",
       " '043b336d-5a8c-4b3a-bc46-3552e6cf95f0',\n",
       " '43a65a31-e002-4d65-8c7e-66a50414eb99',\n",
       " 'ea43af03-1f1d-41d6-aa6c-10ed58d0bd58',\n",
       " 'be9cfa01-9e8a-4c0b-ba42-b959d52e4292',\n",
       " '9476e10f-2849-4458-a96f-5a79b6fd218f',\n",
       " '2f696d36-78fe-4506-adc3-f714e35dc5e5',\n",
       " '37101731-7efd-46e9-8724-7ab937e3033b',\n",
       " '9875fe73-59fe-485f-9392-f7f9b8a03957',\n",
       " 'f3d7b6de-02f7-4202-b721-4cf68344d7e1',\n",
       " 'c3f2eea3-08c6-4735-920c-c59bd932b148',\n",
       " '10c6ff2a-4cf6-4c48-a03c-2e202b9ddbbd',\n",
       " 'fe77807d-54da-406a-a073-42ae99a9ec5b',\n",
       " '61d62a10-b694-4764-b498-b0edef876ddf',\n",
       " '65045c8a-6a41-44eb-8b54-17c793150802',\n",
       " '0e1a2798-4f52-42c3-a727-f24118468f5c',\n",
       " '98479076-1542-424e-8a6b-9852fede2cc9',\n",
       " '77737a97-0fd8-4b39-81d6-2524f186f9a2',\n",
       " '44dc5555-cbfa-4319-967f-4b7d78224b1b',\n",
       " '77061830-284f-445d-8957-4e007d3d376c',\n",
       " '38fbbf90-14b1-43a7-a949-62b6da926d99',\n",
       " '01486c53-6de9-4feb-8041-b1ab70e9cd5f',\n",
       " '0bcf617e-b48c-4d57-b047-4d93658a28b4',\n",
       " 'f06c0461-053e-4f80-a34d-a8ee13bcf848',\n",
       " '7c9e7eb1-d1e8-4a83-8de7-85f01c1a7c05',\n",
       " 'ee00b069-1d2e-4fe0-911b-d79026fd026d',\n",
       " '3f1ae5ce-b600-4e3e-bbe2-845d1e5ee41e',\n",
       " '7010150f-dae3-4ad1-a1ca-84b1bcf1b18a',\n",
       " '936bb862-54a7-47bc-a25a-32cb21004d4b',\n",
       " '24f7332f-0379-4eae-8493-71d2d612c5d3',\n",
       " 'a0b1de8f-51df-4ab5-8c66-2efae9029f7c',\n",
       " '46588361-d63e-471b-acb1-6af7bb1048ce',\n",
       " '495327a0-52ed-4d7c-931f-d2f76703ed13']"
      ]
     },
     "execution_count": 55,
     "metadata": {},
     "output_type": "execute_result"
    }
   ],
   "source": [
    "vector_store.add_documents(documents=text_chunks, ids=uuids)"
   ]
  },
  {
   "cell_type": "code",
   "execution_count": null,
   "metadata": {},
   "outputs": [],
   "source": [
    "results = vector_store.similarity_search(\n",
    "    \"what is llama2 and how it is different from mistral\",\n",
    "    k=2,\n",
    "    # filter={\"source\": \"E:\\\\2025\\\\Generative_AI\\\\Course\\\\genai-bootcamp\\\\data\\\\llama2.pdf\"}\n",
    ")"
   ]
  },
  {
   "cell_type": "code",
   "execution_count": 64,
   "metadata": {},
   "outputs": [
    {
     "name": "stdout",
     "output_type": "stream",
     "text": [
      "Llama 2 is a new technology that carries risks with use. Testing conducted to date has been in\n",
      "English, and has notcovered, nor could it coverall scenarios. For these reasons, aswith all LLMs,\n",
      "Llama 2’s potential outputs cannot be predicted in advance, and the model may in some instances\n",
      "produceinaccurateorobjectionableresponsestouserprompts. Therefore,beforedeployingany\n",
      "applications of Llama 2, developers should perform safety testing and tuning tailored to their [{'page': 76.0, 'source': 'E:\\\\2025\\\\Generative_AI\\\\Course\\\\genai-bootcamp\\\\data\\\\llama2.pdf'}]\n",
      "Llama 2 is a new technology that carries risks with use. Testing conducted to date has been in\n",
      "English, and has notcovered, nor could it coverall scenarios. For these reasons, aswith all LLMs,\n",
      "Llama 2’s potential outputs cannot be predicted in advance, and the model may in some instances\n",
      "produceinaccurateorobjectionableresponsestouserprompts. Therefore,beforedeployingany\n",
      "applications of Llama 2, developers should perform safety testing and tuning tailored to their [{'page': 76.0, 'source': 'E:\\\\2025\\\\Generative_AI\\\\Course\\\\genai-bootcamp\\\\data\\\\llama2.pdf'}]\n"
     ]
    }
   ],
   "source": [
    "for res in results:\n",
    "    print(f\"{res.page_content} [{res.metadata}]\")"
   ]
  },
  {
   "cell_type": "code",
   "execution_count": null,
   "metadata": {},
   "outputs": [],
   "source": []
  }
 ],
 "metadata": {
  "kernelspec": {
   "display_name": "langchain",
   "language": "python",
   "name": "python3"
  },
  "language_info": {
   "codemirror_mode": {
    "name": "ipython",
    "version": 3
   },
   "file_extension": ".py",
   "mimetype": "text/x-python",
   "name": "python",
   "nbconvert_exporter": "python",
   "pygments_lexer": "ipython3",
   "version": "3.10.0"
  }
 },
 "nbformat": 4,
 "nbformat_minor": 2
}
