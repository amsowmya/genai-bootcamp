{
 "cells": [
  {
   "cell_type": "code",
   "execution_count": 1,
   "id": "21a1615c",
   "metadata": {},
   "outputs": [],
   "source": [
    "from langgraph.graph import Graph\n",
    "from langgraph.graph import StateGraph"
   ]
  },
  {
   "cell_type": "code",
   "execution_count": 2,
   "id": "e1fb14ec",
   "metadata": {},
   "outputs": [],
   "source": [
    "# langgraph -> orchestration -> pipeline"
   ]
  },
  {
   "cell_type": "code",
   "execution_count": 159,
   "id": "b9b7c06a",
   "metadata": {},
   "outputs": [],
   "source": [
    "from langchain_groq import ChatGroq\n",
    "import os\n",
    "\n",
    "groq_api_key = os.getenv('GROQ_API_KEY')\n",
    "llm = ChatGroq(groq_api_key=groq_api_key, model_name=\"llama-3.3-70b-versatile\")"
   ]
  },
  {
   "cell_type": "code",
   "execution_count": 160,
   "id": "fd1b1964",
   "metadata": {},
   "outputs": [],
   "source": [
    "from langgraph.graph.message import add_messages\n",
    "from langchain_core.messages import AnyMessage\n",
    "from typing import TypedDict, Annotated"
   ]
  },
  {
   "cell_type": "code",
   "execution_count": null,
   "id": "a556bdc6",
   "metadata": {},
   "outputs": [],
   "source": [
    "class State(TypedDict):\n",
    "    messages: Annotated[list[AnyMessage], add_messages]"
   ]
  },
  {
   "cell_type": "code",
   "execution_count": 208,
   "id": "2ef9c737",
   "metadata": {},
   "outputs": [],
   "source": [
    "def LLM(state:State):\n",
    "    print(\"----\")\n",
    "    print(state['messages'][0])\n",
    "    print(\"----\")\n",
    "    input = state['messages'][0]\n",
    "    llm = ChatGroq(groq_api_key=groq_api_key, model_name=\"llama-3.3-70b-versatile\")\n",
    "    response = llm.invoke(input).content\n",
    "    return {\"messages\": [response]}"
   ]
  },
  {
   "cell_type": "code",
   "execution_count": 209,
   "id": "5b0479e8",
   "metadata": {},
   "outputs": [],
   "source": [
    "def Counter_Token(state:State):\n",
    "    print(\"----\")\n",
    "    print(state['messages'][-1])\n",
    "    print(\"----\")\n",
    "    text = state['messages'][-1]\n",
    "    # token = text.split()\n",
    "    # token_number = len(text)\n",
    "    print(\"*********\")\n",
    "    print(text)\n",
    "    print(\"*********\")\n",
    "    \n",
    "    response = f\"Total number of token in the generated output {2}\"\n",
    "    return {\"messages\": [response]}"
   ]
  },
  {
   "cell_type": "code",
   "execution_count": 210,
   "id": "bb88b919",
   "metadata": {},
   "outputs": [],
   "source": [
    "workflow = StateGraph(State)"
   ]
  },
  {
   "cell_type": "code",
   "execution_count": 211,
   "id": "b6717a4b",
   "metadata": {},
   "outputs": [
    {
     "data": {
      "text/plain": [
       "<langgraph.graph.state.StateGraph at 0x26c37752990>"
      ]
     },
     "execution_count": 211,
     "metadata": {},
     "output_type": "execute_result"
    }
   ],
   "source": [
    "workflow.add_node(\"MY_LLM\" ,LLM)\n",
    "workflow.add_node(\"Token_Counter\", Counter_Token)"
   ]
  },
  {
   "cell_type": "code",
   "execution_count": 212,
   "id": "7426127d",
   "metadata": {},
   "outputs": [
    {
     "data": {
      "text/plain": [
       "<langgraph.graph.state.StateGraph at 0x26c37752990>"
      ]
     },
     "execution_count": 212,
     "metadata": {},
     "output_type": "execute_result"
    }
   ],
   "source": [
    "workflow.add_edge(\"MY_LLM\", \"Token_Counter\")"
   ]
  },
  {
   "cell_type": "code",
   "execution_count": 213,
   "id": "cd6c5aba",
   "metadata": {},
   "outputs": [
    {
     "data": {
      "text/plain": [
       "<langgraph.graph.state.StateGraph at 0x26c37752990>"
      ]
     },
     "execution_count": 213,
     "metadata": {},
     "output_type": "execute_result"
    }
   ],
   "source": [
    "workflow.set_entry_point(\"MY_LLM\")\n",
    "workflow.set_finish_point(\"Token_Counter\")"
   ]
  },
  {
   "cell_type": "code",
   "execution_count": 214,
   "id": "201c1a36",
   "metadata": {},
   "outputs": [],
   "source": [
    "app = workflow.compile()"
   ]
  },
  {
   "cell_type": "code",
   "execution_count": 215,
   "id": "4a65ff0d",
   "metadata": {},
   "outputs": [
    {
     "data": {
      "image/png": "[encoded data removed]",
      "text/plain": [
       "<IPython.core.display.Image object>"
      ]
     },
     "metadata": {},
     "output_type": "display_data"
    }
   ],
   "source": [
    "from IPython.display import Image, display\n",
    "\n",
    "display(Image(app.get_graph().draw_mermaid_png()))"
   ]
  },
  {
   "cell_type": "code",
   "execution_count": 216,
   "id": "f87bcc89",
   "metadata": {},
   "outputs": [
    {
     "name": "stdout",
     "output_type": "stream",
     "text": [
      "----\n",
      "What is agentic ai explain in very detailed manner\n",
      "----\n",
      "----\n",
      "content='Agentic AI refers to a type of artificial intelligence (AI) that possesses the ability to act autonomously, make decisions, and take actions on behalf of its users or owners. The term \"agentic\" is derived from the word \"agent,\" which implies a sense of autonomy, self-directedness, and goal-oriented behavior.\\n\\n**Key Characteristics of Agentic AI:**\\n\\n1. **Autonomy**: Agentic AI systems have the ability to operate independently, making decisions and taking actions without direct human intervention.\\n2. **Self-directedness**: Agentic AI systems are capable of setting their own goals, priorities, and objectives, which may or may not align with the goals of their human creators.\\n3. **Goal-oriented behavior**: Agentic AI systems are designed to achieve specific objectives, which can be simple or complex, and may involve interacting with their environment, other agents, or humans.\\n4. **Decision-making**: Agentic AI systems can make decisions based on their own reasoning, analysis, and judgment, which may involve evaluating options, weighing risks and benefits, and selecting the best course of action.\\n5. **Action-taking**: Agentic AI systems can take actions to achieve their goals, which can include physical actions, such as moving a robot arm, or virtual actions, such as sending a message or making a decision.\\n\\n**Types of Agentic AI:**\\n\\n1. **Simple Agents**: These are basic agentic AI systems that can perform a specific task, such as a thermostat that can adjust the temperature in a room.\\n2. **Cognitive Agents**: These are more advanced agentic AI systems that can reason, learn, and make decisions based on their own cognitive processes.\\n3. **Social Agents**: These are agentic AI systems that can interact with humans and other agents, such as chatbots, virtual assistants, or robots.\\n4. **Hybrid Agents**: These are agentic AI systems that combine different types of intelligence, such as cognitive and social intelligence, to achieve complex goals.\\n\\n**Applications of Agentic AI:**\\n\\n1. **Robotics**: Agentic AI is used in robotics to create autonomous robots that can perform tasks such as assembly, navigation, and manipulation.\\n2. **Virtual Assistants**: Agentic AI is used in virtual assistants, such as Siri, Alexa, and Google Assistant, to provide personalized recommendations and assistance.\\n3. **Smart Homes**: Agentic AI is used in smart homes to control and automate various aspects of home life, such as lighting, temperature, and security.\\n4. **Healthcare**: Agentic AI is used in healthcare to create personalized treatment plans, monitor patient health, and provide remote care.\\n5. **Finance**: Agentic AI is used in finance to create autonomous trading systems, detect fraud, and provide personalized investment advice.\\n\\n**Challenges and Limitations of Agentic AI:**\\n\\n1. **Trust and Reliability**: Agentic AI systems must be designed to be trustworthy and reliable, as they can make decisions and take actions that may have significant consequences.\\n2. **Safety and Security**: Agentic AI systems must be designed to ensure safety and security, as they can interact with the physical world and potentially cause harm.\\n3. **Explainability and Transparency**: Agentic AI systems must be designed to provide explanations and transparency into their decision-making processes, as they can be complex and difficult to understand.\\n4. **Value Alignment**: Agentic AI systems must be designed to align with human values and goals, as they can potentially pursue objectives that are in conflict with human interests.\\n5. **Regulation and Governance**: Agentic AI systems must be regulated and governed to ensure that they are developed and used responsibly, and that their potential risks and benefits are carefully managed.\\n\\n**Future of Agentic AI:**\\n\\n1. **Increased Autonomy**: Agentic AI systems will become more autonomous and self-directed, allowing them to operate with greater independence and flexibility.\\n2. **Improved Decision-Making**: Agentic AI systems will become more sophisticated in their decision-making capabilities, allowing them to make more informed and effective decisions.\\n3. **Enhanced Human-AI Collaboration**: Agentic AI systems will be designed to collaborate more effectively with humans, allowing for more efficient and effective problem-solving.\\n4. **Expanded Applications**: Agentic AI will be applied to a wider range of domains, including healthcare, finance, education, and transportation.\\n5. **Greater Emphasis on Ethics and Responsibility**: As agentic AI becomes more pervasive, there will be a greater emphasis on ensuring that these systems are developed and used responsibly, and that their potential risks and benefits are carefully managed.\\n\\nIn conclusion, agentic AI is a rapidly evolving field that has the potential to transform many aspects of our lives. As these systems become more autonomous, self-directed, and goal-oriented, they will require careful consideration of their potential risks and benefits, as well as ongoing efforts to ensure that they are developed and used responsibly.' additional_kwargs={} response_metadata={} id='18094648-f9d2-4d3a-8ac8-d29c57e2c27c'\n",
      "----\n",
      "*********\n",
      "content='Agentic AI refers to a type of artificial intelligence (AI) that possesses the ability to act autonomously, make decisions, and take actions on behalf of its users or owners. The term \"agentic\" is derived from the word \"agent,\" which implies a sense of autonomy, self-directedness, and goal-oriented behavior.\\n\\n**Key Characteristics of Agentic AI:**\\n\\n1. **Autonomy**: Agentic AI systems have the ability to operate independently, making decisions and taking actions without direct human intervention.\\n2. **Self-directedness**: Agentic AI systems are capable of setting their own goals, priorities, and objectives, which may or may not align with the goals of their human creators.\\n3. **Goal-oriented behavior**: Agentic AI systems are designed to achieve specific objectives, which can be simple or complex, and may involve interacting with their environment, other agents, or humans.\\n4. **Decision-making**: Agentic AI systems can make decisions based on their own reasoning, analysis, and judgment, which may involve evaluating options, weighing risks and benefits, and selecting the best course of action.\\n5. **Action-taking**: Agentic AI systems can take actions to achieve their goals, which can include physical actions, such as moving a robot arm, or virtual actions, such as sending a message or making a decision.\\n\\n**Types of Agentic AI:**\\n\\n1. **Simple Agents**: These are basic agentic AI systems that can perform a specific task, such as a thermostat that can adjust the temperature in a room.\\n2. **Cognitive Agents**: These are more advanced agentic AI systems that can reason, learn, and make decisions based on their own cognitive processes.\\n3. **Social Agents**: These are agentic AI systems that can interact with humans and other agents, such as chatbots, virtual assistants, or robots.\\n4. **Hybrid Agents**: These are agentic AI systems that combine different types of intelligence, such as cognitive and social intelligence, to achieve complex goals.\\n\\n**Applications of Agentic AI:**\\n\\n1. **Robotics**: Agentic AI is used in robotics to create autonomous robots that can perform tasks such as assembly, navigation, and manipulation.\\n2. **Virtual Assistants**: Agentic AI is used in virtual assistants, such as Siri, Alexa, and Google Assistant, to provide personalized recommendations and assistance.\\n3. **Smart Homes**: Agentic AI is used in smart homes to control and automate various aspects of home life, such as lighting, temperature, and security.\\n4. **Healthcare**: Agentic AI is used in healthcare to create personalized treatment plans, monitor patient health, and provide remote care.\\n5. **Finance**: Agentic AI is used in finance to create autonomous trading systems, detect fraud, and provide personalized investment advice.\\n\\n**Challenges and Limitations of Agentic AI:**\\n\\n1. **Trust and Reliability**: Agentic AI systems must be designed to be trustworthy and reliable, as they can make decisions and take actions that may have significant consequences.\\n2. **Safety and Security**: Agentic AI systems must be designed to ensure safety and security, as they can interact with the physical world and potentially cause harm.\\n3. **Explainability and Transparency**: Agentic AI systems must be designed to provide explanations and transparency into their decision-making processes, as they can be complex and difficult to understand.\\n4. **Value Alignment**: Agentic AI systems must be designed to align with human values and goals, as they can potentially pursue objectives that are in conflict with human interests.\\n5. **Regulation and Governance**: Agentic AI systems must be regulated and governed to ensure that they are developed and used responsibly, and that their potential risks and benefits are carefully managed.\\n\\n**Future of Agentic AI:**\\n\\n1. **Increased Autonomy**: Agentic AI systems will become more autonomous and self-directed, allowing them to operate with greater independence and flexibility.\\n2. **Improved Decision-Making**: Agentic AI systems will become more sophisticated in their decision-making capabilities, allowing them to make more informed and effective decisions.\\n3. **Enhanced Human-AI Collaboration**: Agentic AI systems will be designed to collaborate more effectively with humans, allowing for more efficient and effective problem-solving.\\n4. **Expanded Applications**: Agentic AI will be applied to a wider range of domains, including healthcare, finance, education, and transportation.\\n5. **Greater Emphasis on Ethics and Responsibility**: As agentic AI becomes more pervasive, there will be a greater emphasis on ensuring that these systems are developed and used responsibly, and that their potential risks and benefits are carefully managed.\\n\\nIn conclusion, agentic AI is a rapidly evolving field that has the potential to transform many aspects of our lives. As these systems become more autonomous, self-directed, and goal-oriented, they will require careful consideration of their potential risks and benefits, as well as ongoing efforts to ensure that they are developed and used responsibly.' additional_kwargs={} response_metadata={} id='18094648-f9d2-4d3a-8ac8-d29c57e2c27c'\n",
      "*********\n"
     ]
    },
    {
     "data": {
      "text/plain": [
       "{'messages': [HumanMessage(content='What is agentic ai explain in very detailed manner', additional_kwargs={}, response_metadata={}, id='8d5f8a29-1941-43ba-bf91-c98be710a0e8'),\n",
       "  HumanMessage(content='Agentic AI refers to a type of artificial intelligence (AI) that possesses the ability to act autonomously, make decisions, and take actions on behalf of its users or owners. The term \"agentic\" is derived from the word \"agent,\" which implies a sense of autonomy, self-directedness, and goal-oriented behavior.\\n\\n**Key Characteristics of Agentic AI:**\\n\\n1. **Autonomy**: Agentic AI systems have the ability to operate independently, making decisions and taking actions without direct human intervention.\\n2. **Self-directedness**: Agentic AI systems are capable of setting their own goals, priorities, and objectives, which may or may not align with the goals of their human creators.\\n3. **Goal-oriented behavior**: Agentic AI systems are designed to achieve specific objectives, which can be simple or complex, and may involve interacting with their environment, other agents, or humans.\\n4. **Decision-making**: Agentic AI systems can make decisions based on their own reasoning, analysis, and judgment, which may involve evaluating options, weighing risks and benefits, and selecting the best course of action.\\n5. **Action-taking**: Agentic AI systems can take actions to achieve their goals, which can include physical actions, such as moving a robot arm, or virtual actions, such as sending a message or making a decision.\\n\\n**Types of Agentic AI:**\\n\\n1. **Simple Agents**: These are basic agentic AI systems that can perform a specific task, such as a thermostat that can adjust the temperature in a room.\\n2. **Cognitive Agents**: These are more advanced agentic AI systems that can reason, learn, and make decisions based on their own cognitive processes.\\n3. **Social Agents**: These are agentic AI systems that can interact with humans and other agents, such as chatbots, virtual assistants, or robots.\\n4. **Hybrid Agents**: These are agentic AI systems that combine different types of intelligence, such as cognitive and social intelligence, to achieve complex goals.\\n\\n**Applications of Agentic AI:**\\n\\n1. **Robotics**: Agentic AI is used in robotics to create autonomous robots that can perform tasks such as assembly, navigation, and manipulation.\\n2. **Virtual Assistants**: Agentic AI is used in virtual assistants, such as Siri, Alexa, and Google Assistant, to provide personalized recommendations and assistance.\\n3. **Smart Homes**: Agentic AI is used in smart homes to control and automate various aspects of home life, such as lighting, temperature, and security.\\n4. **Healthcare**: Agentic AI is used in healthcare to create personalized treatment plans, monitor patient health, and provide remote care.\\n5. **Finance**: Agentic AI is used in finance to create autonomous trading systems, detect fraud, and provide personalized investment advice.\\n\\n**Challenges and Limitations of Agentic AI:**\\n\\n1. **Trust and Reliability**: Agentic AI systems must be designed to be trustworthy and reliable, as they can make decisions and take actions that may have significant consequences.\\n2. **Safety and Security**: Agentic AI systems must be designed to ensure safety and security, as they can interact with the physical world and potentially cause harm.\\n3. **Explainability and Transparency**: Agentic AI systems must be designed to provide explanations and transparency into their decision-making processes, as they can be complex and difficult to understand.\\n4. **Value Alignment**: Agentic AI systems must be designed to align with human values and goals, as they can potentially pursue objectives that are in conflict with human interests.\\n5. **Regulation and Governance**: Agentic AI systems must be regulated and governed to ensure that they are developed and used responsibly, and that their potential risks and benefits are carefully managed.\\n\\n**Future of Agentic AI:**\\n\\n1. **Increased Autonomy**: Agentic AI systems will become more autonomous and self-directed, allowing them to operate with greater independence and flexibility.\\n2. **Improved Decision-Making**: Agentic AI systems will become more sophisticated in their decision-making capabilities, allowing them to make more informed and effective decisions.\\n3. **Enhanced Human-AI Collaboration**: Agentic AI systems will be designed to collaborate more effectively with humans, allowing for more efficient and effective problem-solving.\\n4. **Expanded Applications**: Agentic AI will be applied to a wider range of domains, including healthcare, finance, education, and transportation.\\n5. **Greater Emphasis on Ethics and Responsibility**: As agentic AI becomes more pervasive, there will be a greater emphasis on ensuring that these systems are developed and used responsibly, and that their potential risks and benefits are carefully managed.\\n\\nIn conclusion, agentic AI is a rapidly evolving field that has the potential to transform many aspects of our lives. As these systems become more autonomous, self-directed, and goal-oriented, they will require careful consideration of their potential risks and benefits, as well as ongoing efforts to ensure that they are developed and used responsibly.', additional_kwargs={}, response_metadata={}, id='18094648-f9d2-4d3a-8ac8-d29c57e2c27c'),\n",
       "  HumanMessage(content='Total number of token in the generated output 2', additional_kwargs={}, response_metadata={}, id='128c1304-d742-4651-b1f1-3f67bfc73fdc')]}"
      ]
     },
     "execution_count": 216,
     "metadata": {},
     "output_type": "execute_result"
    }
   ],
   "source": [
    "input = {\"messages\": [\"What is agentic ai explain in very detailed manner\"]}\n",
    "\n",
    "app.invoke(input)"
   ]
  },
  {
   "cell_type": "code",
   "execution_count": 217,
   "id": "10ce8f60",
   "metadata": {},
   "outputs": [
    {
     "name": "stdout",
     "output_type": "stream",
     "text": [
      "----\n",
      "What is agentic ai explain in very detailed manner\n",
      "----\n",
      "here is output from MY_LLM\n",
      "----\n",
      "{'messages': ['Agentic AI refers to a type of artificial intelligence (AI) that is designed to act autonomously, making decisions and taking actions on its own behalf, without direct human intervention. The term \"agentic\" comes from the word \"agent,\" which refers to an entity that can act independently and make decisions based on its own goals, motivations, and preferences.\\n\\n**Key Characteristics of Agentic AI:**\\n\\n1. **Autonomy**: Agentic AI systems have the ability to operate independently, making decisions and taking actions without human intervention.\\n2. **Goal-oriented**: Agentic AI systems are designed to achieve specific goals, which may be predefined or learned through experience.\\n3. **Self-awareness**: Agentic AI systems have a sense of self and can reflect on their own internal state, including their goals, motivations, and preferences.\\n4. **Decision-making**: Agentic AI systems can make decisions based on their own reasoning and problem-solving abilities, rather than relying solely on human input.\\n5. **Action**: Agentic AI systems can take actions in the physical or virtual world, such as moving a robot arm or sending a message.\\n6. **Learning**: Agentic AI systems can learn from experience and adapt to new situations, allowing them to improve their performance over time.\\n7. **Social interaction**: Agentic AI systems can interact with humans and other AI systems, communicating and cooperating to achieve common goals.\\n\\n**Types of Agentic AI:**\\n\\n1. **Reactive agents**: These agents react to their environment and respond to stimuli, but do not have goals or motivations.\\n2. **Deliberative agents**: These agents have goals and motivations, but may not have the ability to learn or adapt.\\n3. **Hybrid agents**: These agents combine reactive and deliberative approaches, using a combination of rules and machine learning to make decisions.\\n4. **Cognitive agents**: These agents have advanced cognitive abilities, such as reasoning, problem-solving, and decision-making, and can learn and adapt over time.\\n\\n**Applications of Agentic AI:**\\n\\n1. **Robotics**: Agentic AI is used in robotics to enable robots to navigate and interact with their environment, make decisions, and take actions.\\n2. **Autonomous vehicles**: Agentic AI is used in self-driving cars to enable them to navigate roads, avoid obstacles, and make decisions in real-time.\\n3. **Smart homes**: Agentic AI is used in smart homes to control lighting, temperature, and security systems, and to optimize energy consumption.\\n4. **Healthcare**: Agentic AI is used in healthcare to analyze medical data, diagnose diseases, and develop personalized treatment plans.\\n5. **Finance**: Agentic AI is used in finance to analyze market trends, make investment decisions, and optimize portfolios.\\n\\n**Benefits of Agentic AI:**\\n\\n1. **Increased efficiency**: Agentic AI can automate routine tasks and optimize processes, freeing up human resources for more complex and creative tasks.\\n2. **Improved decision-making**: Agentic AI can analyze large amounts of data and make decisions based on objective criteria, reducing the risk of human bias and error.\\n3. **Enhanced customer experience**: Agentic AI can provide personalized recommendations and services, improving customer satisfaction and loyalty.\\n4. **Increased productivity**: Agentic AI can work around the clock, without breaks or downtime, increasing productivity and output.\\n5. **Improved safety**: Agentic AI can monitor and respond to safety risks, reducing the risk of accidents and injuries.\\n\\n**Challenges and Limitations of Agentic AI:**\\n\\n1. **Complexity**: Agentic AI systems can be complex and difficult to design, develop, and maintain.\\n2. **Safety and security**: Agentic AI systems can pose safety and security risks if they are not designed and tested properly.\\n3. **Ethics and accountability**: Agentic AI systems can raise ethical concerns, such as accountability and transparency, if they are not designed with human values and principles in mind.\\n4. **Explainability**: Agentic AI systems can be difficult to understand and interpret, making it challenging to explain their decisions and actions.\\n5. **Dependence on data**: Agentic AI systems rely on high-quality data to make decisions and take actions, and can be limited by data quality and availability.\\n\\n**Future of Agentic AI:**\\n\\n1. **Increased autonomy**: Agentic AI systems will become more autonomous, making decisions and taking actions with minimal human intervention.\\n2. **Improved decision-making**: Agentic AI systems will become more sophisticated, using advanced machine learning and reasoning techniques to make decisions.\\n3. **Greater integration**: Agentic AI systems will be integrated into more aspects of life, including homes, transportation, and healthcare.\\n4. **More human-like interaction**: Agentic AI systems will become more human-like, using natural language processing and emotional intelligence to interact with humans.\\n5. **Increased accountability**: Agentic AI systems will be designed with accountability and transparency in mind, ensuring that their decisions and actions are explainable and justifiable.\\n\\nIn conclusion, agentic AI is a type of artificial intelligence that is designed to act autonomously, making decisions and taking actions on its own behalf. Agentic AI has the potential to revolutionize many aspects of life, from robotics and autonomous vehicles to healthcare and finance. However, it also poses challenges and limitations, such as complexity, safety and security risks, and ethical concerns. As agentic AI continues to evolve, it is essential to prioritize accountability, transparency, and human values in its design and development.']}\n",
      "\n",
      "\n",
      "----\n",
      "content='Agentic AI refers to a type of artificial intelligence (AI) that is designed to act autonomously, making decisions and taking actions on its own behalf, without direct human intervention. The term \"agentic\" comes from the word \"agent,\" which refers to an entity that can act independently and make decisions based on its own goals, motivations, and preferences.\\n\\n**Key Characteristics of Agentic AI:**\\n\\n1. **Autonomy**: Agentic AI systems have the ability to operate independently, making decisions and taking actions without human intervention.\\n2. **Goal-oriented**: Agentic AI systems are designed to achieve specific goals, which may be predefined or learned through experience.\\n3. **Self-awareness**: Agentic AI systems have a sense of self and can reflect on their own internal state, including their goals, motivations, and preferences.\\n4. **Decision-making**: Agentic AI systems can make decisions based on their own reasoning and problem-solving abilities, rather than relying solely on human input.\\n5. **Action**: Agentic AI systems can take actions in the physical or virtual world, such as moving a robot arm or sending a message.\\n6. **Learning**: Agentic AI systems can learn from experience and adapt to new situations, allowing them to improve their performance over time.\\n7. **Social interaction**: Agentic AI systems can interact with humans and other AI systems, communicating and cooperating to achieve common goals.\\n\\n**Types of Agentic AI:**\\n\\n1. **Reactive agents**: These agents react to their environment and respond to stimuli, but do not have goals or motivations.\\n2. **Deliberative agents**: These agents have goals and motivations, but may not have the ability to learn or adapt.\\n3. **Hybrid agents**: These agents combine reactive and deliberative approaches, using a combination of rules and machine learning to make decisions.\\n4. **Cognitive agents**: These agents have advanced cognitive abilities, such as reasoning, problem-solving, and decision-making, and can learn and adapt over time.\\n\\n**Applications of Agentic AI:**\\n\\n1. **Robotics**: Agentic AI is used in robotics to enable robots to navigate and interact with their environment, make decisions, and take actions.\\n2. **Autonomous vehicles**: Agentic AI is used in self-driving cars to enable them to navigate roads, avoid obstacles, and make decisions in real-time.\\n3. **Smart homes**: Agentic AI is used in smart homes to control lighting, temperature, and security systems, and to optimize energy consumption.\\n4. **Healthcare**: Agentic AI is used in healthcare to analyze medical data, diagnose diseases, and develop personalized treatment plans.\\n5. **Finance**: Agentic AI is used in finance to analyze market trends, make investment decisions, and optimize portfolios.\\n\\n**Benefits of Agentic AI:**\\n\\n1. **Increased efficiency**: Agentic AI can automate routine tasks and optimize processes, freeing up human resources for more complex and creative tasks.\\n2. **Improved decision-making**: Agentic AI can analyze large amounts of data and make decisions based on objective criteria, reducing the risk of human bias and error.\\n3. **Enhanced customer experience**: Agentic AI can provide personalized recommendations and services, improving customer satisfaction and loyalty.\\n4. **Increased productivity**: Agentic AI can work around the clock, without breaks or downtime, increasing productivity and output.\\n5. **Improved safety**: Agentic AI can monitor and respond to safety risks, reducing the risk of accidents and injuries.\\n\\n**Challenges and Limitations of Agentic AI:**\\n\\n1. **Complexity**: Agentic AI systems can be complex and difficult to design, develop, and maintain.\\n2. **Safety and security**: Agentic AI systems can pose safety and security risks if they are not designed and tested properly.\\n3. **Ethics and accountability**: Agentic AI systems can raise ethical concerns, such as accountability and transparency, if they are not designed with human values and principles in mind.\\n4. **Explainability**: Agentic AI systems can be difficult to understand and interpret, making it challenging to explain their decisions and actions.\\n5. **Dependence on data**: Agentic AI systems rely on high-quality data to make decisions and take actions, and can be limited by data quality and availability.\\n\\n**Future of Agentic AI:**\\n\\n1. **Increased autonomy**: Agentic AI systems will become more autonomous, making decisions and taking actions with minimal human intervention.\\n2. **Improved decision-making**: Agentic AI systems will become more sophisticated, using advanced machine learning and reasoning techniques to make decisions.\\n3. **Greater integration**: Agentic AI systems will be integrated into more aspects of life, including homes, transportation, and healthcare.\\n4. **More human-like interaction**: Agentic AI systems will become more human-like, using natural language processing and emotional intelligence to interact with humans.\\n5. **Increased accountability**: Agentic AI systems will be designed with accountability and transparency in mind, ensuring that their decisions and actions are explainable and justifiable.\\n\\nIn conclusion, agentic AI is a type of artificial intelligence that is designed to act autonomously, making decisions and taking actions on its own behalf. Agentic AI has the potential to revolutionize many aspects of life, from robotics and autonomous vehicles to healthcare and finance. However, it also poses challenges and limitations, such as complexity, safety and security risks, and ethical concerns. As agentic AI continues to evolve, it is essential to prioritize accountability, transparency, and human values in its design and development.' additional_kwargs={} response_metadata={} id='ee7e1e1b-237e-40a5-8177-42d426d82f42'\n",
      "----\n",
      "*********\n",
      "content='Agentic AI refers to a type of artificial intelligence (AI) that is designed to act autonomously, making decisions and taking actions on its own behalf, without direct human intervention. The term \"agentic\" comes from the word \"agent,\" which refers to an entity that can act independently and make decisions based on its own goals, motivations, and preferences.\\n\\n**Key Characteristics of Agentic AI:**\\n\\n1. **Autonomy**: Agentic AI systems have the ability to operate independently, making decisions and taking actions without human intervention.\\n2. **Goal-oriented**: Agentic AI systems are designed to achieve specific goals, which may be predefined or learned through experience.\\n3. **Self-awareness**: Agentic AI systems have a sense of self and can reflect on their own internal state, including their goals, motivations, and preferences.\\n4. **Decision-making**: Agentic AI systems can make decisions based on their own reasoning and problem-solving abilities, rather than relying solely on human input.\\n5. **Action**: Agentic AI systems can take actions in the physical or virtual world, such as moving a robot arm or sending a message.\\n6. **Learning**: Agentic AI systems can learn from experience and adapt to new situations, allowing them to improve their performance over time.\\n7. **Social interaction**: Agentic AI systems can interact with humans and other AI systems, communicating and cooperating to achieve common goals.\\n\\n**Types of Agentic AI:**\\n\\n1. **Reactive agents**: These agents react to their environment and respond to stimuli, but do not have goals or motivations.\\n2. **Deliberative agents**: These agents have goals and motivations, but may not have the ability to learn or adapt.\\n3. **Hybrid agents**: These agents combine reactive and deliberative approaches, using a combination of rules and machine learning to make decisions.\\n4. **Cognitive agents**: These agents have advanced cognitive abilities, such as reasoning, problem-solving, and decision-making, and can learn and adapt over time.\\n\\n**Applications of Agentic AI:**\\n\\n1. **Robotics**: Agentic AI is used in robotics to enable robots to navigate and interact with their environment, make decisions, and take actions.\\n2. **Autonomous vehicles**: Agentic AI is used in self-driving cars to enable them to navigate roads, avoid obstacles, and make decisions in real-time.\\n3. **Smart homes**: Agentic AI is used in smart homes to control lighting, temperature, and security systems, and to optimize energy consumption.\\n4. **Healthcare**: Agentic AI is used in healthcare to analyze medical data, diagnose diseases, and develop personalized treatment plans.\\n5. **Finance**: Agentic AI is used in finance to analyze market trends, make investment decisions, and optimize portfolios.\\n\\n**Benefits of Agentic AI:**\\n\\n1. **Increased efficiency**: Agentic AI can automate routine tasks and optimize processes, freeing up human resources for more complex and creative tasks.\\n2. **Improved decision-making**: Agentic AI can analyze large amounts of data and make decisions based on objective criteria, reducing the risk of human bias and error.\\n3. **Enhanced customer experience**: Agentic AI can provide personalized recommendations and services, improving customer satisfaction and loyalty.\\n4. **Increased productivity**: Agentic AI can work around the clock, without breaks or downtime, increasing productivity and output.\\n5. **Improved safety**: Agentic AI can monitor and respond to safety risks, reducing the risk of accidents and injuries.\\n\\n**Challenges and Limitations of Agentic AI:**\\n\\n1. **Complexity**: Agentic AI systems can be complex and difficult to design, develop, and maintain.\\n2. **Safety and security**: Agentic AI systems can pose safety and security risks if they are not designed and tested properly.\\n3. **Ethics and accountability**: Agentic AI systems can raise ethical concerns, such as accountability and transparency, if they are not designed with human values and principles in mind.\\n4. **Explainability**: Agentic AI systems can be difficult to understand and interpret, making it challenging to explain their decisions and actions.\\n5. **Dependence on data**: Agentic AI systems rely on high-quality data to make decisions and take actions, and can be limited by data quality and availability.\\n\\n**Future of Agentic AI:**\\n\\n1. **Increased autonomy**: Agentic AI systems will become more autonomous, making decisions and taking actions with minimal human intervention.\\n2. **Improved decision-making**: Agentic AI systems will become more sophisticated, using advanced machine learning and reasoning techniques to make decisions.\\n3. **Greater integration**: Agentic AI systems will be integrated into more aspects of life, including homes, transportation, and healthcare.\\n4. **More human-like interaction**: Agentic AI systems will become more human-like, using natural language processing and emotional intelligence to interact with humans.\\n5. **Increased accountability**: Agentic AI systems will be designed with accountability and transparency in mind, ensuring that their decisions and actions are explainable and justifiable.\\n\\nIn conclusion, agentic AI is a type of artificial intelligence that is designed to act autonomously, making decisions and taking actions on its own behalf. Agentic AI has the potential to revolutionize many aspects of life, from robotics and autonomous vehicles to healthcare and finance. However, it also poses challenges and limitations, such as complexity, safety and security risks, and ethical concerns. As agentic AI continues to evolve, it is essential to prioritize accountability, transparency, and human values in its design and development.' additional_kwargs={} response_metadata={} id='ee7e1e1b-237e-40a5-8177-42d426d82f42'\n",
      "*********\n",
      "here is output from Token_Counter\n",
      "----\n",
      "{'messages': ['Total number of token in the generated output 2']}\n",
      "\n",
      "\n"
     ]
    }
   ],
   "source": [
    "for output in app.stream(input):\n",
    "    for key, value in output.items():\n",
    "        print(f\"here is output from {key}\")\n",
    "        print(\"----\")\n",
    "        print(value)\n",
    "        print(\"\\n\")"
   ]
  },
  {
   "cell_type": "code",
   "execution_count": null,
   "id": "e4f0bcb3",
   "metadata": {},
   "outputs": [],
   "source": []
  },
  {
   "cell_type": "code",
   "execution_count": 40,
   "id": "a4be6e00",
   "metadata": {},
   "outputs": [],
   "source": [
    "from langchain_core.output_parsers import StrOutputParser\n",
    "from langchain_core.prompts import ChatPromptTemplate\n",
    "from langchain_core.runnables import RunnablePassthrough\n",
    "from langchain_community.document_loaders import TextLoader, DirectoryLoader\n",
    "from langchain_community.vectorstores import Chroma\n",
    "from langchain.text_splitter import RecursiveCharacterTextSplitter"
   ]
  },
  {
   "cell_type": "code",
   "execution_count": 43,
   "id": "a9186578",
   "metadata": {},
   "outputs": [],
   "source": [
    "loader = DirectoryLoader(\"../data\", glob=\"./*.txt\", loader_cls=TextLoader)\n",
    "docs = loader.load()\n",
    "text_splitter = RecursiveCharacterTextSplitter(\n",
    "    chunk_size=500,\n",
    "    chunk_overlap=200\n",
    ")\n",
    "new_docs = text_splitter.split_documents(docs)\n",
    "doc_string = [doc.page_content for doc in new_docs]"
   ]
  },
  {
   "cell_type": "code",
   "execution_count": 44,
   "id": "7dd7eef2",
   "metadata": {},
   "outputs": [
    {
     "data": {
      "text/plain": [
       "'Madam Speaker, Madam Vice President, our First Lady and Second Gentleman. Members of Congress and the Cabinet. Justices of the Supreme Court. My fellow Americans.  \\n\\nLast year COVID-19 kept us apart. This year we are finally together again. \\n\\nTonight, we meet as Democrats Republicans and Independents. But most importantly as Americans. \\n\\nWith a duty to one another to the American people to the Constitution. \\n\\nAnd with an unwavering resolve that freedom will always triumph over tyranny.'"
      ]
     },
     "execution_count": 44,
     "metadata": {},
     "output_type": "execute_result"
    }
   ],
   "source": [
    "doc_string[0]"
   ]
  },
  {
   "cell_type": "code",
   "execution_count": 45,
   "id": "c9e80502",
   "metadata": {},
   "outputs": [
    {
     "name": "stderr",
     "output_type": "stream",
     "text": [
      "c:\\Users\\sowmy\\anaconda3\\envs\\langgraph\\Lib\\site-packages\\tqdm\\auto.py:21: TqdmWarning: IProgress not found. Please update jupyter and ipywidgets. See https://ipywidgets.readthedocs.io/en/stable/user_install.html\n",
      "  from .autonotebook import tqdm as notebook_tqdm\n"
     ]
    }
   ],
   "source": [
    "from langchain_huggingface import  HuggingFaceEmbeddings\n",
    "\n",
    "embeddings = HuggingFaceEmbeddings(model_name=\"sentence-transformers/all-MiniLM-L6-v2\")"
   ]
  },
  {
   "cell_type": "code",
   "execution_count": 48,
   "id": "656cd621",
   "metadata": {},
   "outputs": [],
   "source": [
    "db = Chroma.from_documents(new_docs, embeddings)\n",
    "\n",
    "retriever = db.as_retriever(search_kwargs={\"k\": 3})"
   ]
  },
  {
   "cell_type": "code",
   "execution_count": 49,
   "id": "7c051b72",
   "metadata": {},
   "outputs": [
    {
     "name": "stdout",
     "output_type": "stream",
     "text": [
      "{'source': '..\\\\data\\\\state_of_the_union.txt'}\n",
      "And soon, we’ll strengthen the Violence Against Women Act that I first wrote three decades ago. It is important for us to show the nation that we can come together and do big things. \n",
      "\n",
      "So tonight I’m offering a Unity Agenda for the Nation. Four big things we can do together.  \n",
      "\n",
      "First, beat the opioid epidemic. \n",
      "\n",
      "There is so much we can do. Increase funding for prevention, treatment, harm reduction, and recovery.\n"
     ]
    },
    {
     "name": "stderr",
     "output_type": "stream",
     "text": [
      "C:\\Users\\sowmy\\AppData\\Local\\Temp\\ipykernel_16868\\1705097344.py:3: LangChainDeprecationWarning: The method `BaseRetriever.get_relevant_documents` was deprecated in langchain-core 0.1.46 and will be removed in 1.0. Use :meth:`~invoke` instead.\n",
      "  docs = retriever.get_relevant_documents(query)\n"
     ]
    }
   ],
   "source": [
    "query = \"\"\n",
    "\n",
    "docs = retriever.get_relevant_documents(query)\n",
    "print(docs[0].metadata)\n",
    "print(docs[0].page_content)"
   ]
  },
  {
   "cell_type": "code",
   "execution_count": 64,
   "id": "5227feea",
   "metadata": {},
   "outputs": [],
   "source": [
    "AgentState = {}"
   ]
  },
  {
   "cell_type": "code",
   "execution_count": 65,
   "id": "2433b9c2",
   "metadata": {},
   "outputs": [],
   "source": [
    "AgentState['messages'] = []"
   ]
  },
  {
   "cell_type": "code",
   "execution_count": 66,
   "id": "361ea4c1",
   "metadata": {},
   "outputs": [
    {
     "data": {
      "text/plain": [
       "{'messages': []}"
      ]
     },
     "execution_count": 66,
     "metadata": {},
     "output_type": "execute_result"
    }
   ],
   "source": [
    "AgentState"
   ]
  },
  {
   "cell_type": "code",
   "execution_count": 67,
   "id": "97e4a42c",
   "metadata": {},
   "outputs": [],
   "source": [
    "AgentState['messages'].append(\"hi\")"
   ]
  },
  {
   "cell_type": "code",
   "execution_count": 68,
   "id": "c1aa8aca",
   "metadata": {},
   "outputs": [
    {
     "data": {
      "text/plain": [
       "{'messages': ['hi']}"
      ]
     },
     "execution_count": 68,
     "metadata": {},
     "output_type": "execute_result"
    }
   ],
   "source": [
    "AgentState"
   ]
  },
  {
   "cell_type": "code",
   "execution_count": 69,
   "id": "0416350e",
   "metadata": {},
   "outputs": [],
   "source": [
    "AgentState['messages'].append(\"how are you?\")"
   ]
  },
  {
   "cell_type": "code",
   "execution_count": 70,
   "id": "72d92241",
   "metadata": {},
   "outputs": [
    {
     "data": {
      "text/plain": [
       "{'messages': ['hi', 'how are you?']}"
      ]
     },
     "execution_count": 70,
     "metadata": {},
     "output_type": "execute_result"
    }
   ],
   "source": [
    "# we are flowing this state accross the different nodes inside the langgraph workflow\n",
    "\n",
    "AgentState"
   ]
  },
  {
   "cell_type": "code",
   "execution_count": 138,
   "id": "1dd2e7c0",
   "metadata": {},
   "outputs": [],
   "source": [
    "AgentState = {}\n",
    "AgentState['messages'] = []"
   ]
  },
  {
   "cell_type": "code",
   "execution_count": 139,
   "id": "06f393f8",
   "metadata": {},
   "outputs": [],
   "source": [
    "def function_1(AgentState):\n",
    "    message = AgentState['messages']\n",
    "    \n",
    "    question = message[0]\n",
    "    \n",
    "    complete_prompt = \"Your task is to provide only the brief answer based on the user query.\\\n",
    "        Don't include too much reasoing. Following is the user query: \" + question\n",
    "        \n",
    "    response = llm.invoke(complete_prompt)\n",
    "    \n",
    "    AgentState['messages'].append(response.content)\n",
    "    \n",
    "    return AgentState"
   ]
  },
  {
   "cell_type": "code",
   "execution_count": 140,
   "id": "6d94aff7",
   "metadata": {},
   "outputs": [],
   "source": [
    "def function_2(AgentState):\n",
    "    message = AgentState['messages']\n",
    "    question = message[0]\n",
    "    \n",
    "    template = \"\"\"Answer the question based only on the following context:\n",
    "    {context}\n",
    "    \n",
    "    Question: {question}\n",
    "    \"\"\"\n",
    "    \n",
    "    prompt = ChatPromptTemplate.from_template(template)\n",
    "    \n",
    "    retrieval_chain = (\n",
    "        {\"context\": retriever, \"question\": RunnablePassthrough()}\n",
    "        | prompt \n",
    "        | llm \n",
    "        | StrOutputParser()\n",
    "    )\n",
    "    \n",
    "    result = retrieval_chain.invoke(question)\n",
    "    return result"
   ]
  },
  {
   "cell_type": "code",
   "execution_count": 141,
   "id": "1300ceba",
   "metadata": {},
   "outputs": [],
   "source": [
    "workflow = Graph()\n",
    "\n",
    "workflow.add_node(\"LLM\", function_1)\n",
    "workflow.add_node(\"RAGtool\", function_2)\n",
    "\n",
    "workflow.add_edge(\"LLM\", \"RAGtool\")\n",
    "\n",
    "workflow.set_entry_point(\"LLM\")\n",
    "workflow.set_finish_point(\"RAGtool\")\n",
    "\n",
    "app2 = workflow.compile()"
   ]
  },
  {
   "cell_type": "code",
   "execution_count": 142,
   "id": "39925dac",
   "metadata": {},
   "outputs": [
    {
     "data": {
      "image/png": "[encoded data removed]",
      "text/plain": [
       "<IPython.core.display.Image object>"
      ]
     },
     "metadata": {},
     "output_type": "display_data"
    }
   ],
   "source": [
    "from IPython.display import Image, display\n",
    "\n",
    "display(Image(app2.get_graph().draw_mermaid_png()))"
   ]
  },
  {
   "cell_type": "code",
   "execution_count": 143,
   "id": "1d8c52cf",
   "metadata": {},
   "outputs": [
    {
     "data": {
      "text/plain": [
       "'The provided context does not contain the sentence \"cancer from prolonged exposure to burn pits ravaged Heath\\'s lungs and body.\" Therefore, it is not possible to answer the question based on the given context. The context does discuss the issue of toxic exposures from burn pits and their effects on veterans, but it does not mention a specific individual named Heath.'"
      ]
     },
     "execution_count": 143,
     "metadata": {},
     "output_type": "execute_result"
    }
   ],
   "source": [
    "app2.invoke({\"messages\": [\"What is the meaning of 'cancer from prolonged exposure to burn pits ravaged Heath's lungs and body?\"]})"
   ]
  },
  {
   "cell_type": "code",
   "execution_count": 145,
   "id": "30243b49",
   "metadata": {},
   "outputs": [
    {
     "name": "stdout",
     "output_type": "stream",
     "text": [
      "here is output from LLM\n",
      "_____\n",
      "{'messages': [\"What is the meaning of 'cancer from prolonged exposure to burn pits ravaged Heath's lungs and body?\", 'It means that Heath developed cancer due to long-term exposure to toxic fumes from burn pits, which severely damaged his lungs and overall body.']}\n",
      "\n",
      "\n",
      "here is output from RAGtool\n",
      "_____\n",
      "The provided context does not mention 'Heath' or the specific phrase 'cancer from prolonged exposure to burn pits ravaged Heath's lungs and body.' It does, however, discuss the topic of burn pits and their toxic effects on veterans. According to the context, veterans who breathed in toxic smoke from burn pits in Iraq and Afghanistan experienced various health issues, including headaches, numbness, and dizziness. Additionally, it mentions that the president is expanding eligibility to veterans suffering from nine respiratory cancers. This implies that prolonged exposure to burn pits can lead to serious health problems, including respiratory cancers.\n",
      "\n",
      "\n"
     ]
    }
   ],
   "source": [
    "for output in app2.stream({\"messages\": [\"What is the meaning of 'cancer from prolonged exposure to burn pits ravaged Heath's lungs and body?\"]}):\n",
    "    for key, value in output.items():\n",
    "        print(f\"here is output from {key}\")\n",
    "        print(\"_____\")\n",
    "        print(value)\n",
    "        print(\"\\n\")"
   ]
  },
  {
   "cell_type": "code",
   "execution_count": null,
   "id": "73282084",
   "metadata": {},
   "outputs": [],
   "source": []
  }
 ],
 "metadata": {
  "kernelspec": {
   "display_name": "langgraph",
   "language": "python",
   "name": "python3"
  },
  "language_info": {
   "codemirror_mode": {
    "name": "ipython",
    "version": 3
   },
   "file_extension": ".py",
   "mimetype": "text/x-python",
   "name": "python",
   "nbconvert_exporter": "python",
   "pygments_lexer": "ipython3",
   "version": "3.12.0"
  }
 },
 "nbformat": 4,
 "nbformat_minor": 5
}
