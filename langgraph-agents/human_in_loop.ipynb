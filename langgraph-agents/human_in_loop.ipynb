{
 "cells": [
  {
   "cell_type": "code",
   "execution_count": 316,
   "id": "6cbd8903",
   "metadata": {},
   "outputs": [],
   "source": [
    "from langchain_groq import ChatGroq\n",
    "import os\n",
    "\n",
    "groq_api_key = os.getenv('GROQ_API_KEY')\n",
    "\n",
    "llm = ChatGroq(groq_api_key=groq_api_key, model=\"llama-3.3-70b-versatile\")\n",
    "# qwen-qwq-32b\n",
    "# llama-3.3-70b-versatile"
   ]
  },
  {
   "cell_type": "code",
   "execution_count": 317,
   "id": "306e98bc",
   "metadata": {},
   "outputs": [
    {
     "data": {
      "text/plain": [
       "\"It's nice to meet you. Is there something I can help you with or would you like to chat?\""
      ]
     },
     "execution_count": 317,
     "metadata": {},
     "output_type": "execute_result"
    }
   ],
   "source": [
    "llm.invoke(\"hi\").content"
   ]
  },
  {
   "cell_type": "code",
   "execution_count": 318,
   "id": "df9cc128",
   "metadata": {},
   "outputs": [],
   "source": [
    "import operator, json\n",
    "from typing import Annotated, Sequence\n",
    "from typing_extensions import TypedDict\n",
    "from langchain_core.messages import BaseMessage\n",
    "from langgraph.checkpoint.memory import MemorySaver\n",
    "from langgraph.graph import StateGraph, START, END\n",
    "from langgraph.graph.message import add_messages\n",
    "from langgraph.prebuilt import ToolNode, tools_condition\n",
    "from langchain_core.tools import tool\n",
    "from langchain_community.tools.tavily_search import TavilySearchResults"
   ]
  },
  {
   "cell_type": "code",
   "execution_count": 319,
   "id": "c291e4eb",
   "metadata": {},
   "outputs": [],
   "source": [
    "class AgentState(TypedDict):\n",
    "    messages: Annotated[Sequence[BaseMessage], operator.add]"
   ]
  },
  {
   "cell_type": "code",
   "execution_count": 320,
   "id": "cc625789",
   "metadata": {},
   "outputs": [],
   "source": [
    "tavily = TavilySearchResults()"
   ]
  },
  {
   "cell_type": "code",
   "execution_count": 321,
   "id": "be177305",
   "metadata": {},
   "outputs": [],
   "source": [
    "tools = [tavily]"
   ]
  },
  {
   "cell_type": "code",
   "execution_count": 322,
   "id": "7409feee",
   "metadata": {},
   "outputs": [],
   "source": [
    "llm_with_tool = llm.bind_tools(tools)"
   ]
  },
  {
   "cell_type": "code",
   "execution_count": 323,
   "id": "508186ab",
   "metadata": {},
   "outputs": [],
   "source": [
    "memory = MemorySaver()"
   ]
  },
  {
   "cell_type": "code",
   "execution_count": 324,
   "id": "c13a72a7",
   "metadata": {},
   "outputs": [],
   "source": [
    "def ai_assistant(state: AgentState):\n",
    "    return {\"messages\": [llm_with_tool.invoke(state[\"messages\"])]}"
   ]
  },
  {
   "cell_type": "code",
   "execution_count": 325,
   "id": "5f953683",
   "metadata": {},
   "outputs": [],
   "source": [
    "graph_builder = StateGraph(AgentState)\n",
    "\n",
    "graph_builder.add_node(\"ai_assistant\", ai_assistant)\n",
    "graph_builder.add_node(\"tools\", ToolNode(tools))\n",
    "\n",
    "graph_builder.add_edge(START, \"ai_assistant\")\n",
    "graph_builder.add_conditional_edges(\n",
    "    \"ai_assistant\",\n",
    "    tools_condition\n",
    ")\n",
    "\n",
    "graph_builder.add_edge(\"tools\", \"ai_assistant\")\n",
    "\n",
    "app = graph_builder.compile(checkpointer=memory,\n",
    "                             interrupt_before=[\"tools\"]\n",
    "                             # Note: can also interrupt __after__ tools, if desired.\n",
    "                             # interrupt_after=[\"tools\"]\n",
    "                             )"
   ]
  },
  {
   "cell_type": "code",
   "execution_count": 326,
   "id": "fd898ae1",
   "metadata": {},
   "outputs": [
    {
     "data": {
      "image/png": "[encoded data removed]",
      "text/plain": [
       "<IPython.core.display.Image object>"
      ]
     },
     "metadata": {},
     "output_type": "display_data"
    }
   ],
   "source": [
    "from IPython.display import display, Image\n",
    "display(Image(app.get_graph().draw_mermaid_png()))"
   ]
  },
  {
   "cell_type": "code",
   "execution_count": 327,
   "id": "1d23e615",
   "metadata": {},
   "outputs": [],
   "source": [
    "user_input = \"What is the current capital of India?\"\n",
    "config = {\"configurable\": {\"thread_id\": 1}}"
   ]
  },
  {
   "cell_type": "code",
   "execution_count": 328,
   "id": "7042ac12",
   "metadata": {},
   "outputs": [],
   "source": [
    "events = app.stream(\n",
    "    {\"messages\": [(\"user\", user_input)]}, config=config, stream_mode=\"values\"\n",
    ")"
   ]
  },
  {
   "cell_type": "code",
   "execution_count": 329,
   "id": "1331433d",
   "metadata": {},
   "outputs": [
    {
     "name": "stdout",
     "output_type": "stream",
     "text": [
      "{'messages': [('user', 'What is the current capital of India?')]}\n",
      "{'messages': [('user', 'What is the current capital of India?'), AIMessage(content='', additional_kwargs={'tool_calls': [{'id': 'call_m91b', 'function': {'arguments': '{\"query\": \"current capital of India\"}', 'name': 'tavily_search_results_json'}, 'type': 'function'}]}, response_metadata={'token_usage': {'completion_tokens': 21, 'prompt_tokens': 286, 'total_tokens': 307, 'completion_time': 0.076363636, 'prompt_time': 0.026360109, 'queue_time': 0.057856281, 'total_time': 0.102723745}, 'model_name': 'llama-3.3-70b-versatile', 'system_fingerprint': 'fp_3f3b593e33', 'finish_reason': 'tool_calls', 'logprobs': None}, id='run-1996302c-858b-439c-8a6f-b10ef87bf285-0', tool_calls=[{'name': 'tavily_search_results_json', 'args': {'query': 'current capital of India'}, 'id': 'call_m91b', 'type': 'tool_call'}], usage_metadata={'input_tokens': 286, 'output_tokens': 21, 'total_tokens': 307})]}\n"
     ]
    }
   ],
   "source": [
    "for event in events:\n",
    "    print(event)"
   ]
  },
  {
   "cell_type": "code",
   "execution_count": 330,
   "id": "9cff17e8",
   "metadata": {},
   "outputs": [],
   "source": [
    "# for event in events:\n",
    "#     if \"messages\" in event:\n",
    "#         event[\"messages\"][-1].pretty_print()"
   ]
  },
  {
   "cell_type": "code",
   "execution_count": 331,
   "id": "2e8c534d",
   "metadata": {},
   "outputs": [],
   "source": [
    "snapshot = app.get_state(config)"
   ]
  },
  {
   "cell_type": "code",
   "execution_count": 332,
   "id": "060f0ad1",
   "metadata": {},
   "outputs": [
    {
     "data": {
      "text/plain": [
       "StateSnapshot(values={'messages': [['user', 'What is the current capital of India?'], AIMessage(content='', additional_kwargs={'tool_calls': [{'id': 'call_m91b', 'function': {'arguments': '{\"query\": \"current capital of India\"}', 'name': 'tavily_search_results_json'}, 'type': 'function'}]}, response_metadata={'token_usage': {'completion_tokens': 21, 'prompt_tokens': 286, 'total_tokens': 307, 'completion_time': 0.076363636, 'prompt_time': 0.026360109, 'queue_time': 0.057856281, 'total_time': 0.102723745}, 'model_name': 'llama-3.3-70b-versatile', 'system_fingerprint': 'fp_3f3b593e33', 'finish_reason': 'tool_calls', 'logprobs': None}, id='run-1996302c-858b-439c-8a6f-b10ef87bf285-0', tool_calls=[{'name': 'tavily_search_results_json', 'args': {'query': 'current capital of India'}, 'id': 'call_m91b', 'type': 'tool_call'}], usage_metadata={'input_tokens': 286, 'output_tokens': 21, 'total_tokens': 307})]}, next=('tools',), config={'configurable': {'thread_id': 1, 'checkpoint_ns': '', 'checkpoint_id': '1f02bce1-5b79-6763-8001-aa324d52fdcc'}}, metadata={'source': 'loop', 'writes': {'ai_assistant': {'messages': [AIMessage(content='', additional_kwargs={'tool_calls': [{'id': 'call_m91b', 'function': {'arguments': '{\"query\": \"current capital of India\"}', 'name': 'tavily_search_results_json'}, 'type': 'function'}]}, response_metadata={'token_usage': {'completion_tokens': 21, 'prompt_tokens': 286, 'total_tokens': 307, 'completion_time': 0.076363636, 'prompt_time': 0.026360109, 'queue_time': 0.057856281, 'total_time': 0.102723745}, 'model_name': 'llama-3.3-70b-versatile', 'system_fingerprint': 'fp_3f3b593e33', 'finish_reason': 'tool_calls', 'logprobs': None}, id='run-1996302c-858b-439c-8a6f-b10ef87bf285-0', tool_calls=[{'name': 'tavily_search_results_json', 'args': {'query': 'current capital of India'}, 'id': 'call_m91b', 'type': 'tool_call'}], usage_metadata={'input_tokens': 286, 'output_tokens': 21, 'total_tokens': 307})]}}, 'thread_id': 1, 'step': 1, 'parents': {}}, created_at='2025-05-08T05:34:17.609609+00:00', parent_config={'configurable': {'thread_id': 1, 'checkpoint_ns': '', 'checkpoint_id': '1f02bce1-58de-6960-8000-c895f6720e29'}}, tasks=(PregelTask(id='79e1bc16-8fcb-de89-4943-e35d624bb932', name='tools', path=('__pregel_pull', 'tools'), error=None, interrupts=(), state=None, result=None),))"
      ]
     },
     "execution_count": 332,
     "metadata": {},
     "output_type": "execute_result"
    }
   ],
   "source": [
    "snapshot"
   ]
  },
  {
   "cell_type": "code",
   "execution_count": 333,
   "id": "ef770d56",
   "metadata": {},
   "outputs": [
    {
     "data": {
      "text/plain": [
       "('tools',)"
      ]
     },
     "execution_count": 333,
     "metadata": {},
     "output_type": "execute_result"
    }
   ],
   "source": [
    "snapshot.next"
   ]
  },
  {
   "cell_type": "code",
   "execution_count": 334,
   "id": "bc462704",
   "metadata": {},
   "outputs": [
    {
     "data": {
      "text/plain": [
       "[{'name': 'tavily_search_results_json',\n",
       "  'args': {'query': 'current capital of India'},\n",
       "  'id': 'call_m91b',\n",
       "  'type': 'tool_call'}]"
      ]
     },
     "execution_count": 334,
     "metadata": {},
     "output_type": "execute_result"
    }
   ],
   "source": [
    "last_message = snapshot.values['messages'][-1]\n",
    "\n",
    "last_message.tool_calls"
   ]
  },
  {
   "cell_type": "code",
   "execution_count": 335,
   "id": "5453326d",
   "metadata": {},
   "outputs": [],
   "source": [
    "events = app.stream(None, config, stream_mode=\"values\")"
   ]
  },
  {
   "cell_type": "code",
   "execution_count": 336,
   "id": "b5b93890",
   "metadata": {},
   "outputs": [
    {
     "name": "stdout",
     "output_type": "stream",
     "text": [
      "==================================\u001b[1m Ai Message \u001b[0m==================================\n",
      "Tool Calls:\n",
      "  tavily_search_results_json (call_m91b)\n",
      " Call ID: call_m91b\n",
      "  Args:\n",
      "    query: current capital of India\n",
      "=================================\u001b[1m Tool Message \u001b[0m=================================\n",
      "Name: tavily_search_results_json\n",
      "\n",
      "[{\"url\": \"https://en.wikipedia.org/wiki/List_of_capitals_of_India\", \"content\": \"The current capital city is New Delhi, which replaced Calcutta in 1911.\"}, {\"url\": \"https://pwonlyias.com/states-and-capitals-of-india/\", \"content\": \"The capital of India is New Delhi. India follows a parliamentary form of government. Understanding the rich history of States and Capitals of India. States and\"}, {\"url\": \"https://currentaffairs.adda247.com/states-and-capitals/\", \"content\": \"What is the official capital of Republic of India?\\n\\nNew Delhi is the official capital of the Republic of India.\\n\\nWhat is the capital of Arunachal Pradesh?\\n\\nItanagar, the charming capital of Arunachal Pradesh, holds a unique position in the northeastern Indian state.\\n\\nWhat is the capital of Assam?\\n\\nDispur, the capital of the Indian state of Assam, is a vital administrative center situated just outside Guwahati which became the capital of Assam in 1973. [...] India, a vast South Asian nation and the world’s seventh-largest by land area, is divided into 28 states and 8 union territories, each with its own capital. These states and territories are further segmented into districts. New Delhi, situated in the National Capital Territory of Delhi, serves as India’s administrative, political, and cultural hub. [...] In 1956, India reorganized its states according to linguistic demographics. Today, the country consists of 28 states and 8 Union Territories, home to nearly 400 cities. Among these, eight major metropolitan cities—Kolkata, Mumbai, New Delhi, Chennai, Hyderabad, Bangalore, Ahmedabad, and Pune—are prominent. The Prime Minister has introduced a plan to develop 100 smart cities across the nation, with Indore being recognized as the Smart City for four consecutive years. Discover India’s dynamic\"}, {\"url\": \"https://en.wikipedia.org/wiki/List_of_state_and_union_territory_capitals_in_India\", \"content\": \"State | Administrative/Executive capital | Legislative capital | Judicial capital | Year ofestablishment | Former capital\\nAndhra Pradesh | Amaravati | Amaravati | Amaravati | 2014 | Hyderabad[a](1956–2014)\\nArunachal Pradesh | Itanagar | Itanagar | Guwahati | 1987 | —\\nAssam | Dispur | Dispur | Guwahati | 1972 | Shillong[b](1950–1972)\\nBihar | Patna | Patna | Patna | 1950 | —\\nChhattisgarh | Raipur[c] | Raipur | Bilaspur | 2000 | —\\nGoa | Panaji[d] | Porvorim | Mumbai | 1987 | — [...] Union Territory | Administrative/Executive capital | Legislative capital | Judicial capital | Year ofestablishment\\nAndaman and Nicobar Islands | Port Blair | – | Kolkata | 1956\\nChandigarh | Chandigarh | – | Chandigarh | 1966\\nDadra and Nagar Haveli and Daman and Diu | Daman | – | Mumbai | 2020\\nJammu and Kashmir | Srinagar(summer)Jammu(winter) | Srinagar (summer)Jammu (winter) | Srinagar (summer)Jammu (winter) | 2019\\nLadakh | Leh(summer)Kargil(winter) | – | Srinagar (summer)Jammu (winter) | 2019 [...] vteState and Union TerritorycapitalsofIndia\\nAdministrative | AgartalaAizawlAmaravatiBengaluruBhopalBhubaneswarChandigarhChennaiDamanDehradunDispurGandhinagarGangtokHyderabadImphalItanagarJaipurJammu(winter)Kargil(winter)KavarattiKohimaKolkataLeh(summer)LucknowMumbaiNew DelhiPanajiPatnaPort BlairPuducherryRanchiRaipurShillongShimlaSrinagar(summer)Thiruvananthapuram\"}, {\"url\": \"https://www.knowledgeumacademy.in/blogs/list-of-indian-states-and-union-territory-capitals-in-india-2024\", \"content\": \"Additionally, Delhi serves as the National Capital Territory (NCT) and is also the capital of India. ... How many states does India currently have\"}]\n",
      "==================================\u001b[1m Ai Message \u001b[0m==================================\n",
      "\n",
      "The current capital of India is New Delhi.\n"
     ]
    }
   ],
   "source": [
    "for event in events:\n",
    "    if \"messages\" in event:\n",
    "        event[\"messages\"][-1].pretty_print()"
   ]
  },
  {
   "cell_type": "code",
   "execution_count": 337,
   "id": "d5cf7a6f",
   "metadata": {},
   "outputs": [],
   "source": [
    "user_input = \"what is the weather there?\"\n",
    "\n",
    "config = {\"configurable\": {\"thread_id\": \"1\"}}"
   ]
  },
  {
   "cell_type": "code",
   "execution_count": 338,
   "id": "d2e03ec2",
   "metadata": {},
   "outputs": [],
   "source": [
    "events = app.stream(\n",
    "    {\"messages\": [(\"user\", user_input)]}, config, stream_mode=\"values\"\n",
    ")"
   ]
  },
  {
   "cell_type": "code",
   "execution_count": 339,
   "id": "0c9b7ef6",
   "metadata": {},
   "outputs": [
    {
     "name": "stdout",
     "output_type": "stream",
     "text": [
      "{'messages': [('user', 'what is the weather there?')]}\n",
      "{'messages': [('user', 'what is the weather there?'), AIMessage(content='', additional_kwargs={'tool_calls': [{'id': 'call_2dzn', 'function': {'arguments': '{\"query\": \"current weather\"}', 'name': 'tavily_search_results_json'}, 'type': 'function'}]}, response_metadata={'token_usage': {'completion_tokens': 19, 'prompt_tokens': 284, 'total_tokens': 303, 'completion_time': 0.069090909, 'prompt_time': 0.017976653, 'queue_time': 0.05258391700000001, 'total_time': 0.087067562}, 'model_name': 'llama-3.3-70b-versatile', 'system_fingerprint': 'fp_6507bcfb6f', 'finish_reason': 'tool_calls', 'logprobs': None}, id='run-2d18f678-4ff5-4a3a-be8f-e18e1788617a-0', tool_calls=[{'name': 'tavily_search_results_json', 'args': {'query': 'current weather'}, 'id': 'call_2dzn', 'type': 'tool_call'}], usage_metadata={'input_tokens': 284, 'output_tokens': 19, 'total_tokens': 303})]}\n"
     ]
    }
   ],
   "source": [
    "for event in events:\n",
    "    print(event)"
   ]
  },
  {
   "cell_type": "code",
   "execution_count": 340,
   "id": "aa3b553a",
   "metadata": {},
   "outputs": [],
   "source": [
    "# for event in events:\n",
    "#     if \"messages\" in event:\n",
    "#         event[\"messages\"][-1].pretty_print()"
   ]
  },
  {
   "cell_type": "code",
   "execution_count": 341,
   "id": "e1fa45b7",
   "metadata": {},
   "outputs": [],
   "source": [
    "snapshot = app.get_state(config)"
   ]
  },
  {
   "cell_type": "code",
   "execution_count": 342,
   "id": "fc2d19ba",
   "metadata": {},
   "outputs": [
    {
     "data": {
      "text/plain": [
       "('tools',)"
      ]
     },
     "execution_count": 342,
     "metadata": {},
     "output_type": "execute_result"
    }
   ],
   "source": [
    "snapshot.next"
   ]
  },
  {
   "cell_type": "code",
   "execution_count": 343,
   "id": "3211471c",
   "metadata": {},
   "outputs": [],
   "source": [
    "last_message = snapshot.values['messages'][-1]"
   ]
  },
  {
   "cell_type": "code",
   "execution_count": 344,
   "id": "e64c59d1",
   "metadata": {},
   "outputs": [
    {
     "data": {
      "text/plain": [
       "[{'name': 'tavily_search_results_json',\n",
       "  'args': {'query': 'current weather'},\n",
       "  'id': 'call_2dzn',\n",
       "  'type': 'tool_call'}]"
      ]
     },
     "execution_count": 344,
     "metadata": {},
     "output_type": "execute_result"
    }
   ],
   "source": [
    "last_message.tool_calls"
   ]
  },
  {
   "cell_type": "code",
   "execution_count": 345,
   "id": "7428996b",
   "metadata": {},
   "outputs": [],
   "source": [
    "events = app.stream(None, config, stream_mode=\"values\")"
   ]
  },
  {
   "cell_type": "code",
   "execution_count": 346,
   "id": "de781b7e",
   "metadata": {},
   "outputs": [
    {
     "name": "stdout",
     "output_type": "stream",
     "text": [
      "==================================\u001b[1m Ai Message \u001b[0m==================================\n",
      "Tool Calls:\n",
      "  tavily_search_results_json (call_2dzn)\n",
      " Call ID: call_2dzn\n",
      "  Args:\n",
      "    query: current weather\n",
      "=================================\u001b[1m Tool Message \u001b[0m=================================\n",
      "Name: tavily_search_results_json\n",
      "\n",
      "[{\"url\": \"https://www.weather25.com/north-america/usa?page=date&date=8-5\", \"content\": \"| 00:00 | 03:00 | 06:00 | 09:00 | 12:00 | 15:00 | 18:00 | 21:00\\nTemperature | 19°C | 17°C | 16°C | 17°C | 17°C | 17°C | 16°C | 13°C\\nWeather | Partly cloudy | Clear | Cloudy | Cloudy | Cloudy | Cloudy | Overcast | Mist\\nChance of rain | 0% | 0% | 0% | 0% | 0% | 0% | 0% | 0%\\nPrecipitation | 0mm | 0mm | 0mm | 0mm | 0mm | 0mm | 0mm | 0mm\\nHumidity | 69% | 77% | 87% | 80% | 75% | 69% | 75% | 95%\\nWind | 6Km/h | 7Km/h | 5Km/h | 5Km/h | 3Km/h | 5Km/h | 6Km/h | 11Km/h [...] Wind Gust | 13Km/h | 14Km/h | 10Km/h | 6Km/h | 3Km/h | 7Km/h | 10Km/h | 17Km/h\\nWind Degree | 284° | 342° | 8° | 19° | 241° | 122° | 338° | 21°\\nWind Direction | WNW | NNW | N | NNE | WSW | ESE | NNW | NNE\\nCloud Cover | 40% | 24% | 65% | 84% | 87% | 66% | 100% | 100%\\nUV Index | 0 | 0 | 0 | 2 | 6 | 3 | 1 | 0\\nVisibility | 10Km | 10Km | 2Km | 10Km | 10Km | 10Km | 10Km | 10Km\\nCheck United States's weather in other day [...] For a more accurate weather forecast please select a city\\n\\nClothing recommendation for United States\\n\\nSunrise and sunset time in the United States in Thursday, 8 May 2025\\n\\nWhat time is the sunset and sunrise in the United States? The sun will rise at 05:44 and will set at 20:00. There will be 13.0 hours of sunlight in the United States.\"}, {\"url\": \"https://www.weatherapi.com/\", \"content\": \"{'location': {'name': 'Global', 'region': 'Maguindanao', 'country': 'Filipinas', 'lat': 7.3958, 'lon': 124.3069, 'tz_id': 'Asia/Manila', 'localtime_epoch': 1746682469, 'localtime': '2025-05-08 13:34'}, 'current': {'last_updated_epoch': 1746682200, 'last_updated': '2025-05-08 13:30', 'temp_c': 31.6, 'temp_f': 88.8, 'is_day': 1, 'condition': {'text': 'Patchy rain nearby', 'icon': '//cdn.weatherapi.com/weather/64x64/day/176.png', 'code': 1063}, 'wind_mph': 2.2, 'wind_kph': 3.6, 'wind_degree': 142, 'wind_dir': 'SE', 'pressure_mb': 1007.0, 'pressure_in': 29.73, 'precip_mm': 0.33, 'precip_in': 0.01, 'humidity': 64, 'cloud': 89, 'feelslike_c': 37.2, 'feelslike_f': 98.9, 'windchill_c': 31.6, 'windchill_f': 88.8, 'heatindex_c': 37.2, 'heatindex_f': 98.9, 'dewpoint_c': 23.8, 'dewpoint_f': 74.9, 'vis_km': 9.0, 'vis_miles': 5.0, 'uv': 11.3, 'gust_mph': 6.7, 'gust_kph': 10.8}}\"}, {\"url\": \"https://www.enca.com/weather/weather-forecast-thursday-8-may-2025\", \"content\": \"Weather Forecast | Thursday, 8 May 2025. Thursday 08 May 2025 - 05:12am. Weather forecast - 8 May 2025. Share Facebook Twitter Email\"}, {\"url\": \"https://world-weather.info/forecast/usa/fort_lauderdale/may-2025/\", \"content\": \"Weather in Fort Lauderdale in May 2025\\n\\nFort Lauderdale Weather Forecast for May 2025 is based on long term prognosis and previous years' statistical data.\\n\\nMay\\n\\n+75°\\n\\n+75°\\n\\n+75°\\n\\n+77°\\n\\n+77°\\n\\n+77°\\n\\n+79°\\n\\n+77°\\n\\n+79°\\n\\n+79°\\n\\n+79°\\n\\n+79°\\n\\n+79°\\n\\n+77°\\n\\n+77°\\n\\n+75°\\n\\n+77°\\n\\n+82°\\n\\n+82°\\n\\n+82°\\n\\n+82°\\n\\n+82°\\n\\n+82°\\n\\n+79°\\n\\n+79°\\n\\n+77°\\n\\n+79°\\n\\n+79°\\n\\n+79°\\n\\n+79°\\n\\n+79°\\n\\nExtended weather forecast in Fort Lauderdale\\n\\nWeather in large and nearby cities\\n\\nWeather in Washington, D.C.+63°\\n\\nTallahassee+72° [...] North Miami Beach+75°\\n\\nPalm Beach Gardens+75°\\n\\nPembroke Pines+77°\\n\\nPompano Beach+77°\\n\\nStuart+75°\\n\\nUniversity Park+75°\\n\\nWest Palm Beach+79°\\n\\nMiami Beach+77°\\n\\nMiami+77°\\n\\nLake Worth+75°\\n\\nBoca Raton+77°\\n\\nBoynton Beach+77°\\n\\nCoral Springs+75°\\n\\nDeerfield Beach+77°\\n\\nCrafts+77°\\n\\nLawn Acres+77°\"}, {\"url\": \"https://en.climate-data.org/north-america/united-states-of-america/florida/fort-lauderdale-1623/t/may-5/\", \"content\": \"Min. Temperature °C (°F) | 17.4 °C(63.3) °F | 18.4 °C(65.1) °F | 19.2 °C(66.6) °F | 21.1 °C(69.9) °F | 22.9 °C(73.3) °F | 24.8 °C(76.6) °F | 25.5 °C(77.8) °F | 25.7 °C(78.3) °F | 25.1 °C(77.2) °F | 23.7 °C(74.6) °F | 20.9 °C(69.7) °F | 19.4 °C(66.8) °F [...] Max. Temperature °C (°F) | 23.2 °C(73.8) °F | 24.3 °C(75.7) °F | 25.2 °C(77.4) °F | 26.8 °C(80.3) °F | 28.2 °C(82.8) °F | 29.5 °C(85.1) °F | 30.2 °C(86.4) °F | 30.4 °C(86.7) °F | 29.5 °C(85.2) °F | 28 °C(82.4) °F | 25.8 °C(78.4) °F | 24.4 °C(75.9) °F\\nPrecipitation / Rainfall mm (in) | 55(2) | 45(1) | 59(2) | 67(2) | 104(4) | 183(7) | 141(5) | 173(6) | 178(7) | 125(4) | 56(2) | 47(1)\\nHumidity(%) | 69% | 68% | 68% | 68% | 72% | 79% | 78% | 79% | 80% | 74% | 70% | 72% [...] (75.7) °F\\n\\n25.2 °C\\n\\n(77.4) °F\\n\\n26.8 °C\\n\\n(80.3) °F\\n\\n28.2 °C\\n\\n(82.8) °F\\n\\n29.5 °C\\n\\n(85.1) °F\\n\\n30.2 °C\\n\\n(86.4) °F\\n\\n30.4 °C\\n\\n(86.7) °F\\n\\n29.5 °C\\n\\n(85.2) °F\\n\\n28 °C\\n\\n(82.4) °F\\n\\n25.8 °C\\n\\n(78.4) °F\\n\\n24.4 °C\\n\\n(75.9) °F\\n\\n55\\n\\n(2)\\n\\n45\\n\\n(1)\\n\\n59\\n\\n(2)\\n\\n67\\n\\n(2)\\n\\n104\\n\\n(4)\\n\\n183\\n\\n(7)\\n\\n141\\n\\n(5)\\n\\n173\\n\\n(6)\\n\\n178\\n\\n(7)\\n\\n125\\n\\n(4)\\n\\n56\\n\\n(2)\\n\\n47\\n\\n(1)\"}]\n",
      "==================================\u001b[1m Ai Message \u001b[0m==================================\n",
      "\n",
      "The current weather is partly cloudy with a temperature of 19°C and a humidity of 69%. The wind is blowing at 6Km/h and the wind direction is WNW. The UV index is 0 and the visibility is 10Km. It is expected to be cloudy with a high chance of rain nearby. The temperature is expected to remain relatively constant throughout the day, with a high of 17°C and a low of 13°C. The wind is expected to pick up in the evening, with gusts of up to 17Km/h.\n"
     ]
    }
   ],
   "source": [
    "for event in events:\n",
    "    if \"messages\" in event:\n",
    "        event[\"messages\"][-1].pretty_print()"
   ]
  },
  {
   "cell_type": "code",
   "execution_count": 347,
   "id": "c75dd1fe",
   "metadata": {},
   "outputs": [],
   "source": [
    "snapshot = app.get_state(config)"
   ]
  },
  {
   "cell_type": "code",
   "execution_count": 348,
   "id": "4196d325",
   "metadata": {},
   "outputs": [
    {
     "data": {
      "text/plain": [
       "()"
      ]
     },
     "execution_count": 348,
     "metadata": {},
     "output_type": "execute_result"
    }
   ],
   "source": [
    "snapshot.next"
   ]
  },
  {
   "cell_type": "code",
   "execution_count": 349,
   "id": "59347b75",
   "metadata": {},
   "outputs": [],
   "source": [
    "user_input = \"what is the latest news there?\"\n",
    "\n",
    "config = {\"configurable\": {\"thread_id\": \"1\"}}"
   ]
  },
  {
   "cell_type": "code",
   "execution_count": 350,
   "id": "d53cc8ec",
   "metadata": {},
   "outputs": [],
   "source": [
    "events = app.stream(\n",
    "    {\"messages\": [(\"user\", user_input)]}, config, stream_mode=\"values\"\n",
    ")"
   ]
  },
  {
   "cell_type": "code",
   "execution_count": 351,
   "id": "d989b4a0",
   "metadata": {},
   "outputs": [],
   "source": [
    "# for event in events:\n",
    "#     if 'messages' in event:\n",
    "#         event['messages'][-1].pretty_print()"
   ]
  },
  {
   "cell_type": "code",
   "execution_count": 352,
   "id": "5d6a8e1c",
   "metadata": {},
   "outputs": [
    {
     "name": "stdout",
     "output_type": "stream",
     "text": [
      "{'messages': [['user', 'what is the weather there?'], AIMessage(content='', additional_kwargs={'tool_calls': [{'id': 'call_2dzn', 'function': {'arguments': '{\"query\": \"current weather\"}', 'name': 'tavily_search_results_json'}, 'type': 'function'}]}, response_metadata={'token_usage': {'completion_tokens': 19, 'prompt_tokens': 284, 'total_tokens': 303, 'completion_time': 0.069090909, 'prompt_time': 0.017976653, 'queue_time': 0.05258391700000001, 'total_time': 0.087067562}, 'model_name': 'llama-3.3-70b-versatile', 'system_fingerprint': 'fp_6507bcfb6f', 'finish_reason': 'tool_calls', 'logprobs': None}, id='run-2d18f678-4ff5-4a3a-be8f-e18e1788617a-0', tool_calls=[{'name': 'tavily_search_results_json', 'args': {'query': 'current weather'}, 'id': 'call_2dzn', 'type': 'tool_call'}], usage_metadata={'input_tokens': 284, 'output_tokens': 19, 'total_tokens': 303}), ToolMessage(content='[{\"url\": \"https://www.weather25.com/north-america/usa?page=date&date=8-5\", \"content\": \"| 00:00 | 03:00 | 06:00 | 09:00 | 12:00 | 15:00 | 18:00 | 21:00\\\\nTemperature | 19°C | 17°C | 16°C | 17°C | 17°C | 17°C | 16°C | 13°C\\\\nWeather | Partly cloudy | Clear | Cloudy | Cloudy | Cloudy | Cloudy | Overcast | Mist\\\\nChance of rain | 0% | 0% | 0% | 0% | 0% | 0% | 0% | 0%\\\\nPrecipitation | 0mm | 0mm | 0mm | 0mm | 0mm | 0mm | 0mm | 0mm\\\\nHumidity | 69% | 77% | 87% | 80% | 75% | 69% | 75% | 95%\\\\nWind | 6Km/h | 7Km/h | 5Km/h | 5Km/h | 3Km/h | 5Km/h | 6Km/h | 11Km/h [...] Wind Gust | 13Km/h | 14Km/h | 10Km/h | 6Km/h | 3Km/h | 7Km/h | 10Km/h | 17Km/h\\\\nWind Degree | 284° | 342° | 8° | 19° | 241° | 122° | 338° | 21°\\\\nWind Direction | WNW | NNW | N | NNE | WSW | ESE | NNW | NNE\\\\nCloud Cover | 40% | 24% | 65% | 84% | 87% | 66% | 100% | 100%\\\\nUV Index | 0 | 0 | 0 | 2 | 6 | 3 | 1 | 0\\\\nVisibility | 10Km | 10Km | 2Km | 10Km | 10Km | 10Km | 10Km | 10Km\\\\nCheck United States\\'s weather in other day [...] For a more accurate weather forecast please select a city\\\\n\\\\nClothing recommendation for United States\\\\n\\\\nSunrise and sunset time in the United States in Thursday, 8 May 2025\\\\n\\\\nWhat time is the sunset and sunrise in the United States? The sun will rise at 05:44 and will set at 20:00. There will be 13.0 hours of sunlight in the United States.\"}, {\"url\": \"https://www.weatherapi.com/\", \"content\": \"{\\'location\\': {\\'name\\': \\'Global\\', \\'region\\': \\'Maguindanao\\', \\'country\\': \\'Filipinas\\', \\'lat\\': 7.3958, \\'lon\\': 124.3069, \\'tz_id\\': \\'Asia/Manila\\', \\'localtime_epoch\\': 1746682469, \\'localtime\\': \\'2025-05-08 13:34\\'}, \\'current\\': {\\'last_updated_epoch\\': 1746682200, \\'last_updated\\': \\'2025-05-08 13:30\\', \\'temp_c\\': 31.6, \\'temp_f\\': 88.8, \\'is_day\\': 1, \\'condition\\': {\\'text\\': \\'Patchy rain nearby\\', \\'icon\\': \\'//cdn.weatherapi.com/weather/64x64/day/176.png\\', \\'code\\': 1063}, \\'wind_mph\\': 2.2, \\'wind_kph\\': 3.6, \\'wind_degree\\': 142, \\'wind_dir\\': \\'SE\\', \\'pressure_mb\\': 1007.0, \\'pressure_in\\': 29.73, \\'precip_mm\\': 0.33, \\'precip_in\\': 0.01, \\'humidity\\': 64, \\'cloud\\': 89, \\'feelslike_c\\': 37.2, \\'feelslike_f\\': 98.9, \\'windchill_c\\': 31.6, \\'windchill_f\\': 88.8, \\'heatindex_c\\': 37.2, \\'heatindex_f\\': 98.9, \\'dewpoint_c\\': 23.8, \\'dewpoint_f\\': 74.9, \\'vis_km\\': 9.0, \\'vis_miles\\': 5.0, \\'uv\\': 11.3, \\'gust_mph\\': 6.7, \\'gust_kph\\': 10.8}}\"}, {\"url\": \"https://www.enca.com/weather/weather-forecast-thursday-8-may-2025\", \"content\": \"Weather Forecast | Thursday, 8 May 2025. Thursday 08 May 2025 - 05:12am. Weather forecast - 8 May 2025. Share Facebook Twitter Email\"}, {\"url\": \"https://world-weather.info/forecast/usa/fort_lauderdale/may-2025/\", \"content\": \"Weather in Fort Lauderdale in May 2025\\\\n\\\\nFort Lauderdale Weather Forecast for May 2025 is based on long term prognosis and previous years\\' statistical data.\\\\n\\\\nMay\\\\n\\\\n+75°\\\\n\\\\n+75°\\\\n\\\\n+75°\\\\n\\\\n+77°\\\\n\\\\n+77°\\\\n\\\\n+77°\\\\n\\\\n+79°\\\\n\\\\n+77°\\\\n\\\\n+79°\\\\n\\\\n+79°\\\\n\\\\n+79°\\\\n\\\\n+79°\\\\n\\\\n+79°\\\\n\\\\n+77°\\\\n\\\\n+77°\\\\n\\\\n+75°\\\\n\\\\n+77°\\\\n\\\\n+82°\\\\n\\\\n+82°\\\\n\\\\n+82°\\\\n\\\\n+82°\\\\n\\\\n+82°\\\\n\\\\n+82°\\\\n\\\\n+79°\\\\n\\\\n+79°\\\\n\\\\n+77°\\\\n\\\\n+79°\\\\n\\\\n+79°\\\\n\\\\n+79°\\\\n\\\\n+79°\\\\n\\\\n+79°\\\\n\\\\nExtended weather forecast in Fort Lauderdale\\\\n\\\\nWeather in large and nearby cities\\\\n\\\\nWeather in Washington, D.C.+63°\\\\n\\\\nTallahassee+72° [...] North Miami Beach+75°\\\\n\\\\nPalm Beach Gardens+75°\\\\n\\\\nPembroke Pines+77°\\\\n\\\\nPompano Beach+77°\\\\n\\\\nStuart+75°\\\\n\\\\nUniversity Park+75°\\\\n\\\\nWest Palm Beach+79°\\\\n\\\\nMiami Beach+77°\\\\n\\\\nMiami+77°\\\\n\\\\nLake Worth+75°\\\\n\\\\nBoca Raton+77°\\\\n\\\\nBoynton Beach+77°\\\\n\\\\nCoral Springs+75°\\\\n\\\\nDeerfield Beach+77°\\\\n\\\\nCrafts+77°\\\\n\\\\nLawn Acres+77°\"}, {\"url\": \"https://en.climate-data.org/north-america/united-states-of-america/florida/fort-lauderdale-1623/t/may-5/\", \"content\": \"Min. Temperature °C (°F) | 17.4 °C(63.3) °F | 18.4 °C(65.1) °F | 19.2 °C(66.6) °F | 21.1 °C(69.9) °F | 22.9 °C(73.3) °F | 24.8 °C(76.6) °F | 25.5 °C(77.8) °F | 25.7 °C(78.3) °F | 25.1 °C(77.2) °F | 23.7 °C(74.6) °F | 20.9 °C(69.7) °F | 19.4 °C(66.8) °F [...] Max. Temperature °C (°F) | 23.2 °C(73.8) °F | 24.3 °C(75.7) °F | 25.2 °C(77.4) °F | 26.8 °C(80.3) °F | 28.2 °C(82.8) °F | 29.5 °C(85.1) °F | 30.2 °C(86.4) °F | 30.4 °C(86.7) °F | 29.5 °C(85.2) °F | 28 °C(82.4) °F | 25.8 °C(78.4) °F | 24.4 °C(75.9) °F\\\\nPrecipitation / Rainfall mm (in) | 55(2) | 45(1) | 59(2) | 67(2) | 104(4) | 183(7) | 141(5) | 173(6) | 178(7) | 125(4) | 56(2) | 47(1)\\\\nHumidity(%) | 69% | 68% | 68% | 68% | 72% | 79% | 78% | 79% | 80% | 74% | 70% | 72% [...] (75.7) °F\\\\n\\\\n25.2 °C\\\\n\\\\n(77.4) °F\\\\n\\\\n26.8 °C\\\\n\\\\n(80.3) °F\\\\n\\\\n28.2 °C\\\\n\\\\n(82.8) °F\\\\n\\\\n29.5 °C\\\\n\\\\n(85.1) °F\\\\n\\\\n30.2 °C\\\\n\\\\n(86.4) °F\\\\n\\\\n30.4 °C\\\\n\\\\n(86.7) °F\\\\n\\\\n29.5 °C\\\\n\\\\n(85.2) °F\\\\n\\\\n28 °C\\\\n\\\\n(82.4) °F\\\\n\\\\n25.8 °C\\\\n\\\\n(78.4) °F\\\\n\\\\n24.4 °C\\\\n\\\\n(75.9) °F\\\\n\\\\n55\\\\n\\\\n(2)\\\\n\\\\n45\\\\n\\\\n(1)\\\\n\\\\n59\\\\n\\\\n(2)\\\\n\\\\n67\\\\n\\\\n(2)\\\\n\\\\n104\\\\n\\\\n(4)\\\\n\\\\n183\\\\n\\\\n(7)\\\\n\\\\n141\\\\n\\\\n(5)\\\\n\\\\n173\\\\n\\\\n(6)\\\\n\\\\n178\\\\n\\\\n(7)\\\\n\\\\n125\\\\n\\\\n(4)\\\\n\\\\n56\\\\n\\\\n(2)\\\\n\\\\n47\\\\n\\\\n(1)\"}]', name='tavily_search_results_json', tool_call_id='call_2dzn', artifact={'query': 'current weather', 'follow_up_questions': None, 'answer': None, 'images': [], 'results': [{'url': 'https://www.weather25.com/north-america/usa?page=date&date=8-5', 'title': 'United States weather forecast for Thursday, 8 May 2025', 'content': \"| 00:00 | 03:00 | 06:00 | 09:00 | 12:00 | 15:00 | 18:00 | 21:00\\nTemperature | 19°C | 17°C | 16°C | 17°C | 17°C | 17°C | 16°C | 13°C\\nWeather | Partly cloudy | Clear | Cloudy | Cloudy | Cloudy | Cloudy | Overcast | Mist\\nChance of rain | 0% | 0% | 0% | 0% | 0% | 0% | 0% | 0%\\nPrecipitation | 0mm | 0mm | 0mm | 0mm | 0mm | 0mm | 0mm | 0mm\\nHumidity | 69% | 77% | 87% | 80% | 75% | 69% | 75% | 95%\\nWind | 6Km/h | 7Km/h | 5Km/h | 5Km/h | 3Km/h | 5Km/h | 6Km/h | 11Km/h [...] Wind Gust | 13Km/h | 14Km/h | 10Km/h | 6Km/h | 3Km/h | 7Km/h | 10Km/h | 17Km/h\\nWind Degree | 284° | 342° | 8° | 19° | 241° | 122° | 338° | 21°\\nWind Direction | WNW | NNW | N | NNE | WSW | ESE | NNW | NNE\\nCloud Cover | 40% | 24% | 65% | 84% | 87% | 66% | 100% | 100%\\nUV Index | 0 | 0 | 0 | 2 | 6 | 3 | 1 | 0\\nVisibility | 10Km | 10Km | 2Km | 10Km | 10Km | 10Km | 10Km | 10Km\\nCheck United States's weather in other day [...] For a more accurate weather forecast please select a city\\n\\nClothing recommendation for United States\\n\\nSunrise and sunset time in the United States in Thursday, 8 May 2025\\n\\nWhat time is the sunset and sunrise in the United States? The sun will rise at 05:44 and will set at 20:00. There will be 13.0 hours of sunlight in the United States.\", 'score': 0.87981987, 'raw_content': None}, {'title': 'Weather in global', 'url': 'https://www.weatherapi.com/', 'content': \"{'location': {'name': 'Global', 'region': 'Maguindanao', 'country': 'Filipinas', 'lat': 7.3958, 'lon': 124.3069, 'tz_id': 'Asia/Manila', 'localtime_epoch': 1746682469, 'localtime': '2025-05-08 13:34'}, 'current': {'last_updated_epoch': 1746682200, 'last_updated': '2025-05-08 13:30', 'temp_c': 31.6, 'temp_f': 88.8, 'is_day': 1, 'condition': {'text': 'Patchy rain nearby', 'icon': '//cdn.weatherapi.com/weather/64x64/day/176.png', 'code': 1063}, 'wind_mph': 2.2, 'wind_kph': 3.6, 'wind_degree': 142, 'wind_dir': 'SE', 'pressure_mb': 1007.0, 'pressure_in': 29.73, 'precip_mm': 0.33, 'precip_in': 0.01, 'humidity': 64, 'cloud': 89, 'feelslike_c': 37.2, 'feelslike_f': 98.9, 'windchill_c': 31.6, 'windchill_f': 88.8, 'heatindex_c': 37.2, 'heatindex_f': 98.9, 'dewpoint_c': 23.8, 'dewpoint_f': 74.9, 'vis_km': 9.0, 'vis_miles': 5.0, 'uv': 11.3, 'gust_mph': 6.7, 'gust_kph': 10.8}}\", 'score': 0.8779845, 'raw_content': None}, {'url': 'https://www.enca.com/weather/weather-forecast-thursday-8-may-2025', 'title': 'Weather Forecast | Thursday, 8 May 2025 - eNCA', 'content': 'Weather Forecast | Thursday, 8 May 2025. Thursday 08 May 2025 - 05:12am. Weather forecast - 8 May 2025. Share Facebook Twitter Email', 'score': 0.8156003, 'raw_content': None}, {'url': 'https://world-weather.info/forecast/usa/fort_lauderdale/may-2025/', 'title': 'Weather in Fort Lauderdale in May 2025', 'content': \"Weather in Fort Lauderdale in May 2025\\n\\nFort Lauderdale Weather Forecast for May 2025 is based on long term prognosis and previous years' statistical data.\\n\\nMay\\n\\n+75°\\n\\n+75°\\n\\n+75°\\n\\n+77°\\n\\n+77°\\n\\n+77°\\n\\n+79°\\n\\n+77°\\n\\n+79°\\n\\n+79°\\n\\n+79°\\n\\n+79°\\n\\n+79°\\n\\n+77°\\n\\n+77°\\n\\n+75°\\n\\n+77°\\n\\n+82°\\n\\n+82°\\n\\n+82°\\n\\n+82°\\n\\n+82°\\n\\n+82°\\n\\n+79°\\n\\n+79°\\n\\n+77°\\n\\n+79°\\n\\n+79°\\n\\n+79°\\n\\n+79°\\n\\n+79°\\n\\nExtended weather forecast in Fort Lauderdale\\n\\nWeather in large and nearby cities\\n\\nWeather in Washington, D.C.+63°\\n\\nTallahassee+72° [...] North Miami Beach+75°\\n\\nPalm Beach Gardens+75°\\n\\nPembroke Pines+77°\\n\\nPompano Beach+77°\\n\\nStuart+75°\\n\\nUniversity Park+75°\\n\\nWest Palm Beach+79°\\n\\nMiami Beach+77°\\n\\nMiami+77°\\n\\nLake Worth+75°\\n\\nBoca Raton+77°\\n\\nBoynton Beach+77°\\n\\nCoral Springs+75°\\n\\nDeerfield Beach+77°\\n\\nCrafts+77°\\n\\nLawn Acres+77°\", 'score': 0.66569364, 'raw_content': None}, {'url': 'https://en.climate-data.org/north-america/united-states-of-america/florida/fort-lauderdale-1623/t/may-5/', 'title': 'Weather Fort Lauderdale in May 2025: Temperature & Climate', 'content': 'Min. Temperature °C (°F) | 17.4 °C(63.3) °F | 18.4 °C(65.1) °F | 19.2 °C(66.6) °F | 21.1 °C(69.9) °F | 22.9 °C(73.3) °F | 24.8 °C(76.6) °F | 25.5 °C(77.8) °F | 25.7 °C(78.3) °F | 25.1 °C(77.2) °F | 23.7 °C(74.6) °F | 20.9 °C(69.7) °F | 19.4 °C(66.8) °F [...] Max. Temperature °C (°F) | 23.2 °C(73.8) °F | 24.3 °C(75.7) °F | 25.2 °C(77.4) °F | 26.8 °C(80.3) °F | 28.2 °C(82.8) °F | 29.5 °C(85.1) °F | 30.2 °C(86.4) °F | 30.4 °C(86.7) °F | 29.5 °C(85.2) °F | 28 °C(82.4) °F | 25.8 °C(78.4) °F | 24.4 °C(75.9) °F\\nPrecipitation / Rainfall mm (in) | 55(2) | 45(1) | 59(2) | 67(2) | 104(4) | 183(7) | 141(5) | 173(6) | 178(7) | 125(4) | 56(2) | 47(1)\\nHumidity(%) | 69% | 68% | 68% | 68% | 72% | 79% | 78% | 79% | 80% | 74% | 70% | 72% [...] (75.7) °F\\n\\n25.2 °C\\n\\n(77.4) °F\\n\\n26.8 °C\\n\\n(80.3) °F\\n\\n28.2 °C\\n\\n(82.8) °F\\n\\n29.5 °C\\n\\n(85.1) °F\\n\\n30.2 °C\\n\\n(86.4) °F\\n\\n30.4 °C\\n\\n(86.7) °F\\n\\n29.5 °C\\n\\n(85.2) °F\\n\\n28 °C\\n\\n(82.4) °F\\n\\n25.8 °C\\n\\n(78.4) °F\\n\\n24.4 °C\\n\\n(75.9) °F\\n\\n55\\n\\n(2)\\n\\n45\\n\\n(1)\\n\\n59\\n\\n(2)\\n\\n67\\n\\n(2)\\n\\n104\\n\\n(4)\\n\\n183\\n\\n(7)\\n\\n141\\n\\n(5)\\n\\n173\\n\\n(6)\\n\\n178\\n\\n(7)\\n\\n125\\n\\n(4)\\n\\n56\\n\\n(2)\\n\\n47\\n\\n(1)', 'score': 0.6612456, 'raw_content': None}], 'response_time': 3.75}), AIMessage(content='The current weather is partly cloudy with a temperature of 19°C and a humidity of 69%. The wind is blowing at 6Km/h and the wind direction is WNW. The UV index is 0 and the visibility is 10Km. It is expected to be cloudy with a high chance of rain nearby. The temperature is expected to remain relatively constant throughout the day, with a high of 17°C and a low of 13°C. The wind is expected to pick up in the evening, with gusts of up to 17Km/h.', additional_kwargs={}, response_metadata={'token_usage': {'completion_tokens': 118, 'prompt_tokens': 2618, 'total_tokens': 2736, 'completion_time': 0.447704801, 'prompt_time': 0.184231455, 'queue_time': 0.056209495, 'total_time': 0.631936256}, 'model_name': 'llama-3.3-70b-versatile', 'system_fingerprint': 'fp_9a8b91ba77', 'finish_reason': 'stop', 'logprobs': None}, id='run-11be10bf-53bd-47ec-ab56-07f3de1026d1-0', usage_metadata={'input_tokens': 2618, 'output_tokens': 118, 'total_tokens': 2736}), ('user', 'what is the latest news there?')]}\n",
      "{'messages': [['user', 'what is the weather there?'], AIMessage(content='', additional_kwargs={'tool_calls': [{'id': 'call_2dzn', 'function': {'arguments': '{\"query\": \"current weather\"}', 'name': 'tavily_search_results_json'}, 'type': 'function'}]}, response_metadata={'token_usage': {'completion_tokens': 19, 'prompt_tokens': 284, 'total_tokens': 303, 'completion_time': 0.069090909, 'prompt_time': 0.017976653, 'queue_time': 0.05258391700000001, 'total_time': 0.087067562}, 'model_name': 'llama-3.3-70b-versatile', 'system_fingerprint': 'fp_6507bcfb6f', 'finish_reason': 'tool_calls', 'logprobs': None}, id='run-2d18f678-4ff5-4a3a-be8f-e18e1788617a-0', tool_calls=[{'name': 'tavily_search_results_json', 'args': {'query': 'current weather'}, 'id': 'call_2dzn', 'type': 'tool_call'}], usage_metadata={'input_tokens': 284, 'output_tokens': 19, 'total_tokens': 303}), ToolMessage(content='[{\"url\": \"https://www.weather25.com/north-america/usa?page=date&date=8-5\", \"content\": \"| 00:00 | 03:00 | 06:00 | 09:00 | 12:00 | 15:00 | 18:00 | 21:00\\\\nTemperature | 19°C | 17°C | 16°C | 17°C | 17°C | 17°C | 16°C | 13°C\\\\nWeather | Partly cloudy | Clear | Cloudy | Cloudy | Cloudy | Cloudy | Overcast | Mist\\\\nChance of rain | 0% | 0% | 0% | 0% | 0% | 0% | 0% | 0%\\\\nPrecipitation | 0mm | 0mm | 0mm | 0mm | 0mm | 0mm | 0mm | 0mm\\\\nHumidity | 69% | 77% | 87% | 80% | 75% | 69% | 75% | 95%\\\\nWind | 6Km/h | 7Km/h | 5Km/h | 5Km/h | 3Km/h | 5Km/h | 6Km/h | 11Km/h [...] Wind Gust | 13Km/h | 14Km/h | 10Km/h | 6Km/h | 3Km/h | 7Km/h | 10Km/h | 17Km/h\\\\nWind Degree | 284° | 342° | 8° | 19° | 241° | 122° | 338° | 21°\\\\nWind Direction | WNW | NNW | N | NNE | WSW | ESE | NNW | NNE\\\\nCloud Cover | 40% | 24% | 65% | 84% | 87% | 66% | 100% | 100%\\\\nUV Index | 0 | 0 | 0 | 2 | 6 | 3 | 1 | 0\\\\nVisibility | 10Km | 10Km | 2Km | 10Km | 10Km | 10Km | 10Km | 10Km\\\\nCheck United States\\'s weather in other day [...] For a more accurate weather forecast please select a city\\\\n\\\\nClothing recommendation for United States\\\\n\\\\nSunrise and sunset time in the United States in Thursday, 8 May 2025\\\\n\\\\nWhat time is the sunset and sunrise in the United States? The sun will rise at 05:44 and will set at 20:00. There will be 13.0 hours of sunlight in the United States.\"}, {\"url\": \"https://www.weatherapi.com/\", \"content\": \"{\\'location\\': {\\'name\\': \\'Global\\', \\'region\\': \\'Maguindanao\\', \\'country\\': \\'Filipinas\\', \\'lat\\': 7.3958, \\'lon\\': 124.3069, \\'tz_id\\': \\'Asia/Manila\\', \\'localtime_epoch\\': 1746682469, \\'localtime\\': \\'2025-05-08 13:34\\'}, \\'current\\': {\\'last_updated_epoch\\': 1746682200, \\'last_updated\\': \\'2025-05-08 13:30\\', \\'temp_c\\': 31.6, \\'temp_f\\': 88.8, \\'is_day\\': 1, \\'condition\\': {\\'text\\': \\'Patchy rain nearby\\', \\'icon\\': \\'//cdn.weatherapi.com/weather/64x64/day/176.png\\', \\'code\\': 1063}, \\'wind_mph\\': 2.2, \\'wind_kph\\': 3.6, \\'wind_degree\\': 142, \\'wind_dir\\': \\'SE\\', \\'pressure_mb\\': 1007.0, \\'pressure_in\\': 29.73, \\'precip_mm\\': 0.33, \\'precip_in\\': 0.01, \\'humidity\\': 64, \\'cloud\\': 89, \\'feelslike_c\\': 37.2, \\'feelslike_f\\': 98.9, \\'windchill_c\\': 31.6, \\'windchill_f\\': 88.8, \\'heatindex_c\\': 37.2, \\'heatindex_f\\': 98.9, \\'dewpoint_c\\': 23.8, \\'dewpoint_f\\': 74.9, \\'vis_km\\': 9.0, \\'vis_miles\\': 5.0, \\'uv\\': 11.3, \\'gust_mph\\': 6.7, \\'gust_kph\\': 10.8}}\"}, {\"url\": \"https://www.enca.com/weather/weather-forecast-thursday-8-may-2025\", \"content\": \"Weather Forecast | Thursday, 8 May 2025. Thursday 08 May 2025 - 05:12am. Weather forecast - 8 May 2025. Share Facebook Twitter Email\"}, {\"url\": \"https://world-weather.info/forecast/usa/fort_lauderdale/may-2025/\", \"content\": \"Weather in Fort Lauderdale in May 2025\\\\n\\\\nFort Lauderdale Weather Forecast for May 2025 is based on long term prognosis and previous years\\' statistical data.\\\\n\\\\nMay\\\\n\\\\n+75°\\\\n\\\\n+75°\\\\n\\\\n+75°\\\\n\\\\n+77°\\\\n\\\\n+77°\\\\n\\\\n+77°\\\\n\\\\n+79°\\\\n\\\\n+77°\\\\n\\\\n+79°\\\\n\\\\n+79°\\\\n\\\\n+79°\\\\n\\\\n+79°\\\\n\\\\n+79°\\\\n\\\\n+77°\\\\n\\\\n+77°\\\\n\\\\n+75°\\\\n\\\\n+77°\\\\n\\\\n+82°\\\\n\\\\n+82°\\\\n\\\\n+82°\\\\n\\\\n+82°\\\\n\\\\n+82°\\\\n\\\\n+82°\\\\n\\\\n+79°\\\\n\\\\n+79°\\\\n\\\\n+77°\\\\n\\\\n+79°\\\\n\\\\n+79°\\\\n\\\\n+79°\\\\n\\\\n+79°\\\\n\\\\n+79°\\\\n\\\\nExtended weather forecast in Fort Lauderdale\\\\n\\\\nWeather in large and nearby cities\\\\n\\\\nWeather in Washington, D.C.+63°\\\\n\\\\nTallahassee+72° [...] North Miami Beach+75°\\\\n\\\\nPalm Beach Gardens+75°\\\\n\\\\nPembroke Pines+77°\\\\n\\\\nPompano Beach+77°\\\\n\\\\nStuart+75°\\\\n\\\\nUniversity Park+75°\\\\n\\\\nWest Palm Beach+79°\\\\n\\\\nMiami Beach+77°\\\\n\\\\nMiami+77°\\\\n\\\\nLake Worth+75°\\\\n\\\\nBoca Raton+77°\\\\n\\\\nBoynton Beach+77°\\\\n\\\\nCoral Springs+75°\\\\n\\\\nDeerfield Beach+77°\\\\n\\\\nCrafts+77°\\\\n\\\\nLawn Acres+77°\"}, {\"url\": \"https://en.climate-data.org/north-america/united-states-of-america/florida/fort-lauderdale-1623/t/may-5/\", \"content\": \"Min. Temperature °C (°F) | 17.4 °C(63.3) °F | 18.4 °C(65.1) °F | 19.2 °C(66.6) °F | 21.1 °C(69.9) °F | 22.9 °C(73.3) °F | 24.8 °C(76.6) °F | 25.5 °C(77.8) °F | 25.7 °C(78.3) °F | 25.1 °C(77.2) °F | 23.7 °C(74.6) °F | 20.9 °C(69.7) °F | 19.4 °C(66.8) °F [...] Max. Temperature °C (°F) | 23.2 °C(73.8) °F | 24.3 °C(75.7) °F | 25.2 °C(77.4) °F | 26.8 °C(80.3) °F | 28.2 °C(82.8) °F | 29.5 °C(85.1) °F | 30.2 °C(86.4) °F | 30.4 °C(86.7) °F | 29.5 °C(85.2) °F | 28 °C(82.4) °F | 25.8 °C(78.4) °F | 24.4 °C(75.9) °F\\\\nPrecipitation / Rainfall mm (in) | 55(2) | 45(1) | 59(2) | 67(2) | 104(4) | 183(7) | 141(5) | 173(6) | 178(7) | 125(4) | 56(2) | 47(1)\\\\nHumidity(%) | 69% | 68% | 68% | 68% | 72% | 79% | 78% | 79% | 80% | 74% | 70% | 72% [...] (75.7) °F\\\\n\\\\n25.2 °C\\\\n\\\\n(77.4) °F\\\\n\\\\n26.8 °C\\\\n\\\\n(80.3) °F\\\\n\\\\n28.2 °C\\\\n\\\\n(82.8) °F\\\\n\\\\n29.5 °C\\\\n\\\\n(85.1) °F\\\\n\\\\n30.2 °C\\\\n\\\\n(86.4) °F\\\\n\\\\n30.4 °C\\\\n\\\\n(86.7) °F\\\\n\\\\n29.5 °C\\\\n\\\\n(85.2) °F\\\\n\\\\n28 °C\\\\n\\\\n(82.4) °F\\\\n\\\\n25.8 °C\\\\n\\\\n(78.4) °F\\\\n\\\\n24.4 °C\\\\n\\\\n(75.9) °F\\\\n\\\\n55\\\\n\\\\n(2)\\\\n\\\\n45\\\\n\\\\n(1)\\\\n\\\\n59\\\\n\\\\n(2)\\\\n\\\\n67\\\\n\\\\n(2)\\\\n\\\\n104\\\\n\\\\n(4)\\\\n\\\\n183\\\\n\\\\n(7)\\\\n\\\\n141\\\\n\\\\n(5)\\\\n\\\\n173\\\\n\\\\n(6)\\\\n\\\\n178\\\\n\\\\n(7)\\\\n\\\\n125\\\\n\\\\n(4)\\\\n\\\\n56\\\\n\\\\n(2)\\\\n\\\\n47\\\\n\\\\n(1)\"}]', name='tavily_search_results_json', tool_call_id='call_2dzn', artifact={'query': 'current weather', 'follow_up_questions': None, 'answer': None, 'images': [], 'results': [{'url': 'https://www.weather25.com/north-america/usa?page=date&date=8-5', 'title': 'United States weather forecast for Thursday, 8 May 2025', 'content': \"| 00:00 | 03:00 | 06:00 | 09:00 | 12:00 | 15:00 | 18:00 | 21:00\\nTemperature | 19°C | 17°C | 16°C | 17°C | 17°C | 17°C | 16°C | 13°C\\nWeather | Partly cloudy | Clear | Cloudy | Cloudy | Cloudy | Cloudy | Overcast | Mist\\nChance of rain | 0% | 0% | 0% | 0% | 0% | 0% | 0% | 0%\\nPrecipitation | 0mm | 0mm | 0mm | 0mm | 0mm | 0mm | 0mm | 0mm\\nHumidity | 69% | 77% | 87% | 80% | 75% | 69% | 75% | 95%\\nWind | 6Km/h | 7Km/h | 5Km/h | 5Km/h | 3Km/h | 5Km/h | 6Km/h | 11Km/h [...] Wind Gust | 13Km/h | 14Km/h | 10Km/h | 6Km/h | 3Km/h | 7Km/h | 10Km/h | 17Km/h\\nWind Degree | 284° | 342° | 8° | 19° | 241° | 122° | 338° | 21°\\nWind Direction | WNW | NNW | N | NNE | WSW | ESE | NNW | NNE\\nCloud Cover | 40% | 24% | 65% | 84% | 87% | 66% | 100% | 100%\\nUV Index | 0 | 0 | 0 | 2 | 6 | 3 | 1 | 0\\nVisibility | 10Km | 10Km | 2Km | 10Km | 10Km | 10Km | 10Km | 10Km\\nCheck United States's weather in other day [...] For a more accurate weather forecast please select a city\\n\\nClothing recommendation for United States\\n\\nSunrise and sunset time in the United States in Thursday, 8 May 2025\\n\\nWhat time is the sunset and sunrise in the United States? The sun will rise at 05:44 and will set at 20:00. There will be 13.0 hours of sunlight in the United States.\", 'score': 0.87981987, 'raw_content': None}, {'title': 'Weather in global', 'url': 'https://www.weatherapi.com/', 'content': \"{'location': {'name': 'Global', 'region': 'Maguindanao', 'country': 'Filipinas', 'lat': 7.3958, 'lon': 124.3069, 'tz_id': 'Asia/Manila', 'localtime_epoch': 1746682469, 'localtime': '2025-05-08 13:34'}, 'current': {'last_updated_epoch': 1746682200, 'last_updated': '2025-05-08 13:30', 'temp_c': 31.6, 'temp_f': 88.8, 'is_day': 1, 'condition': {'text': 'Patchy rain nearby', 'icon': '//cdn.weatherapi.com/weather/64x64/day/176.png', 'code': 1063}, 'wind_mph': 2.2, 'wind_kph': 3.6, 'wind_degree': 142, 'wind_dir': 'SE', 'pressure_mb': 1007.0, 'pressure_in': 29.73, 'precip_mm': 0.33, 'precip_in': 0.01, 'humidity': 64, 'cloud': 89, 'feelslike_c': 37.2, 'feelslike_f': 98.9, 'windchill_c': 31.6, 'windchill_f': 88.8, 'heatindex_c': 37.2, 'heatindex_f': 98.9, 'dewpoint_c': 23.8, 'dewpoint_f': 74.9, 'vis_km': 9.0, 'vis_miles': 5.0, 'uv': 11.3, 'gust_mph': 6.7, 'gust_kph': 10.8}}\", 'score': 0.8779845, 'raw_content': None}, {'url': 'https://www.enca.com/weather/weather-forecast-thursday-8-may-2025', 'title': 'Weather Forecast | Thursday, 8 May 2025 - eNCA', 'content': 'Weather Forecast | Thursday, 8 May 2025. Thursday 08 May 2025 - 05:12am. Weather forecast - 8 May 2025. Share Facebook Twitter Email', 'score': 0.8156003, 'raw_content': None}, {'url': 'https://world-weather.info/forecast/usa/fort_lauderdale/may-2025/', 'title': 'Weather in Fort Lauderdale in May 2025', 'content': \"Weather in Fort Lauderdale in May 2025\\n\\nFort Lauderdale Weather Forecast for May 2025 is based on long term prognosis and previous years' statistical data.\\n\\nMay\\n\\n+75°\\n\\n+75°\\n\\n+75°\\n\\n+77°\\n\\n+77°\\n\\n+77°\\n\\n+79°\\n\\n+77°\\n\\n+79°\\n\\n+79°\\n\\n+79°\\n\\n+79°\\n\\n+79°\\n\\n+77°\\n\\n+77°\\n\\n+75°\\n\\n+77°\\n\\n+82°\\n\\n+82°\\n\\n+82°\\n\\n+82°\\n\\n+82°\\n\\n+82°\\n\\n+79°\\n\\n+79°\\n\\n+77°\\n\\n+79°\\n\\n+79°\\n\\n+79°\\n\\n+79°\\n\\n+79°\\n\\nExtended weather forecast in Fort Lauderdale\\n\\nWeather in large and nearby cities\\n\\nWeather in Washington, D.C.+63°\\n\\nTallahassee+72° [...] North Miami Beach+75°\\n\\nPalm Beach Gardens+75°\\n\\nPembroke Pines+77°\\n\\nPompano Beach+77°\\n\\nStuart+75°\\n\\nUniversity Park+75°\\n\\nWest Palm Beach+79°\\n\\nMiami Beach+77°\\n\\nMiami+77°\\n\\nLake Worth+75°\\n\\nBoca Raton+77°\\n\\nBoynton Beach+77°\\n\\nCoral Springs+75°\\n\\nDeerfield Beach+77°\\n\\nCrafts+77°\\n\\nLawn Acres+77°\", 'score': 0.66569364, 'raw_content': None}, {'url': 'https://en.climate-data.org/north-america/united-states-of-america/florida/fort-lauderdale-1623/t/may-5/', 'title': 'Weather Fort Lauderdale in May 2025: Temperature & Climate', 'content': 'Min. Temperature °C (°F) | 17.4 °C(63.3) °F | 18.4 °C(65.1) °F | 19.2 °C(66.6) °F | 21.1 °C(69.9) °F | 22.9 °C(73.3) °F | 24.8 °C(76.6) °F | 25.5 °C(77.8) °F | 25.7 °C(78.3) °F | 25.1 °C(77.2) °F | 23.7 °C(74.6) °F | 20.9 °C(69.7) °F | 19.4 °C(66.8) °F [...] Max. Temperature °C (°F) | 23.2 °C(73.8) °F | 24.3 °C(75.7) °F | 25.2 °C(77.4) °F | 26.8 °C(80.3) °F | 28.2 °C(82.8) °F | 29.5 °C(85.1) °F | 30.2 °C(86.4) °F | 30.4 °C(86.7) °F | 29.5 °C(85.2) °F | 28 °C(82.4) °F | 25.8 °C(78.4) °F | 24.4 °C(75.9) °F\\nPrecipitation / Rainfall mm (in) | 55(2) | 45(1) | 59(2) | 67(2) | 104(4) | 183(7) | 141(5) | 173(6) | 178(7) | 125(4) | 56(2) | 47(1)\\nHumidity(%) | 69% | 68% | 68% | 68% | 72% | 79% | 78% | 79% | 80% | 74% | 70% | 72% [...] (75.7) °F\\n\\n25.2 °C\\n\\n(77.4) °F\\n\\n26.8 °C\\n\\n(80.3) °F\\n\\n28.2 °C\\n\\n(82.8) °F\\n\\n29.5 °C\\n\\n(85.1) °F\\n\\n30.2 °C\\n\\n(86.4) °F\\n\\n30.4 °C\\n\\n(86.7) °F\\n\\n29.5 °C\\n\\n(85.2) °F\\n\\n28 °C\\n\\n(82.4) °F\\n\\n25.8 °C\\n\\n(78.4) °F\\n\\n24.4 °C\\n\\n(75.9) °F\\n\\n55\\n\\n(2)\\n\\n45\\n\\n(1)\\n\\n59\\n\\n(2)\\n\\n67\\n\\n(2)\\n\\n104\\n\\n(4)\\n\\n183\\n\\n(7)\\n\\n141\\n\\n(5)\\n\\n173\\n\\n(6)\\n\\n178\\n\\n(7)\\n\\n125\\n\\n(4)\\n\\n56\\n\\n(2)\\n\\n47\\n\\n(1)', 'score': 0.6612456, 'raw_content': None}], 'response_time': 3.75}), AIMessage(content='The current weather is partly cloudy with a temperature of 19°C and a humidity of 69%. The wind is blowing at 6Km/h and the wind direction is WNW. The UV index is 0 and the visibility is 10Km. It is expected to be cloudy with a high chance of rain nearby. The temperature is expected to remain relatively constant throughout the day, with a high of 17°C and a low of 13°C. The wind is expected to pick up in the evening, with gusts of up to 17Km/h.', additional_kwargs={}, response_metadata={'token_usage': {'completion_tokens': 118, 'prompt_tokens': 2618, 'total_tokens': 2736, 'completion_time': 0.447704801, 'prompt_time': 0.184231455, 'queue_time': 0.056209495, 'total_time': 0.631936256}, 'model_name': 'llama-3.3-70b-versatile', 'system_fingerprint': 'fp_9a8b91ba77', 'finish_reason': 'stop', 'logprobs': None}, id='run-11be10bf-53bd-47ec-ab56-07f3de1026d1-0', usage_metadata={'input_tokens': 2618, 'output_tokens': 118, 'total_tokens': 2736}), ('user', 'what is the latest news there?'), AIMessage(content='', additional_kwargs={'tool_calls': [{'id': 'call_p575', 'function': {'arguments': '{\"query\": \"latest news\"}', 'name': 'tavily_search_results_json'}, 'type': 'function'}]}, response_metadata={'token_usage': {'completion_tokens': 19, 'prompt_tokens': 2752, 'total_tokens': 2771, 'completion_time': 0.069090909, 'prompt_time': 0.198906552, 'queue_time': 0.05437194100000001, 'total_time': 0.267997461}, 'model_name': 'llama-3.3-70b-versatile', 'system_fingerprint': 'fp_6507bcfb6f', 'finish_reason': 'tool_calls', 'logprobs': None}, id='run-81f2af8e-9af0-4dc3-a20d-cc627b913295-0', tool_calls=[{'name': 'tavily_search_results_json', 'args': {'query': 'latest news'}, 'id': 'call_p575', 'type': 'tool_call'}], usage_metadata={'input_tokens': 2752, 'output_tokens': 19, 'total_tokens': 2771})]}\n"
     ]
    }
   ],
   "source": [
    "for event in events:\n",
    "    print(event)"
   ]
  },
  {
   "cell_type": "code",
   "execution_count": 353,
   "id": "f6f1fe55",
   "metadata": {},
   "outputs": [],
   "source": [
    "snapshot = app.get_state(config)"
   ]
  },
  {
   "cell_type": "code",
   "execution_count": 354,
   "id": "c3dfce5d",
   "metadata": {},
   "outputs": [
    {
     "data": {
      "text/plain": [
       "('tools',)"
      ]
     },
     "execution_count": 354,
     "metadata": {},
     "output_type": "execute_result"
    }
   ],
   "source": [
    "snapshot.next"
   ]
  },
  {
   "cell_type": "code",
   "execution_count": 355,
   "id": "925486b5",
   "metadata": {},
   "outputs": [],
   "source": [
    "current_message = snapshot.values['messages'][-1]"
   ]
  },
  {
   "cell_type": "code",
   "execution_count": 356,
   "id": "292842fe",
   "metadata": {},
   "outputs": [
    {
     "name": "stdout",
     "output_type": "stream",
     "text": [
      "==================================\u001b[1m Ai Message \u001b[0m==================================\n",
      "Tool Calls:\n",
      "  tavily_search_results_json (call_p575)\n",
      " Call ID: call_p575\n",
      "  Args:\n",
      "    query: latest news\n"
     ]
    }
   ],
   "source": [
    "current_message.pretty_print()"
   ]
  },
  {
   "cell_type": "code",
   "execution_count": 360,
   "id": "3c621e80",
   "metadata": {},
   "outputs": [],
   "source": [
    "tool_call_id = current_message.tool_calls[0][\"id\"]"
   ]
  },
  {
   "cell_type": "code",
   "execution_count": 361,
   "id": "f33b9df9",
   "metadata": {},
   "outputs": [
    {
     "data": {
      "text/plain": [
       "'call_p575'"
      ]
     },
     "execution_count": 361,
     "metadata": {},
     "output_type": "execute_result"
    }
   ],
   "source": [
    "tool_call_id"
   ]
  },
  {
   "cell_type": "code",
   "execution_count": 362,
   "id": "9306a0b7",
   "metadata": {},
   "outputs": [],
   "source": [
    "from langchain_core.messages import AIMessage, ToolMessage"
   ]
  },
  {
   "cell_type": "code",
   "execution_count": 363,
   "id": "20d3b234",
   "metadata": {},
   "outputs": [],
   "source": [
    "answer = \"it is just related to raining which is happing on daily basis in delhi\""
   ]
  },
  {
   "cell_type": "code",
   "execution_count": 364,
   "id": "1854a1c8",
   "metadata": {},
   "outputs": [],
   "source": [
    "new_message = [\n",
    "    ToolMessage(content=answer, tool_call_id=tool_call_id),\n",
    "    AIMessage(content=answer)\n",
    "]"
   ]
  },
  {
   "cell_type": "code",
   "execution_count": 365,
   "id": "b69571a7",
   "metadata": {},
   "outputs": [
    {
     "data": {
      "text/plain": [
       "{'configurable': {'thread_id': '1',\n",
       "  'checkpoint_ns': '',\n",
       "  'checkpoint_id': '1f02bceb-1ab0-6469-8007-8170cac40037'}}"
      ]
     },
     "execution_count": 365,
     "metadata": {},
     "output_type": "execute_result"
    }
   ],
   "source": [
    "app.update_state(\n",
    "    config,\n",
    "    {\"messages\": new_message}\n",
    ")"
   ]
  },
  {
   "cell_type": "code",
   "execution_count": 366,
   "id": "2f5e5002",
   "metadata": {},
   "outputs": [
    {
     "name": "stdout",
     "output_type": "stream",
     "text": [
      "content='it is just related to raining which is happing on daily basis in delhi' additional_kwargs={} response_metadata={}\n"
     ]
    }
   ],
   "source": [
    "print(app.get_state(config).values['messages'][-1])"
   ]
  },
  {
   "cell_type": "code",
   "execution_count": null,
   "id": "9c88a9dd",
   "metadata": {},
   "outputs": [],
   "source": []
  }
 ],
 "metadata": {
  "kernelspec": {
   "display_name": "langgraph",
   "language": "python",
   "name": "python3"
  },
  "language_info": {
   "codemirror_mode": {
    "name": "ipython",
    "version": 3
   },
   "file_extension": ".py",
   "mimetype": "text/x-python",
   "name": "python",
   "nbconvert_exporter": "python",
   "pygments_lexer": "ipython3",
   "version": "3.12.0"
  }
 },
 "nbformat": 4,
 "nbformat_minor": 5
}
