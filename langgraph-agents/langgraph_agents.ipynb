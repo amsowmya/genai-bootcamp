{
 "cells": [
  {
   "cell_type": "code",
   "execution_count": 39,
   "id": "11cc4248",
   "metadata": {},
   "outputs": [],
   "source": [
    "from langchain_groq import ChatGroq\n",
    "import os\n",
    "\n",
    "groq_api_key = os.getenv('GROQ_API_KEY')\n",
    "\n",
    "llm = ChatGroq(groq_api_key=groq_api_key, model=\"llama-3.3-70b-versatile\")"
   ]
  },
  {
   "cell_type": "code",
   "execution_count": 40,
   "id": "4f93273f",
   "metadata": {},
   "outputs": [
    {
     "data": {
      "text/plain": [
       "\"It's nice to meet you. Is there something I can help you with or would you like to chat?\""
      ]
     },
     "execution_count": 40,
     "metadata": {},
     "output_type": "execute_result"
    }
   ],
   "source": [
    "llm.invoke(\"hi\").content"
   ]
  },
  {
   "cell_type": "code",
   "execution_count": 41,
   "id": "fd672675",
   "metadata": {},
   "outputs": [],
   "source": [
    "from langgraph.graph import StateGraph, MessagesState, START, END\n",
    "from langgraph.graph.message import add_messages\n",
    "from typing import TypedDict, Annotated, Literal\n",
    "from langchain_core.tools import tool\n",
    "from langchain_core.messages import HumanMessage\n",
    "from langgraph.checkpoint.memory import MemorySaver\n",
    "from langgraph.prebuilt import ToolNode"
   ]
  },
  {
   "cell_type": "code",
   "execution_count": 42,
   "id": "d5d1a48d",
   "metadata": {},
   "outputs": [],
   "source": [
    "def call_model(state: MessagesState):\n",
    "    question = state['messages']\n",
    "    response = llm.invoke(question).content\n",
    "    return {\"messages\": [response]}"
   ]
  },
  {
   "cell_type": "code",
   "execution_count": 43,
   "id": "ea1a138a",
   "metadata": {},
   "outputs": [],
   "source": [
    "workflow = StateGraph(MessagesState)\n",
    "\n",
    "workflow.add_node(\"chatbot\" ,call_model)\n",
    "workflow.add_edge(START, \"chatbot\")\n",
    "workflow.add_edge(\"chatbot\", END)\n",
    "\n",
    "app = workflow.compile()"
   ]
  },
  {
   "cell_type": "code",
   "execution_count": 44,
   "id": "71e423f1",
   "metadata": {},
   "outputs": [
    {
     "data": {
      "image/png": "[encoded data removed]",
      "text/plain": [
       "<IPython.core.display.Image object>"
      ]
     },
     "metadata": {},
     "output_type": "display_data"
    }
   ],
   "source": [
    "from IPython.display import Image, display\n",
    "\n",
    "display(Image(app.get_graph().draw_mermaid_png()))"
   ]
  },
  {
   "cell_type": "code",
   "execution_count": 45,
   "id": "610ba8f7",
   "metadata": {},
   "outputs": [
    {
     "data": {
      "text/plain": [
       "{'messages': [HumanMessage(content='who won the first cricket worldcup', additional_kwargs={}, response_metadata={}, id='d3f0935a-75f9-41e8-9b6b-2aaddaaf1e25'),\n",
       "  HumanMessage(content=\"The first Cricket World Cup was held in 1975 in England. The West Indies cricket team, led by Clive Lloyd, won the tournament by defeating Australia in the final at Lord's Cricket Ground on June 21, 1975. The West Indies won by 17 runs, with a score of 291/8 in 60 overs, while Australia was bowled out for 274 in 58.4 overs.\", additional_kwargs={}, response_metadata={}, id='91260586-f410-4aab-aa31-31c9ff22db70')]}"
      ]
     },
     "execution_count": 45,
     "metadata": {},
     "output_type": "execute_result"
    }
   ],
   "source": [
    "input = {\"messages\": [\"who won the first cricket worldcup\"]}\n",
    "app.invoke(input)"
   ]
  },
  {
   "cell_type": "code",
   "execution_count": 46,
   "id": "e67387bf",
   "metadata": {},
   "outputs": [],
   "source": [
    "response = app.invoke(input)"
   ]
  },
  {
   "cell_type": "code",
   "execution_count": 47,
   "id": "bb1df8be",
   "metadata": {},
   "outputs": [
    {
     "data": {
      "text/plain": [
       "\"The first Cricket World Cup was held in 1975 in England, and it was won by the West Indies. They defeated Australia in the final at Lord's Cricket Ground on June 21, 1975, by 17 runs. The West Indies team, led by Clive Lloyd, scored 291/8 in 60 overs, and Australia was bowled out for 274 in 58.4 overs.\""
      ]
     },
     "execution_count": 47,
     "metadata": {},
     "output_type": "execute_result"
    }
   ],
   "source": [
    "response['messages'][-1].content"
   ]
  },
  {
   "cell_type": "code",
   "execution_count": 48,
   "id": "1b174bf4",
   "metadata": {},
   "outputs": [
    {
     "name": "stdout",
     "output_type": "stream",
     "text": [
      "Output from 'chatbot' Node\n",
      "_____\n",
      "{'messages': [\"The first Cricket World Cup was held in 1975 in England. The West Indies cricket team, led by Clive Lloyd, won the inaugural tournament by defeating Australia in the final at Lord's Cricket Ground in London on June 21, 1975. The West Indies won by 17 runs, with a score of 291/8 in 60 overs, while Australia was bowled out for 274 in 58.4 overs.\"]}\n",
      "\n",
      "\n"
     ]
    }
   ],
   "source": [
    "for output in app.stream(input):\n",
    "    for key, value in output.items():\n",
    "        print(f\"Output from '{key}' Node\")\n",
    "        print(\"_____\")\n",
    "        print(value)\n",
    "        print(\"\\n\")"
   ]
  },
  {
   "cell_type": "code",
   "execution_count": 49,
   "id": "31ad885c",
   "metadata": {},
   "outputs": [],
   "source": [
    "@tool\n",
    "def search(query: str):\n",
    "    \"This is a tool for weather checking\"\n",
    "    if \"india\" in query.lower() or \"delhi\" in query.lower():\n",
    "        return \"the weather is hotty with some foggy\"\n",
    "    return \"weather is cloudy with some darkness\""
   ]
  },
  {
   "cell_type": "code",
   "execution_count": 50,
   "id": "52302907",
   "metadata": {},
   "outputs": [
    {
     "data": {
      "text/plain": [
       "'the weather is hotty with some foggy'"
      ]
     },
     "execution_count": 50,
     "metadata": {},
     "output_type": "execute_result"
    }
   ],
   "source": [
    "search.invoke(\"what is a weather in India\")"
   ]
  },
  {
   "cell_type": "code",
   "execution_count": 51,
   "id": "a81f64f8",
   "metadata": {},
   "outputs": [
    {
     "data": {
      "text/plain": [
       "'weather is cloudy with some darkness'"
      ]
     },
     "execution_count": 51,
     "metadata": {},
     "output_type": "execute_result"
    }
   ],
   "source": [
    "search.invoke(\"what is the weather in Australia\")"
   ]
  },
  {
   "cell_type": "code",
   "execution_count": 52,
   "id": "265eb52e",
   "metadata": {},
   "outputs": [],
   "source": [
    "tools = [search]"
   ]
  },
  {
   "cell_type": "code",
   "execution_count": 53,
   "id": "4634723b",
   "metadata": {},
   "outputs": [],
   "source": [
    "llm_with_tool = llm.bind_tools(tools)"
   ]
  },
  {
   "cell_type": "code",
   "execution_count": 54,
   "id": "14b3b691",
   "metadata": {},
   "outputs": [
    {
     "data": {
      "text/plain": [
       "AIMessage(content='Hello, how can I help you today?', additional_kwargs={}, response_metadata={'token_usage': {'completion_tokens': 10, 'prompt_tokens': 213, 'total_tokens': 223, 'completion_time': 0.036363636, 'prompt_time': 0.020559194, 'queue_time': 0.05573091599999999, 'total_time': 0.05692283}, 'model_name': 'llama-3.3-70b-versatile', 'system_fingerprint': 'fp_3f3b593e33', 'finish_reason': 'stop', 'logprobs': None}, id='run-facef907-1519-4057-893d-c7fca9b83e74-0', usage_metadata={'input_tokens': 213, 'output_tokens': 10, 'total_tokens': 223})"
      ]
     },
     "execution_count": 54,
     "metadata": {},
     "output_type": "execute_result"
    }
   ],
   "source": [
    "llm_with_tool.invoke(\"hi\")"
   ]
  },
  {
   "cell_type": "code",
   "execution_count": 55,
   "id": "692a6962",
   "metadata": {},
   "outputs": [],
   "source": [
    "response = llm_with_tool.invoke(\"hi\")"
   ]
  },
  {
   "cell_type": "code",
   "execution_count": 56,
   "id": "1ed59714",
   "metadata": {},
   "outputs": [
    {
     "data": {
      "text/plain": [
       "\"I'm here to help. Is there something I can help you with, or would you like to check the weather?\""
      ]
     },
     "execution_count": 56,
     "metadata": {},
     "output_type": "execute_result"
    }
   ],
   "source": [
    "response.content"
   ]
  },
  {
   "cell_type": "code",
   "execution_count": 57,
   "id": "ae2793d8",
   "metadata": {},
   "outputs": [
    {
     "data": {
      "text/plain": [
       "[]"
      ]
     },
     "execution_count": 57,
     "metadata": {},
     "output_type": "execute_result"
    }
   ],
   "source": [
    "response.tool_calls"
   ]
  },
  {
   "cell_type": "code",
   "execution_count": 58,
   "id": "2f2fc0b3",
   "metadata": {},
   "outputs": [
    {
     "data": {
      "text/plain": [
       "AIMessage(content='', additional_kwargs={'tool_calls': [{'id': 'call_3ae1', 'function': {'arguments': '{\"query\": \"first president of Australia\"}', 'name': 'search'}, 'type': 'function'}]}, response_metadata={'token_usage': {'completion_tokens': 16, 'prompt_tokens': 220, 'total_tokens': 236, 'completion_time': 0.060456992, 'prompt_time': 0.014177721, 'queue_time': 0.06046452899999999, 'total_time': 0.074634713}, 'model_name': 'llama-3.3-70b-versatile', 'system_fingerprint': 'fp_9a8b91ba77', 'finish_reason': 'tool_calls', 'logprobs': None}, id='run-00bdfd4a-7651-49a6-8cb8-320e93a45444-0', tool_calls=[{'name': 'search', 'args': {'query': 'first president of Australia'}, 'id': 'call_3ae1', 'type': 'tool_call'}], usage_metadata={'input_tokens': 220, 'output_tokens': 16, 'total_tokens': 236})"
      ]
     },
     "execution_count": 58,
     "metadata": {},
     "output_type": "execute_result"
    }
   ],
   "source": [
    "llm_with_tool.invoke(\"who is the first president of Aus?\")"
   ]
  },
  {
   "cell_type": "code",
   "execution_count": 59,
   "id": "3039d4bd",
   "metadata": {},
   "outputs": [],
   "source": [
    "response = llm_with_tool.invoke(\"what is the weather in india?\")"
   ]
  },
  {
   "cell_type": "code",
   "execution_count": 60,
   "id": "89b5230c",
   "metadata": {},
   "outputs": [
    {
     "data": {
      "text/plain": [
       "''"
      ]
     },
     "execution_count": 60,
     "metadata": {},
     "output_type": "execute_result"
    }
   ],
   "source": [
    "response.content"
   ]
  },
  {
   "cell_type": "code",
   "execution_count": 61,
   "id": "efdcfc9d",
   "metadata": {},
   "outputs": [
    {
     "data": {
      "text/plain": [
       "[{'name': 'search',\n",
       "  'args': {'query': 'India weather'},\n",
       "  'id': 'call_ejgt',\n",
       "  'type': 'tool_call'}]"
      ]
     },
     "execution_count": 61,
     "metadata": {},
     "output_type": "execute_result"
    }
   ],
   "source": [
    "response.tool_calls"
   ]
  },
  {
   "cell_type": "code",
   "execution_count": 62,
   "id": "90c70ecf",
   "metadata": {},
   "outputs": [],
   "source": [
    "def call_model(state:MessagesState):\n",
    "    question = state['messages']\n",
    "    response = llm_with_tool.invoke(question)\n",
    "    return {\"messages\": [response]}"
   ]
  },
  {
   "cell_type": "code",
   "execution_count": 63,
   "id": "d908cb07",
   "metadata": {},
   "outputs": [],
   "source": [
    "input={\"messages\": [\"hi my name is sam\"]}"
   ]
  },
  {
   "cell_type": "code",
   "execution_count": 64,
   "id": "7240d40e",
   "metadata": {},
   "outputs": [],
   "source": [
    "response = call_model(input)"
   ]
  },
  {
   "cell_type": "code",
   "execution_count": 65,
   "id": "4a49182c",
   "metadata": {},
   "outputs": [],
   "source": [
    "message = response['messages']"
   ]
  },
  {
   "cell_type": "code",
   "execution_count": 66,
   "id": "9a5719a1",
   "metadata": {},
   "outputs": [],
   "source": [
    "last_message = message[-1]"
   ]
  },
  {
   "cell_type": "code",
   "execution_count": 67,
   "id": "568d3eb8",
   "metadata": {},
   "outputs": [
    {
     "data": {
      "text/plain": [
       "\"Hello Sam, it's nice to meet you. Is there something I can help you with or would you like to chat?\""
      ]
     },
     "execution_count": 67,
     "metadata": {},
     "output_type": "execute_result"
    }
   ],
   "source": [
    "last_message.content"
   ]
  },
  {
   "cell_type": "code",
   "execution_count": 68,
   "id": "6b1298ad",
   "metadata": {},
   "outputs": [
    {
     "data": {
      "text/plain": [
       "[]"
      ]
     },
     "execution_count": 68,
     "metadata": {},
     "output_type": "execute_result"
    }
   ],
   "source": [
    "last_message.tool_calls"
   ]
  },
  {
   "cell_type": "code",
   "execution_count": 69,
   "id": "493e6bb3",
   "metadata": {},
   "outputs": [],
   "source": [
    "input = {\"messages\": [\"what is the weather in mumbai\"]}\n",
    "\n",
    "response = call_model(input)\n",
    "message = response['messages']"
   ]
  },
  {
   "cell_type": "code",
   "execution_count": 70,
   "id": "4273963d",
   "metadata": {},
   "outputs": [],
   "source": [
    "last_message = message[-1]"
   ]
  },
  {
   "cell_type": "code",
   "execution_count": 71,
   "id": "d21c6ea4",
   "metadata": {},
   "outputs": [
    {
     "data": {
      "text/plain": [
       "''"
      ]
     },
     "execution_count": 71,
     "metadata": {},
     "output_type": "execute_result"
    }
   ],
   "source": [
    "last_message.content"
   ]
  },
  {
   "cell_type": "code",
   "execution_count": 72,
   "id": "9b76bdb3",
   "metadata": {},
   "outputs": [
    {
     "data": {
      "text/plain": [
       "[{'name': 'search',\n",
       "  'args': {'query': 'Mumbai weather'},\n",
       "  'id': 'call_80hh',\n",
       "  'type': 'tool_call'}]"
      ]
     },
     "execution_count": 72,
     "metadata": {},
     "output_type": "execute_result"
    }
   ],
   "source": [
    "last_message.tool_calls"
   ]
  },
  {
   "cell_type": "markdown",
   "id": "dafbb28c",
   "metadata": {},
   "source": [
    "# ==========================================="
   ]
  },
  {
   "cell_type": "code",
   "execution_count": 82,
   "id": "a186bc1a",
   "metadata": {},
   "outputs": [],
   "source": [
    "def call_model(state:MessagesState):\n",
    "    question = state['messages']\n",
    "    response = llm_with_tool.invoke(question)\n",
    "    return {\"messages\": [response]}"
   ]
  },
  {
   "cell_type": "code",
   "execution_count": 83,
   "id": "11391fc6",
   "metadata": {},
   "outputs": [],
   "source": [
    "@tool\n",
    "def search(query: str):\n",
    "    \"This is a tool for weather checking\"\n",
    "    if \"india\" in query.lower() or \"delhi\" in query.lower():\n",
    "        return \"the weather is hotty with some foggy\"\n",
    "    return \"weather is cloudy with some darkness\""
   ]
  },
  {
   "cell_type": "code",
   "execution_count": 92,
   "id": "d6970727",
   "metadata": {},
   "outputs": [],
   "source": [
    "def router_function(state: MessagesState):\n",
    "    message = state['messages']\n",
    "    last_message = message[-1]\n",
    "    if last_message.tool_calls:\n",
    "        return \"tools\"\n",
    "    return END"
   ]
  },
  {
   "cell_type": "code",
   "execution_count": 93,
   "id": "56df3e79",
   "metadata": {},
   "outputs": [
    {
     "data": {
      "text/plain": [
       "[StructuredTool(name='search', description='This is a tool for weather checking', args_schema=<class 'langchain_core.utils.pydantic.search'>, func=<function search at 0x000001E8C4BB4720>)]"
      ]
     },
     "execution_count": 93,
     "metadata": {},
     "output_type": "execute_result"
    }
   ],
   "source": [
    "tools"
   ]
  },
  {
   "cell_type": "code",
   "execution_count": 94,
   "id": "43b2dc58",
   "metadata": {},
   "outputs": [],
   "source": [
    "tool_node = ToolNode(tools)"
   ]
  },
  {
   "cell_type": "code",
   "execution_count": 100,
   "id": "b03a830c",
   "metadata": {},
   "outputs": [],
   "source": [
    "workflow = StateGraph(MessagesState)\n",
    "\n",
    "workflow.add_node(\"assistant\", call_model)\n",
    "workflow.add_node(\"myweathertool\", tool_node)\n",
    "\n",
    "workflow.add_edge(START, \"assistant\")\n",
    "workflow.add_conditional_edges(\"assistant\",\n",
    "                               router_function,\n",
    "                               {\"tools\": \"myweathertool\", END: END}\n",
    "                               )\n",
    "\n",
    "workflow.add_edge(\"myweathertool\", \"assistant\")\n",
    "\n",
    "app = workflow.compile()"
   ]
  },
  {
   "cell_type": "code",
   "execution_count": 101,
   "id": "3abac1f9",
   "metadata": {},
   "outputs": [
    {
     "data": {
      "image/png": "[encoded data removed]",
      "text/plain": [
       "<IPython.core.display.Image object>"
      ]
     },
     "metadata": {},
     "output_type": "display_data"
    }
   ],
   "source": [
    "display(Image(app.get_graph().draw_mermaid_png()))"
   ]
  },
  {
   "cell_type": "code",
   "execution_count": 102,
   "id": "0e641ad4",
   "metadata": {},
   "outputs": [
    {
     "data": {
      "text/plain": [
       "{'messages': [HumanMessage(content='hi how are you', additional_kwargs={}, response_metadata={}, id='64e22958-b364-4b76-bb6c-8ca508c480f1'),\n",
       "  AIMessage(content=\"I'm doing well, thanks for asking. Is there something I can help you with, or would you like to chat?\", additional_kwargs={}, response_metadata={'token_usage': {'completion_tokens': 26, 'prompt_tokens': 216, 'total_tokens': 242, 'completion_time': 0.094545455, 'prompt_time': 0.014080699, 'queue_time': 0.057256330999999994, 'total_time': 0.108626154}, 'model_name': 'llama-3.3-70b-versatile', 'system_fingerprint': 'fp_6507bcfb6f', 'finish_reason': 'stop', 'logprobs': None}, id='run-a428d07d-0f85-4e2a-9cc5-0eb570689a57-0', usage_metadata={'input_tokens': 216, 'output_tokens': 26, 'total_tokens': 242})]}"
      ]
     },
     "execution_count": 102,
     "metadata": {},
     "output_type": "execute_result"
    }
   ],
   "source": [
    "app.invoke({\"messages\": [\"hi how are you\"]})"
   ]
  },
  {
   "cell_type": "code",
   "execution_count": 105,
   "id": "59c0c890",
   "metadata": {},
   "outputs": [
    {
     "data": {
      "text/plain": [
       "{'messages': [HumanMessage(content=\"what's the weather in Delhi\", additional_kwargs={}, response_metadata={}, id='da22c10a-8203-4ef7-b1e9-eff5adf9ce14'),\n",
       "  AIMessage(content='', additional_kwargs={'tool_calls': [{'id': 'call_r1ph', 'function': {'arguments': '{\"query\": \"Delhi weather\"}', 'name': 'search'}, 'type': 'function'}]}, response_metadata={'token_usage': {'completion_tokens': 15, 'prompt_tokens': 218, 'total_tokens': 233, 'completion_time': 0.054545455, 'prompt_time': 0.021619951, 'queue_time': 0.056309796999999995, 'total_time': 0.076165406}, 'model_name': 'llama-3.3-70b-versatile', 'system_fingerprint': 'fp_6507bcfb6f', 'finish_reason': 'tool_calls', 'logprobs': None}, id='run-d0415924-309a-4d7f-8c85-0165cca1ba53-0', tool_calls=[{'name': 'search', 'args': {'query': 'Delhi weather'}, 'id': 'call_r1ph', 'type': 'tool_call'}], usage_metadata={'input_tokens': 218, 'output_tokens': 15, 'total_tokens': 233}),\n",
       "  ToolMessage(content='the weather is hotty with some foggy', name='search', id='00d47b09-a3f5-44aa-8adb-e2a07fafb19b', tool_call_id='call_r1ph'),\n",
       "  AIMessage(content='', additional_kwargs={'tool_calls': [{'id': 'call_7ezm', 'function': {'arguments': '{\"query\": \"Delhi temperature and forecast\"}', 'name': 'search'}, 'type': 'function'}]}, response_metadata={'token_usage': {'completion_tokens': 17, 'prompt_tokens': 252, 'total_tokens': 269, 'completion_time': 0.061818182, 'prompt_time': 0.016356997, 'queue_time': 0.053859293, 'total_time': 0.078175179}, 'model_name': 'llama-3.3-70b-versatile', 'system_fingerprint': 'fp_6507bcfb6f', 'finish_reason': 'tool_calls', 'logprobs': None}, id='run-943367dd-83cd-4aa8-a1e5-92f44157c3ad-0', tool_calls=[{'name': 'search', 'args': {'query': 'Delhi temperature and forecast'}, 'id': 'call_7ezm', 'type': 'tool_call'}], usage_metadata={'input_tokens': 252, 'output_tokens': 17, 'total_tokens': 269}),\n",
       "  ToolMessage(content='the weather is hotty with some foggy', name='search', id='81c0ab02-b66c-45ef-8e6f-587ba01ae727', tool_call_id='call_7ezm'),\n",
       "  AIMessage(content='', additional_kwargs={'tool_calls': [{'id': 'call_1srk', 'function': {'arguments': '{\"query\": \"current weather conditions in Delhi\"}', 'name': 'search'}, 'type': 'function'}]}, response_metadata={'token_usage': {'completion_tokens': 17, 'prompt_tokens': 288, 'total_tokens': 305, 'completion_time': 0.061818182, 'prompt_time': 0.018989581, 'queue_time': 0.055728147, 'total_time': 0.080807763}, 'model_name': 'llama-3.3-70b-versatile', 'system_fingerprint': 'fp_3f3b593e33', 'finish_reason': 'tool_calls', 'logprobs': None}, id='run-87c0cc17-4738-4fab-ba36-d412357075f4-0', tool_calls=[{'name': 'search', 'args': {'query': 'current weather conditions in Delhi'}, 'id': 'call_1srk', 'type': 'tool_call'}], usage_metadata={'input_tokens': 288, 'output_tokens': 17, 'total_tokens': 305}),\n",
       "  ToolMessage(content='the weather is hotty with some foggy', name='search', id='0d58e751-e939-4a8a-ba19-570a7ec12be1', tool_call_id='call_1srk'),\n",
       "  AIMessage(content='<function=search[]{\"query\": \"Delhi weather update\"}</function>', additional_kwargs={}, response_metadata={'token_usage': {'completion_tokens': 16, 'prompt_tokens': 647, 'total_tokens': 663, 'completion_time': 0.058181818, 'prompt_time': 0.041887471, 'queue_time': -0.098675121, 'total_time': 0.100069289}, 'model_name': 'llama-3.3-70b-versatile', 'system_fingerprint': 'fp_9a8b91ba77', 'finish_reason': 'stop', 'logprobs': None}, id='run-aca02bef-e2f5-4e8f-b666-454dc3c7f33f-0', usage_metadata={'input_tokens': 647, 'output_tokens': 16, 'total_tokens': 663})]}"
      ]
     },
     "execution_count": 105,
     "metadata": {},
     "output_type": "execute_result"
    }
   ],
   "source": [
    "input = {\"messages\": [\"what's the weather in Delhi\"]}\n",
    "app.invoke(input)"
   ]
  },
  {
   "cell_type": "code",
   "execution_count": 104,
   "id": "dd9a81b3",
   "metadata": {},
   "outputs": [
    {
     "data": {
      "text/plain": [
       "{'messages': [HumanMessage(content='who is the first president of usa?', additional_kwargs={}, response_metadata={}, id='75d8f310-4e8d-4d8f-b43e-2bd2dd9e03a5'),\n",
       "  AIMessage(content='', additional_kwargs={'tool_calls': [{'id': 'call_6dhn', 'function': {'arguments': '{\"query\": \"first president of USA\"}', 'name': 'search'}, 'type': 'function'}]}, response_metadata={'token_usage': {'completion_tokens': 16, 'prompt_tokens': 220, 'total_tokens': 236, 'completion_time': 0.058181818, 'prompt_time': 0.013436892, 'queue_time': 0.055744168000000004, 'total_time': 0.07161871}, 'model_name': 'llama-3.3-70b-versatile', 'system_fingerprint': 'fp_3f3b593e33', 'finish_reason': 'tool_calls', 'logprobs': None}, id='run-f72bc46c-c93d-41dc-bcd0-22d213f43086-0', tool_calls=[{'name': 'search', 'args': {'query': 'first president of USA'}, 'id': 'call_6dhn', 'type': 'tool_call'}], usage_metadata={'input_tokens': 220, 'output_tokens': 16, 'total_tokens': 236}),\n",
       "  ToolMessage(content='weather is cloudy with some darkness', name='search', id='e2350f77-ab71-4cb6-9e61-ae287ada9207', tool_call_id='call_6dhn'),\n",
       "  AIMessage(content='', additional_kwargs={'tool_calls': [{'id': 'call_9xw6', 'function': {'arguments': '{\"query\": \"current weather\"}', 'name': 'search'}, 'type': 'function'}]}, response_metadata={'token_usage': {'completion_tokens': 14, 'prompt_tokens': 252, 'total_tokens': 266, 'completion_time': 0.050909091, 'prompt_time': 0.016995618, 'queue_time': 0.05423057199999999, 'total_time': 0.067904709}, 'model_name': 'llama-3.3-70b-versatile', 'system_fingerprint': 'fp_6507bcfb6f', 'finish_reason': 'tool_calls', 'logprobs': None}, id='run-5860e884-967a-49e1-8261-5b8c1cf70983-0', tool_calls=[{'name': 'search', 'args': {'query': 'current weather'}, 'id': 'call_9xw6', 'type': 'tool_call'}], usage_metadata={'input_tokens': 252, 'output_tokens': 14, 'total_tokens': 266}),\n",
       "  ToolMessage(content='weather is cloudy with some darkness', name='search', id='14e60568-5912-4182-abf9-637587fe2f49', tool_call_id='call_9xw6'),\n",
       "  AIMessage(content='', additional_kwargs={'tool_calls': [{'id': 'call_zz94', 'function': {'arguments': '{\"query\": \"weather forecast\"}', 'name': 'search'}, 'type': 'function'}]}, response_metadata={'token_usage': {'completion_tokens': 14, 'prompt_tokens': 282, 'total_tokens': 296, 'completion_time': 0.050909091, 'prompt_time': 0.017895295, 'queue_time': 0.055898515, 'total_time': 0.068804386}, 'model_name': 'llama-3.3-70b-versatile', 'system_fingerprint': 'fp_6507bcfb6f', 'finish_reason': 'tool_calls', 'logprobs': None}, id='run-3a836a42-8feb-4512-8013-4be1c63b13a1-0', tool_calls=[{'name': 'search', 'args': {'query': 'weather forecast'}, 'id': 'call_zz94', 'type': 'tool_call'}], usage_metadata={'input_tokens': 282, 'output_tokens': 14, 'total_tokens': 296}),\n",
       "  ToolMessage(content='weather is cloudy with some darkness', name='search', id='284158c8-079e-4698-8943-9558fd9ee5be', tool_call_id='call_zz94'),\n",
       "  AIMessage(content='', additional_kwargs={'tool_calls': [{'id': 'call_a0yd', 'function': {'arguments': '{\"query\": \"weather update\"}', 'name': 'search'}, 'type': 'function'}]}, response_metadata={'token_usage': {'completion_tokens': 14, 'prompt_tokens': 312, 'total_tokens': 326, 'completion_time': 0.050909091, 'prompt_time': 0.019633548, 'queue_time': 0.05764106199999999, 'total_time': 0.070542639}, 'model_name': 'llama-3.3-70b-versatile', 'system_fingerprint': 'fp_3f3b593e33', 'finish_reason': 'tool_calls', 'logprobs': None}, id='run-00158e51-3abc-4862-bfec-38661065ab08-0', tool_calls=[{'name': 'search', 'args': {'query': 'weather update'}, 'id': 'call_a0yd', 'type': 'tool_call'}], usage_metadata={'input_tokens': 312, 'output_tokens': 14, 'total_tokens': 326}),\n",
       "  ToolMessage(content='weather is cloudy with some darkness', name='search', id='0afcb4d2-3c20-4bc3-8606-9eab468d271e', tool_call_id='call_a0yd'),\n",
       "  AIMessage(content='', additional_kwargs={'tool_calls': [{'id': 'call_1hkd', 'function': {'arguments': '{\"query\": \"current weather conditions\"}', 'name': 'search'}, 'type': 'function'}]}, response_metadata={'token_usage': {'completion_tokens': 15, 'prompt_tokens': 342, 'total_tokens': 357, 'completion_time': 0.054545455, 'prompt_time': 0.021540333, 'queue_time': 0.053254857, 'total_time': 0.076085788}, 'model_name': 'llama-3.3-70b-versatile', 'system_fingerprint': 'fp_6507bcfb6f', 'finish_reason': 'tool_calls', 'logprobs': None}, id='run-382d70c3-a9d8-49dc-989f-727093090e43-0', tool_calls=[{'name': 'search', 'args': {'query': 'current weather conditions'}, 'id': 'call_1hkd', 'type': 'tool_call'}], usage_metadata={'input_tokens': 342, 'output_tokens': 15, 'total_tokens': 357}),\n",
       "  ToolMessage(content='weather is cloudy with some darkness', name='search', id='0ea1f45e-0bee-4b44-b860-032a9a8ebd72', tool_call_id='call_1hkd'),\n",
       "  AIMessage(content='', additional_kwargs={'tool_calls': [{'id': 'call_wvk9', 'function': {'arguments': '{\"query\": \"today\\'s weather\"}', 'name': 'search'}, 'type': 'function'}]}, response_metadata={'token_usage': {'completion_tokens': 15, 'prompt_tokens': 373, 'total_tokens': 388, 'completion_time': 0.054545455, 'prompt_time': 0.031739239, 'queue_time': 0.053070041, 'total_time': 0.086284694}, 'model_name': 'llama-3.3-70b-versatile', 'system_fingerprint': 'fp_6507bcfb6f', 'finish_reason': 'tool_calls', 'logprobs': None}, id='run-8ffda259-1116-47ea-a4f8-ab2ea1e2269e-0', tool_calls=[{'name': 'search', 'args': {'query': \"today's weather\"}, 'id': 'call_wvk9', 'type': 'tool_call'}], usage_metadata={'input_tokens': 373, 'output_tokens': 15, 'total_tokens': 388}),\n",
       "  ToolMessage(content='weather is cloudy with some darkness', name='search', id='be4b23bb-f9b7-4917-90a8-3ff11d15597e', tool_call_id='call_wvk9'),\n",
       "  AIMessage(content='', additional_kwargs={'tool_calls': [{'id': 'call_4vd6', 'function': {'arguments': '{\"query\": \"first president of the United States\"}', 'name': 'search'}, 'type': 'function'}]}, response_metadata={'token_usage': {'completion_tokens': 18, 'prompt_tokens': 807, 'total_tokens': 825, 'completion_time': 0.065454545, 'prompt_time': 0.053089665, 'queue_time': -0.11021028299999999, 'total_time': 0.11854421}, 'model_name': 'llama-3.3-70b-versatile', 'system_fingerprint': 'fp_6507bcfb6f', 'finish_reason': 'tool_calls', 'logprobs': None}, id='run-276b7416-3d15-4272-8126-b165515411e4-0', tool_calls=[{'name': 'search', 'args': {'query': 'first president of the United States'}, 'id': 'call_4vd6', 'type': 'tool_call'}], usage_metadata={'input_tokens': 807, 'output_tokens': 18, 'total_tokens': 825}),\n",
       "  ToolMessage(content='weather is cloudy with some darkness', name='search', id='fd8cbd30-57db-4090-8a09-49fc8fa0e6c9', tool_call_id='call_4vd6'),\n",
       "  AIMessage(content='', additional_kwargs={'tool_calls': [{'id': 'call_46vz', 'function': {'arguments': '{\"query\": \"first president of the United States of America\"}', 'name': 'search'}, 'type': 'function'}]}, response_metadata={'token_usage': {'completion_tokens': 20, 'prompt_tokens': 438, 'total_tokens': 458, 'completion_time': 0.072727273, 'prompt_time': 0.028740211, 'queue_time': 0.054169845999999994, 'total_time': 0.101467484}, 'model_name': 'llama-3.3-70b-versatile', 'system_fingerprint': 'fp_6507bcfb6f', 'finish_reason': 'tool_calls', 'logprobs': None}, id='run-9b1e16de-495b-465f-86a9-94c6f46cf884-0', tool_calls=[{'name': 'search', 'args': {'query': 'first president of the United States of America'}, 'id': 'call_46vz', 'type': 'tool_call'}], usage_metadata={'input_tokens': 438, 'output_tokens': 20, 'total_tokens': 458}),\n",
       "  ToolMessage(content='weather is cloudy with some darkness', name='search', id='90b62f21-af3f-456c-9855-cf58c041f1d2', tool_call_id='call_46vz'),\n",
       "  AIMessage(content='<function=search={\"query\": \"George Washington\"}</function>', additional_kwargs={}, response_metadata={'token_usage': {'completion_tokens': 14, 'prompt_tokens': 474, 'total_tokens': 488, 'completion_time': 0.050909091, 'prompt_time': 0.029731412, 'queue_time': 0.057225398, 'total_time': 0.080640503}, 'model_name': 'llama-3.3-70b-versatile', 'system_fingerprint': 'fp_9a8b91ba77', 'finish_reason': 'stop', 'logprobs': None}, id='run-68b8d86b-a408-4f4b-8912-b967b9e227bf-0', usage_metadata={'input_tokens': 474, 'output_tokens': 14, 'total_tokens': 488})]}"
      ]
     },
     "execution_count": 104,
     "metadata": {},
     "output_type": "execute_result"
    }
   ],
   "source": [
    "input = {\"messages\": [\"who is the first president of usa?\"]}\n",
    "app.invoke(input)"
   ]
  },
  {
   "cell_type": "code",
   "execution_count": 106,
   "id": "7e76fb41",
   "metadata": {},
   "outputs": [
    {
     "name": "stdout",
     "output_type": "stream",
     "text": [
      "here is output from assistant\n",
      "____\n",
      "{'messages': [AIMessage(content='', additional_kwargs={'tool_calls': [{'id': 'call_3fsb', 'function': {'arguments': '{\"query\": \"delhi weather today\"}', 'name': 'search'}, 'type': 'function'}]}, response_metadata={'token_usage': {'completion_tokens': 16, 'prompt_tokens': 219, 'total_tokens': 235, 'completion_time': 0.058181818, 'prompt_time': 0.013370578, 'queue_time': 0.057142172, 'total_time': 0.071552396}, 'model_name': 'llama-3.3-70b-versatile', 'system_fingerprint': 'fp_9a8b91ba77', 'finish_reason': 'tool_calls', 'logprobs': None}, id='run-0b50e871-159e-4e11-8e42-5aad039a57f9-0', tool_calls=[{'name': 'search', 'args': {'query': 'delhi weather today'}, 'id': 'call_3fsb', 'type': 'tool_call'}], usage_metadata={'input_tokens': 219, 'output_tokens': 16, 'total_tokens': 235})]}\n",
      "\n",
      "\n",
      "here is output from myweathertool\n",
      "____\n",
      "{'messages': [ToolMessage(content='the weather is hotty with some foggy', name='search', id='e8bffc55-7d8e-4811-83e0-2f2641cf31cc', tool_call_id='call_3fsb')]}\n",
      "\n",
      "\n",
      "here is output from assistant\n",
      "____\n",
      "{'messages': [AIMessage(content='', additional_kwargs={'tool_calls': [{'id': 'call_xy2c', 'function': {'arguments': '{\"query\": \"delhi temperature and forecast\"}', 'name': 'search'}, 'type': 'function'}]}, response_metadata={'token_usage': {'completion_tokens': 17, 'prompt_tokens': 254, 'total_tokens': 271, 'completion_time': 0.061818182, 'prompt_time': 0.02295822, 'queue_time': 0.055807888, 'total_time': 0.084776402}, 'model_name': 'llama-3.3-70b-versatile', 'system_fingerprint': 'fp_9a8b91ba77', 'finish_reason': 'tool_calls', 'logprobs': None}, id='run-27c1eb25-3bd9-44cd-8373-f10be9d0a140-0', tool_calls=[{'name': 'search', 'args': {'query': 'delhi temperature and forecast'}, 'id': 'call_xy2c', 'type': 'tool_call'}], usage_metadata={'input_tokens': 254, 'output_tokens': 17, 'total_tokens': 271})]}\n",
      "\n",
      "\n",
      "here is output from myweathertool\n",
      "____\n",
      "{'messages': [ToolMessage(content='the weather is hotty with some foggy', name='search', id='5a5bb2d5-c359-4739-8de9-3c7f35eeb156', tool_call_id='call_xy2c')]}\n",
      "\n",
      "\n",
      "here is output from assistant\n",
      "____\n",
      "{'messages': [AIMessage(content='', additional_kwargs={'tool_calls': [{'id': 'call_r34t', 'function': {'arguments': '{\"query\": \"current weather in delhi\"}', 'name': 'search'}, 'type': 'function'}]}, response_metadata={'token_usage': {'completion_tokens': 17, 'prompt_tokens': 290, 'total_tokens': 307, 'completion_time': 0.061818182, 'prompt_time': 0.020033314, 'queue_time': 0.051953706, 'total_time': 0.081851496}, 'model_name': 'llama-3.3-70b-versatile', 'system_fingerprint': 'fp_6507bcfb6f', 'finish_reason': 'tool_calls', 'logprobs': None}, id='run-42025fa8-597f-4ac0-bba9-3f3da6c28d28-0', tool_calls=[{'name': 'search', 'args': {'query': 'current weather in delhi'}, 'id': 'call_r34t', 'type': 'tool_call'}], usage_metadata={'input_tokens': 290, 'output_tokens': 17, 'total_tokens': 307})]}\n",
      "\n",
      "\n",
      "here is output from myweathertool\n",
      "____\n",
      "{'messages': [ToolMessage(content='the weather is hotty with some foggy', name='search', id='ecca1c8d-eb23-4501-acb3-efa02c4d725c', tool_call_id='call_r34t')]}\n",
      "\n",
      "\n",
      "here is output from assistant\n",
      "____\n",
      "{'messages': [AIMessage(content='', additional_kwargs={'tool_calls': [{'id': 'call_qp43', 'function': {'arguments': '{\"query\": \"delhi weather\"}', 'name': 'search'}, 'type': 'function'}]}, response_metadata={'token_usage': {'completion_tokens': 15, 'prompt_tokens': 326, 'total_tokens': 341, 'completion_time': 0.054545455, 'prompt_time': 0.028303025, 'queue_time': 0.053028225, 'total_time': 0.08284848}, 'model_name': 'llama-3.3-70b-versatile', 'system_fingerprint': 'fp_6507bcfb6f', 'finish_reason': 'tool_calls', 'logprobs': None}, id='run-b335f797-5f50-45b7-b663-e09de224c4ea-0', tool_calls=[{'name': 'search', 'args': {'query': 'delhi weather'}, 'id': 'call_qp43', 'type': 'tool_call'}], usage_metadata={'input_tokens': 326, 'output_tokens': 15, 'total_tokens': 341})]}\n",
      "\n",
      "\n",
      "here is output from myweathertool\n",
      "____\n",
      "{'messages': [ToolMessage(content='the weather is hotty with some foggy', name='search', id='a91d061a-7875-4a25-82a1-3fe8ba18f6f4', tool_call_id='call_qp43')]}\n",
      "\n",
      "\n",
      "here is output from assistant\n",
      "____\n",
      "{'messages': [AIMessage(content='', additional_kwargs={'tool_calls': [{'id': 'call_xdpw', 'function': {'arguments': '{\"query\": \"weather in delhi today\"}', 'name': 'search'}, 'type': 'function'}]}, response_metadata={'token_usage': {'completion_tokens': 17, 'prompt_tokens': 360, 'total_tokens': 377, 'completion_time': 0.061818182, 'prompt_time': 0.04607594, 'queue_time': 0.05261627, 'total_time': 0.107894122}, 'model_name': 'llama-3.3-70b-versatile', 'system_fingerprint': 'fp_3f3b593e33', 'finish_reason': 'tool_calls', 'logprobs': None}, id='run-13a54605-640a-4733-9c0e-b10cdeabcbb9-0', tool_calls=[{'name': 'search', 'args': {'query': 'weather in delhi today'}, 'id': 'call_xdpw', 'type': 'tool_call'}], usage_metadata={'input_tokens': 360, 'output_tokens': 17, 'total_tokens': 377})]}\n",
      "\n",
      "\n",
      "here is output from myweathertool\n",
      "____\n",
      "{'messages': [ToolMessage(content='the weather is hotty with some foggy', name='search', id='bfae2408-86aa-45da-ba7b-46ca1d1853e0', tool_call_id='call_xdpw')]}\n",
      "\n",
      "\n",
      "here is output from assistant\n",
      "____\n",
      "{'messages': [AIMessage(content='<function=search={\"query\": \"delhi weather update\"}</function>', additional_kwargs={}, response_metadata={'token_usage': {'completion_tokens': 16, 'prompt_tokens': 396, 'total_tokens': 412, 'completion_time': 0.058181818, 'prompt_time': 0.028133118, 'queue_time': 0.056931419, 'total_time': 0.086314936}, 'model_name': 'llama-3.3-70b-versatile', 'system_fingerprint': 'fp_6507bcfb6f', 'finish_reason': 'stop', 'logprobs': None}, id='run-c06fe08f-ff07-418a-a704-d0841c64ed03-0', usage_metadata={'input_tokens': 396, 'output_tokens': 16, 'total_tokens': 412})]}\n",
      "\n",
      "\n"
     ]
    }
   ],
   "source": [
    "for output in app.stream({\"messages\": [\"What's the weather in delhi\"]}):\n",
    "    for key, value in output.items():\n",
    "        print(f\"here is output from {key}\")\n",
    "        print(\"____\")\n",
    "        print(value)\n",
    "        print(\"\\n\")"
   ]
  },
  {
   "cell_type": "code",
   "execution_count": 108,
   "id": "d4664ea6",
   "metadata": {},
   "outputs": [],
   "source": [
    "@tool\n",
    "def multiply(a:int, b:int) -> int:\n",
    "    \"\"\"multiply a and b\"\"\"\n",
    "    return a*b"
   ]
  },
  {
   "cell_type": "code",
   "execution_count": 109,
   "id": "e4b4aa82",
   "metadata": {},
   "outputs": [],
   "source": [
    "@tool \n",
    "def add(a:int, b:int) -> int:\n",
    "    \"\"\"add a and b\"\"\"\n",
    "    return a+b"
   ]
  },
  {
   "cell_type": "code",
   "execution_count": 111,
   "id": "74b7c6d3",
   "metadata": {},
   "outputs": [],
   "source": [
    "@tool \n",
    "def devide(a:int, b:int) -> int:\n",
    "    \"\"\"deviding two numbers a and b\"\"\"\n",
    "    return a*b"
   ]
  },
  {
   "cell_type": "code",
   "execution_count": 112,
   "id": "d3f4853c",
   "metadata": {},
   "outputs": [],
   "source": [
    "@tool\n",
    "def subtract(a:int, b:int) -> int:\n",
    "    \"\"\"Subtracting two numbers a and b\"\"\"\n",
    "    return a - b"
   ]
  },
  {
   "cell_type": "code",
   "execution_count": 113,
   "id": "d6fc2131",
   "metadata": {},
   "outputs": [],
   "source": [
    "from langchain_community.tools import DuckDuckGoSearchResults, DuckDuckGoSearchRun"
   ]
  },
  {
   "cell_type": "code",
   "execution_count": 124,
   "id": "caee5a04",
   "metadata": {},
   "outputs": [],
   "source": [
    "duck_search = DuckDuckGoSearchRun()"
   ]
  },
  {
   "cell_type": "code",
   "execution_count": 115,
   "id": "af637b9a",
   "metadata": {},
   "outputs": [
    {
     "data": {
      "text/plain": [
       "\"The president of the United States is the: U.S. head of state; Chief executive of the federal government; Commander-in-Chief of the armed forces; Current president. The 47th and current president of the United States is Donald John Trump. He was sworn into office on January 20, 2025. Former U.S. presidents. The United States has had 46 former U ... WASHINGTON − Donald Trump was sworn in Monday as the 47th president of the United States, returning to the White House after overcoming four criminal indictments and two assassination attempts ... Donald Trump has officially become the 47th president of the United States. In a special ceremony called an inauguration , President Trump took over from Joe Biden as America's new leader. Donald Trump became the 47th president of the United States on January 20, 2025 (Credit: The Trump White House, Public Domain/ Wikimedia Commons) On January 20, 2025, Donald Trump was sworn in as the 47th President of the United States. He is only the second President to serve non-consecutive terms since Grover Cleveland in 1893. At 78 years ... Donald Trump, who overcame impeachments, criminal indictments and a pair of assassination attempts to win another term in the White House, was sworn in Monday as the 47th U.S. president taking ...\""
      ]
     },
     "execution_count": 115,
     "metadata": {},
     "output_type": "execute_result"
    }
   ],
   "source": [
    "search.invoke(\"who is the president of usa?\")"
   ]
  },
  {
   "cell_type": "code",
   "execution_count": 125,
   "id": "58be2cf2",
   "metadata": {},
   "outputs": [],
   "source": [
    "tools = [multiply, add, devide, subtract, duck_search]"
   ]
  },
  {
   "cell_type": "code",
   "execution_count": 126,
   "id": "c479f18b",
   "metadata": {},
   "outputs": [],
   "source": [
    "llm_with_tools = llm.bind_tools(tools)"
   ]
  },
  {
   "cell_type": "code",
   "execution_count": 127,
   "id": "f2e9a419",
   "metadata": {},
   "outputs": [
    {
     "data": {
      "text/plain": [
       "AIMessage(content='<function=add{\"a\": 3, \"b\": 5}</function>', additional_kwargs={}, response_metadata={'token_usage': {'completion_tokens': 18, 'prompt_tokens': 502, 'total_tokens': 520, 'completion_time': 0.065454545, 'prompt_time': 0.039957684, 'queue_time': 0.058589315999999995, 'total_time': 0.105412229}, 'model_name': 'llama-3.3-70b-versatile', 'system_fingerprint': 'fp_3f3b593e33', 'finish_reason': 'stop', 'logprobs': None}, id='run-8614c706-4251-4c55-898a-e7628859126b-0', usage_metadata={'input_tokens': 502, 'output_tokens': 18, 'total_tokens': 520})"
      ]
     },
     "execution_count": 127,
     "metadata": {},
     "output_type": "execute_result"
    }
   ],
   "source": [
    "llm_with_tools.invoke(\"add 3 and 5\")"
   ]
  },
  {
   "cell_type": "code",
   "execution_count": 128,
   "id": "edae4481",
   "metadata": {},
   "outputs": [
    {
     "data": {
      "text/plain": [
       "[]"
      ]
     },
     "execution_count": 128,
     "metadata": {},
     "output_type": "execute_result"
    }
   ],
   "source": [
    "llm_with_tools.invoke(\"hi\").tool_calls"
   ]
  },
  {
   "cell_type": "code",
   "execution_count": 129,
   "id": "c606705d",
   "metadata": {},
   "outputs": [
    {
     "data": {
      "text/plain": [
       "[{'name': 'add',\n",
       "  'args': {'a': 3, 'b': 5},\n",
       "  'id': 'call_vt52',\n",
       "  'type': 'tool_call'}]"
      ]
     },
     "execution_count": 129,
     "metadata": {},
     "output_type": "execute_result"
    }
   ],
   "source": [
    "llm_with_tools.invoke(\"add 3 and 5\").tool_calls"
   ]
  },
  {
   "cell_type": "code",
   "execution_count": 130,
   "id": "45970777",
   "metadata": {},
   "outputs": [
    {
     "data": {
      "text/plain": [
       "[{'name': 'multiply',\n",
       "  'args': {'a': 3, 'b': 5},\n",
       "  'id': 'call_xj82',\n",
       "  'type': 'tool_call'}]"
      ]
     },
     "execution_count": 130,
     "metadata": {},
     "output_type": "execute_result"
    }
   ],
   "source": [
    "llm_with_tools.invoke(\"can you multiply 3 and 5\").tool_calls"
   ]
  },
  {
   "cell_type": "code",
   "execution_count": 131,
   "id": "6229cc51",
   "metadata": {},
   "outputs": [
    {
     "data": {
      "text/plain": [
       "[{'name': 'duckduckgo_search',\n",
       "  'args': {'query': 'current GDP of India'},\n",
       "  'id': 'call_hsws',\n",
       "  'type': 'tool_call'}]"
      ]
     },
     "execution_count": 131,
     "metadata": {},
     "output_type": "execute_result"
    }
   ],
   "source": [
    "llm_with_tools.invoke(\"what is the current gdp of india with current affairs\").tool_calls"
   ]
  },
  {
   "cell_type": "code",
   "execution_count": 132,
   "id": "2e10acb0",
   "metadata": {},
   "outputs": [],
   "source": [
    "from langchain_core.messages import HumanMessage, SystemMessage"
   ]
  },
  {
   "cell_type": "code",
   "execution_count": 133,
   "id": "8bb6e932",
   "metadata": {},
   "outputs": [],
   "source": [
    "sys_msg = SystemMessage(content=\"You are a helpful assistant tasked with using search and performing arithmetic on a set of inputs.\")"
   ]
  },
  {
   "cell_type": "code",
   "execution_count": 176,
   "id": "5559766b",
   "metadata": {},
   "outputs": [],
   "source": [
    "def assistant(state:MessagesState):\n",
    "    return {\"messages\": [llm_with_tools.invoke([sys_msg]+state['messages'])]}"
   ]
  },
  {
   "cell_type": "code",
   "execution_count": 182,
   "id": "0ab5c638",
   "metadata": {},
   "outputs": [],
   "source": [
    "builder = StateGraph(MessagesState)"
   ]
  },
  {
   "cell_type": "code",
   "execution_count": 183,
   "id": "fbb5248f",
   "metadata": {},
   "outputs": [],
   "source": [
    "from langgraph.prebuilt import tools_condition"
   ]
  },
  {
   "cell_type": "code",
   "execution_count": 184,
   "id": "5bc8a63b",
   "metadata": {},
   "outputs": [],
   "source": [
    "builder.add_node(\"assistant\", assistant)\n",
    "builder.add_node(\"tools\", ToolNode(tools))\n",
    "\n",
    "builder.add_conditional_edges(\"assistant\",\n",
    "                              tools_condition\n",
    "                              )\n",
    "\n",
    "builder.add_edge(START, \"assistant\")\n",
    "builder.add_edge(\"tools\", \"assistant\")\n",
    "\n",
    "react_app = builder.compile()"
   ]
  },
  {
   "cell_type": "code",
   "execution_count": null,
   "id": "40d9f9cf",
   "metadata": {},
   "outputs": [
    {
     "data": {
      "image/png": "[encoded data removed]",
      "text/plain": [
       "<IPython.core.display.Image object>"
      ]
     },
     "metadata": {},
     "output_type": "display_data"
    }
   ],
   "source": [
    "display(Image(react_app.get_graph().draw_mermaid_png()))"
   ]
  },
  {
   "cell_type": "code",
   "execution_count": 181,
   "id": "86a50205",
   "metadata": {},
   "outputs": [],
   "source": [
    "message = [HumanMessage(content=\"what is twice of narendra modi's current age\")]"
   ]
  },
  {
   "cell_type": "code",
   "execution_count": 185,
   "id": "0d6c996d",
   "metadata": {},
   "outputs": [],
   "source": [
    "response = react_app.invoke({\"messages\": message})"
   ]
  },
  {
   "cell_type": "code",
   "execution_count": 186,
   "id": "fe753768",
   "metadata": {},
   "outputs": [
    {
     "data": {
      "text/plain": [
       "{'messages': [HumanMessage(content=\"what is twice of narendra modi's current age\", additional_kwargs={}, response_metadata={}, id='bc0a3f2a-167a-4e7d-9d6d-88fff4ab130c'),\n",
       "  AIMessage(content='', additional_kwargs={'tool_calls': [{'id': 'call_4hrs', 'function': {'arguments': '{\"query\": \"Narendra Modi current age\"}', 'name': 'duckduckgo_search'}, 'type': 'function'}, {'id': 'call_s1c4', 'function': {'arguments': '{\"a\": 2, \"b\": 72}', 'name': 'multiply'}, 'type': 'function'}]}, response_metadata={'token_usage': {'completion_tokens': 40, 'prompt_tokens': 525, 'total_tokens': 565, 'completion_time': 0.145454545, 'prompt_time': 0.040503681, 'queue_time': 0.05333979900000001, 'total_time': 0.185958226}, 'model_name': 'llama-3.3-70b-versatile', 'system_fingerprint': 'fp_6507bcfb6f', 'finish_reason': 'tool_calls', 'logprobs': None}, id='run-9f49ed12-7ded-4d27-bac2-be940acf1a60-0', tool_calls=[{'name': 'duckduckgo_search', 'args': {'query': 'Narendra Modi current age'}, 'id': 'call_4hrs', 'type': 'tool_call'}, {'name': 'multiply', 'args': {'a': 2, 'b': 72}, 'id': 'call_s1c4', 'type': 'tool_call'}], usage_metadata={'input_tokens': 525, 'output_tokens': 40, 'total_tokens': 565}),\n",
       "  ToolMessage(content=\"Prime Minister Narendra Modi Biography: Discover Narendra Modi's Age, Full Name, Family, Salary, Date of Birth, Qualification, Net Worth, Mother's Name, and Age. ... In Vadnagar, Mehsana district, Bombay State (current-day Gujarat), Narendra Damodardas Modi in 1950, to a Gujarati Hindu family of grocery store owners. PM Modi birthday is ... Narendra Modi (born September 17, 1950, Vadnagar, India) is an Indian politician and government official who rose to become a senior leader of the Bharatiya Janata Party (BJP). In 2014 he led his party to victory in elections to the Lok Sabha (lower chamber of the Indian parliament), after which he was sworn in as prime minister of India.Prior to that he had served (2001-14) as chief ... After releasing them into their wild, Modi also clicked their pictures. 2021: As part of efforts to tackle the Covid-19 pandemic, a record 2.26 vaccines were administered in a single day. Prime Minister Narendra Modi will not retire from active politics upon turning 75 as per BJP leaders including Amit Shah. Party asserts no age provision in its constitution, with Modi expected to ... Prime Minister Narendra Modi turned 74, receiving birthday wishes from BJP and NDA leaders who praised his leadership. Tripura CM Manik Saha and Maharashtra CM Eknath Shinde extended their greetings.\", name='duckduckgo_search', id='cc360d8e-07a6-49a4-81e1-3caf14fd2d26', tool_call_id='call_4hrs'),\n",
       "  ToolMessage(content='144', name='multiply', id='051f8166-ecb8-4d08-a192-498f2e85c44a', tool_call_id='call_s1c4'),\n",
       "  AIMessage(content='', additional_kwargs={'tool_calls': [{'id': 'call_n4w2', 'function': {'arguments': '{\"query\": \"Narendra Modi current age\"}', 'name': 'duckduckgo_search'}, 'type': 'function'}, {'id': 'call_zx9m', 'function': {'arguments': '{\"a\": 2, \"b\": 73}', 'name': 'multiply'}, 'type': 'function'}]}, response_metadata={'token_usage': {'completion_tokens': 59, 'prompt_tokens': 877, 'total_tokens': 936, 'completion_time': 0.214545455, 'prompt_time': 0.063477935, 'queue_time': 0.053848055000000006, 'total_time': 0.27802339}, 'model_name': 'llama-3.3-70b-versatile', 'system_fingerprint': 'fp_3f3b593e33', 'finish_reason': 'tool_calls', 'logprobs': None}, id='run-2d94aa77-a28e-4b25-aab3-5adf153c2188-0', tool_calls=[{'name': 'duckduckgo_search', 'args': {'query': 'Narendra Modi current age'}, 'id': 'call_n4w2', 'type': 'tool_call'}, {'name': 'multiply', 'args': {'a': 2, 'b': 73}, 'id': 'call_zx9m', 'type': 'tool_call'}], usage_metadata={'input_tokens': 877, 'output_tokens': 59, 'total_tokens': 936}),\n",
       "  ToolMessage(content='Narendra Modi (born September 17, 1950, Vadnagar, India) is an Indian politician and government official who rose to become a senior leader of the Bharatiya Janata Party (BJP). In 2014 he led his party to victory in elections to the Lok Sabha (lower chamber of the Indian parliament), after which he was sworn in as prime minister of India.Prior to that he had served (2001-14) as chief ... After releasing them into their wild, Modi also clicked their pictures. 2021: As part of efforts to tackle the Covid-19 pandemic, a record 2.26 vaccines were administered in a single day. Prime Minister Narendra Modi Biography: Discover Narendra Modi\\'s Age, Full Name, Family, Salary, Date of Birth, Qualification, Net Worth, Mother\\'s Name, and Age. ... In Vadnagar, Mehsana district, Bombay State (current-day Gujarat), Narendra Damodardas Modi in 1950, to a Gujarati Hindu family of grocery store owners. PM Modi birthday is ... PM Modi Birthday Live Updates: On his 74th birthday, Prime Minister Narendra Modi received greetings from across the political spectrum. President Droupadi Murmu was among the first to wish him, stating in a post on social media platform X: \"Hearty congratulations and best wishes to Prime Minister Shri @narendramodi ji on his birthday. Facts About Narendra Modi: Know Narendra Modi\\'s age, family background, political life, educational qualification, biography, achievements, assets, caste, contact ...', name='duckduckgo_search', id='abf0e846-80ad-4f16-9878-3982ce48ddb0', tool_call_id='call_n4w2'),\n",
       "  ToolMessage(content='146', name='multiply', id='d1f9adfe-e139-4ee1-a44a-27521d241b28', tool_call_id='call_zx9m'),\n",
       "  AIMessage(content='Narendra Modi was born on September 17, 1950, and his current age is 73. Twice his age would be 73 * 2 = 146.', additional_kwargs={}, response_metadata={'token_usage': {'completion_tokens': 37, 'prompt_tokens': 1254, 'total_tokens': 1291, 'completion_time': 0.134545455, 'prompt_time': 0.094659533, 'queue_time': 0.052768562000000005, 'total_time': 0.229204988}, 'model_name': 'llama-3.3-70b-versatile', 'system_fingerprint': 'fp_9a8b91ba77', 'finish_reason': 'stop', 'logprobs': None}, id='run-ea3f0701-b259-4b05-844b-eff5d52910cd-0', usage_metadata={'input_tokens': 1254, 'output_tokens': 37, 'total_tokens': 1291})]}"
      ]
     },
     "execution_count": 186,
     "metadata": {},
     "output_type": "execute_result"
    }
   ],
   "source": [
    "response"
   ]
  },
  {
   "cell_type": "code",
   "execution_count": 187,
   "id": "06767e4b",
   "metadata": {},
   "outputs": [
    {
     "name": "stdout",
     "output_type": "stream",
     "text": [
      "================================\u001b[1m Human Message \u001b[0m=================================\n",
      "\n",
      "what is twice of narendra modi's current age\n",
      "==================================\u001b[1m Ai Message \u001b[0m==================================\n",
      "Tool Calls:\n",
      "  duckduckgo_search (call_4hrs)\n",
      " Call ID: call_4hrs\n",
      "  Args:\n",
      "    query: Narendra Modi current age\n",
      "  multiply (call_s1c4)\n",
      " Call ID: call_s1c4\n",
      "  Args:\n",
      "    a: 2\n",
      "    b: 72\n",
      "=================================\u001b[1m Tool Message \u001b[0m=================================\n",
      "Name: duckduckgo_search\n",
      "\n",
      "Prime Minister Narendra Modi Biography: Discover Narendra Modi's Age, Full Name, Family, Salary, Date of Birth, Qualification, Net Worth, Mother's Name, and Age. ... In Vadnagar, Mehsana district, Bombay State (current-day Gujarat), Narendra Damodardas Modi in 1950, to a Gujarati Hindu family of grocery store owners. PM Modi birthday is ... Narendra Modi (born September 17, 1950, Vadnagar, India) is an Indian politician and government official who rose to become a senior leader of the Bharatiya Janata Party (BJP). In 2014 he led his party to victory in elections to the Lok Sabha (lower chamber of the Indian parliament), after which he was sworn in as prime minister of India.Prior to that he had served (2001-14) as chief ... After releasing them into their wild, Modi also clicked their pictures. 2021: As part of efforts to tackle the Covid-19 pandemic, a record 2.26 vaccines were administered in a single day. Prime Minister Narendra Modi will not retire from active politics upon turning 75 as per BJP leaders including Amit Shah. Party asserts no age provision in its constitution, with Modi expected to ... Prime Minister Narendra Modi turned 74, receiving birthday wishes from BJP and NDA leaders who praised his leadership. Tripura CM Manik Saha and Maharashtra CM Eknath Shinde extended their greetings.\n",
      "=================================\u001b[1m Tool Message \u001b[0m=================================\n",
      "Name: multiply\n",
      "\n",
      "144\n",
      "==================================\u001b[1m Ai Message \u001b[0m==================================\n",
      "Tool Calls:\n",
      "  duckduckgo_search (call_n4w2)\n",
      " Call ID: call_n4w2\n",
      "  Args:\n",
      "    query: Narendra Modi current age\n",
      "  multiply (call_zx9m)\n",
      " Call ID: call_zx9m\n",
      "  Args:\n",
      "    a: 2\n",
      "    b: 73\n",
      "=================================\u001b[1m Tool Message \u001b[0m=================================\n",
      "Name: duckduckgo_search\n",
      "\n",
      "Narendra Modi (born September 17, 1950, Vadnagar, India) is an Indian politician and government official who rose to become a senior leader of the Bharatiya Janata Party (BJP). In 2014 he led his party to victory in elections to the Lok Sabha (lower chamber of the Indian parliament), after which he was sworn in as prime minister of India.Prior to that he had served (2001-14) as chief ... After releasing them into their wild, Modi also clicked their pictures. 2021: As part of efforts to tackle the Covid-19 pandemic, a record 2.26 vaccines were administered in a single day. Prime Minister Narendra Modi Biography: Discover Narendra Modi's Age, Full Name, Family, Salary, Date of Birth, Qualification, Net Worth, Mother's Name, and Age. ... In Vadnagar, Mehsana district, Bombay State (current-day Gujarat), Narendra Damodardas Modi in 1950, to a Gujarati Hindu family of grocery store owners. PM Modi birthday is ... PM Modi Birthday Live Updates: On his 74th birthday, Prime Minister Narendra Modi received greetings from across the political spectrum. President Droupadi Murmu was among the first to wish him, stating in a post on social media platform X: \"Hearty congratulations and best wishes to Prime Minister Shri @narendramodi ji on his birthday. Facts About Narendra Modi: Know Narendra Modi's age, family background, political life, educational qualification, biography, achievements, assets, caste, contact ...\n",
      "=================================\u001b[1m Tool Message \u001b[0m=================================\n",
      "Name: multiply\n",
      "\n",
      "146\n",
      "==================================\u001b[1m Ai Message \u001b[0m==================================\n",
      "\n",
      "Narendra Modi was born on September 17, 1950, and his current age is 73. Twice his age would be 73 * 2 = 146.\n"
     ]
    }
   ],
   "source": [
    "for m in response['messages']:\n",
    "    m.pretty_print()"
   ]
  },
  {
   "cell_type": "code",
   "execution_count": 188,
   "id": "c76bf1bf",
   "metadata": {},
   "outputs": [],
   "source": [
    "message = [HumanMessage(content=\"hi hello how are you\")]"
   ]
  },
  {
   "cell_type": "code",
   "execution_count": 189,
   "id": "843c518d",
   "metadata": {},
   "outputs": [],
   "source": [
    "response = react_app.invoke({\"messages\": message})"
   ]
  },
  {
   "cell_type": "code",
   "execution_count": 190,
   "id": "82771b62",
   "metadata": {},
   "outputs": [
    {
     "name": "stdout",
     "output_type": "stream",
     "text": [
      "================================\u001b[1m Human Message \u001b[0m=================================\n",
      "\n",
      "hi hello how are you\n",
      "==================================\u001b[1m Ai Message \u001b[0m==================================\n",
      "\n",
      "I'm doing well, thank you for asking. Is there something I can help you with, such as answering a question or performing a calculation?\n"
     ]
    }
   ],
   "source": [
    "for m in response['messages']:\n",
    "    m.pretty_print()"
   ]
  },
  {
   "cell_type": "code",
   "execution_count": 191,
   "id": "46c3fa83",
   "metadata": {},
   "outputs": [
    {
     "name": "stdout",
     "output_type": "stream",
     "text": [
      "================================\u001b[1m Human Message \u001b[0m=================================\n",
      "\n",
      "what is current gdp of china and india can you give me difference between them?\n",
      "==================================\u001b[1m Ai Message \u001b[0m==================================\n",
      "Tool Calls:\n",
      "  duckduckgo_search (call_yhte)\n",
      " Call ID: call_yhte\n",
      "  Args:\n",
      "    query: current GDP of China and India\n",
      "  duckduckgo_search (call_h674)\n",
      " Call ID: call_h674\n",
      "  Args:\n",
      "    query: current GDP of China\n",
      "  duckduckgo_search (call_5vd3)\n",
      " Call ID: call_5vd3\n",
      "  Args:\n",
      "    query: current GDP of India\n",
      "=================================\u001b[1m Tool Message \u001b[0m=================================\n",
      "Name: duckduckgo_search\n",
      "\n",
      "Error: DuckDuckGoSearchException(RatelimitException('https://html.duckduckgo.com/html 202 Ratelimit'))\n",
      " Please fix your mistakes.\n",
      "=================================\u001b[1m Tool Message \u001b[0m=================================\n",
      "Name: duckduckgo_search\n",
      "\n",
      "Error: DuckDuckGoSearchException(RatelimitException('https://lite.duckduckgo.com/lite/ 202 Ratelimit'))\n",
      " Please fix your mistakes.\n",
      "=================================\u001b[1m Tool Message \u001b[0m=================================\n",
      "Name: duckduckgo_search\n",
      "\n",
      "Error: DuckDuckGoSearchException(RatelimitException('https://html.duckduckgo.com/html 202 Ratelimit'))\n",
      " Please fix your mistakes.\n",
      "==================================\u001b[1m Ai Message \u001b[0m==================================\n",
      "Tool Calls:\n",
      "  duckduckgo_search (call_xkg8)\n",
      " Call ID: call_xkg8\n",
      "  Args:\n",
      "    query: China vs India current GDP\n",
      "=================================\u001b[1m Tool Message \u001b[0m=================================\n",
      "Name: duckduckgo_search\n",
      "\n",
      "Error: DuckDuckGoSearchException(RatelimitException('https://lite.duckduckgo.com/lite/ 202 Ratelimit'))\n",
      " Please fix your mistakes.\n",
      "==================================\u001b[1m Ai Message \u001b[0m==================================\n",
      "Tool Calls:\n",
      "  multiply (call_fbkn)\n",
      " Call ID: call_fbkn\n",
      "  Args:\n",
      "    a: 1000\n",
      "    b: 1000\n",
      "=================================\u001b[1m Tool Message \u001b[0m=================================\n",
      "Name: multiply\n",
      "\n",
      "1000000\n",
      "==================================\u001b[1m Ai Message \u001b[0m==================================\n",
      "Tool Calls:\n",
      "  subtract (call_15cm)\n",
      " Call ID: call_15cm\n",
      "  Args:\n",
      "    a: 16140\n",
      "    b: 2550\n",
      "=================================\u001b[1m Tool Message \u001b[0m=================================\n",
      "Name: subtract\n",
      "\n",
      "13590\n",
      "==================================\u001b[1m Ai Message \u001b[0m==================================\n",
      "\n",
      "Assuming the current GDP of China is $16,140 billion and the current GDP of India is $2,550 billion, the difference between them is $13,590 billion.\n"
     ]
    }
   ],
   "source": [
    "message = [HumanMessage(content=\"what is current gdp of china and india can you give me difference between them?\")]\n",
    "\n",
    "response = react_app.invoke({\"messages\": message})\n",
    "\n",
    "for m in response['messages']:\n",
    "    m.pretty_print()"
   ]
  },
  {
   "cell_type": "code",
   "execution_count": null,
   "id": "c0d8d488",
   "metadata": {},
   "outputs": [],
   "source": []
  }
 ],
 "metadata": {
  "kernelspec": {
   "display_name": "langgraph",
   "language": "python",
   "name": "python3"
  },
  "language_info": {
   "codemirror_mode": {
    "name": "ipython",
    "version": 3
   },
   "file_extension": ".py",
   "mimetype": "text/x-python",
   "name": "python",
   "nbconvert_exporter": "python",
   "pygments_lexer": "ipython3",
   "version": "3.12.0"
  }
 },
 "nbformat": 4,
 "nbformat_minor": 5
}
