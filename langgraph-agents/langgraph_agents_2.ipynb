{
 "cells": [
  {
   "cell_type": "code",
   "execution_count": 1,
   "id": "ad00f797",
   "metadata": {},
   "outputs": [],
   "source": [
    "import operator, json\n",
    "from typing import Annotated, Sequence\n",
    "from typing_extensions import TypedDict\n",
    "from langchain_core.messages import BaseMessage\n",
    "from langgraph.checkpoint.memory import MemorySaver\n",
    "from langgraph.graph import StateGraph, START, END\n",
    "from langgraph.graph.message import add_messages\n",
    "from langgraph.prebuilt import ToolNode, tools_condition\n",
    "from langchain_core.tools import tool\n",
    "from langchain_community.tools.tavily_search import TavilySearchResults"
   ]
  },
  {
   "cell_type": "code",
   "execution_count": 2,
   "id": "8fb188f2",
   "metadata": {},
   "outputs": [],
   "source": [
    "from langchain_groq import ChatGroq\n",
    "import os\n",
    "\n",
    "groq_api_key = os.getenv('GROQ_API_KEY')\n",
    "\n",
    "llm = ChatGroq(groq_api_key=groq_api_key, model=\"qwen-qwq-32b\")\n",
    "# qwen-qwq-32b\n",
    "# llama-3.3-70b-versatile"
   ]
  },
  {
   "cell_type": "code",
   "execution_count": 3,
   "id": "e6b31dfc",
   "metadata": {},
   "outputs": [],
   "source": [
    "@tool\n",
    "def search(query: str):\n",
    "    \"Perform web search on user query\"\n",
    "    tavily = TavilySearchResults()\n",
    "    result = tavily.invoke(query)\n",
    "    return result"
   ]
  },
  {
   "cell_type": "code",
   "execution_count": 4,
   "id": "bfa035de",
   "metadata": {},
   "outputs": [],
   "source": [
    "@tool\n",
    "def multiply(a:int, b:int) -> int:\n",
    "    \"\"\"multiply a and b\"\"\"\n",
    "    return a*b"
   ]
  },
  {
   "cell_type": "code",
   "execution_count": 5,
   "id": "44184ad1",
   "metadata": {},
   "outputs": [
    {
     "data": {
      "text/plain": [
       "[{'url': 'https://en.wikipedia.org/wiki/Prime_Minister_of_India',\n",
       "  'content': \"From Wikipedia, the free encyclopedia\\nHead of government of India\\nFor a list of prime ministers, see List of prime ministers of India.\\n| Prime Minister of India |\\n| --- |\\n| Bhārata kē Pradhānamantrī |\\n| \\nLogo of the Prime Minister of India\\n|\\n| \\nFlag of India\\n|\\n| \\n\\nIncumbent\\nNarendra Modi \\nsince\\xa026 May 2014\\n|\\n| Prime Minister's Office\\nUnion Council of Ministers\\nExecutive branch of the Indian Government |\\n| Style | \\n\\nThe Honourable\\nMr. Prime Minister (informal)\\nHis Excellency (diplomatic) [...] Rao, Atal Bihari Vajpayee, Manmohan Singh, and Narendra Modi. Modi is the current prime minister of India, serving since 26 May 2014 and the first to win three consecutive elections to secure a third successive term , 2014 , 2019 ,2024 [...] External links\\n\\nWikimedia Commons has media related to Prime Minister of India.\\n| \\n*   v\\n*   t\\n*   e\\nPrime Minister of India\\n|\\n| --- |\\n| \\n\\nList\\nBy previous experience\\n\\n|\\n| Prime ministers | \\n\\nJawaharlal Nehru\\nLal Bahadur Shastri\\nPremiership\\n\\n\\nIndira Gandhi\\nMorarji Desai\\nPremiership\\n\\n\\nCharan Singh\\nRajiv Gandhi\\nV. P. Singh\\nPremiership\\n\\n\\nChandra Shekhar\\nP. V. Narasimha Rao\\nAtal Bihari Vajpayee\\nPremiership\\n\\n\\nH. D. Deve Gowda\\nInder Kumar Gujral\\nManmohan Singh\\nNarendra Modi (Incumbent)\\nPremiership\"},\n",
       " {'url': 'https://en.wikipedia.org/wiki/Narendra_Modi',\n",
       "  'content': '|\\nNarendra Damodardas Modi[a] (born 17 September 1950)[b] is an Indian politician who has served as the prime minister of India since 2014. Modi was the chief minister of Gujarat from 2001 to 2014 and is the member of parliament (MP) for Varanasi. He is a member of the Bharatiya Janata Party (BJP) and of the Rashtriya Swayamsevak Sangh (RSS), a right-wing Hindu nationalist paramilitary volunteer organisation. He is the longest-serving prime minister outside the Indian National Congress.[4] [...] From Wikipedia, the free encyclopedia\\nPrime Minister of India since 2014\\n\"Modi\" redirects here. For other uses, see Modi (disambiguation).\\n| \\nNarendra Modi\\n|\\n| --- |\\n| \\nOfficial portrait, 2023\\n|\\n|  |\\n| Prime Minister of India |\\n| \\nIncumbent\\n|\\n| Assumed office\\n26 May 2014 |\\n| President | Pranab Mukherjee\\nRam Nath Kovind\\nDroupadi Murmu |\\n| Vice President | Mohammad Hamid Ansari\\nVenkaiah Naidu\\nJagdeep Dhankhar |\\n| Preceded by | Manmohan Singh |\\n| \\n| \\nAdditional ministries\\n|\\n| --- |\\n|  |\\n|  |\\n| [...] Head of stateAtal Bihari Vajpayee (Prime Minister of India)Lal Krishna Advani (Deputy Prime Minister of India)Narendra Modi (Prime Minister of India)Ram Nath Kovind (President of India)Venkaiah Naidu (Vice President of India)Freedom fightersBalkrishna Shivram MoonjeVinayak Damodar SavarkarSenior affiliatesAshok SinghalBabasaheb ApteBal ThackerayChinmayananda SaraswatiEknath RanadePrabhakar Balwant DaniPraveen TogadiaRam MadhavRamchandra Das ParamhansS. S. ApteSuresh JoshiSambhaji'},\n",
       " {'url': 'https://www.pmindia.gov.in/en/pms-profile/',\n",
       "  'content': 'Shri Narendra Modi was sworn-in as India’s Prime Minister for the third time on 9th June 2024, following another decisive victory in the 2024 Parliamentary elections. This victory marked the third consecutive term for Shri Modi, further solidifying his leadership. [...] The first ever Prime Minister to be born after Independence, Shri Modi has previously served as the Prime Minister of India from 2014 to 2019, and from 2019 to 2024. He also has the distinction of being the longest serving Chief Minister of Gujarat with his term spanning from October 2001 to May 2014. [...] ##### Know the PM Dynamic, dedicated and determined, Narendra Modi arrives as a ray of hope in the lives of a billion Indians. Read More\\nOUR Government'},\n",
       " {'url': 'http://www.pmindia.gov.in/en/',\n",
       "  'content': 'Shri Narendra Modi was sworn-in as India’s Prime Minister for the third time on 9th June 2024, following another decisive victory in the 2024 Parliamentary elections. This victory marked the third consecutive term for Shri Modi, further solidifying his leadership. The 2024 elections saw a remarkable voter turnout, with a significant portion of the electorate showing continued confidence in Shri Modi’s leadership and vision for the country. His campaign focused on a blend of economic'},\n",
       " {'url': 'https://www.britannica.com/biography/Narendra-Modi',\n",
       "  'content': \"Narendra Modi (born September 17, 1950, Vadnagar, India) is an Indian politician and government official who rose to become a senior leader of the Bharatiya Janata Party (BJP). In 2014 he led his party to victory in elections to the Lok Sabha (lower chamber of the Indian parliament), after which he was sworn in as prime minister of India. Prior to that he had served (2001–14) as chief minister (head of government) of Gujarat state in western India. The Modi-led BJP (and the BJP-led NDA [...] Narendra Modi Chief minister of Gujarat state Narendra Modi speaking at the World Economic Forum's India Economic Summit, November 2008. Modi became the prime minister of India in 2014. (more)\\nNarendra Modi\\nprime minister of India\\nAsk the Chatbot a Question\\nMore Actions\\nPrint\\nCite\\nShare\\nFeedback\\nExternal Websites\\nAlso known as: Narendra Damodardas Modi\\nWritten by\"}]"
      ]
     },
     "execution_count": 5,
     "metadata": {},
     "output_type": "execute_result"
    }
   ],
   "source": [
    "search.invoke(\"who is prime minister of India?\")"
   ]
  },
  {
   "cell_type": "code",
   "execution_count": 6,
   "id": "8b538c2f",
   "metadata": {},
   "outputs": [],
   "source": [
    "tools = [search, multiply]"
   ]
  },
  {
   "cell_type": "code",
   "execution_count": 7,
   "id": "fda590ba",
   "metadata": {},
   "outputs": [],
   "source": [
    "llm_with_tool = llm.bind_tools(tools)"
   ]
  },
  {
   "cell_type": "code",
   "execution_count": 8,
   "id": "3574b03a",
   "metadata": {},
   "outputs": [
    {
     "data": {
      "text/plain": [
       "[{'name': 'search',\n",
       "  'args': {'query': 'who is the president of Japan'},\n",
       "  'id': 'call_0gkv',\n",
       "  'type': 'tool_call'}]"
      ]
     },
     "execution_count": 8,
     "metadata": {},
     "output_type": "execute_result"
    }
   ],
   "source": [
    "llm_with_tool.invoke(\"who is the president of Japan\").tool_calls"
   ]
  },
  {
   "cell_type": "code",
   "execution_count": 9,
   "id": "86cefe55",
   "metadata": {},
   "outputs": [],
   "source": [
    "class AgentState(TypedDict):\n",
    "    messages: Annotated[Sequence[BaseMessage], operator.add]"
   ]
  },
  {
   "cell_type": "code",
   "execution_count": 10,
   "id": "23c46532",
   "metadata": {},
   "outputs": [],
   "source": [
    "def invoke_model(state: AgentState):\n",
    "    message = state['messages']\n",
    "    question = message[-1]\n",
    "    return {\"messages\": [llm_with_tool.invoke(question)]}"
   ]
  },
  {
   "cell_type": "code",
   "execution_count": 11,
   "id": "d4b120df",
   "metadata": {},
   "outputs": [],
   "source": [
    "tool_mapping = {tool.name: tool for tool in tools}"
   ]
  },
  {
   "cell_type": "code",
   "execution_count": 12,
   "id": "e5228860",
   "metadata": {},
   "outputs": [
    {
     "data": {
      "text/plain": [
       "{'search': StructuredTool(name='search', description='Perform web search on user query', args_schema=<class 'langchain_core.utils.pydantic.search'>, func=<function search at 0x00000203F6DD7880>),\n",
       " 'multiply': StructuredTool(name='multiply', description='multiply a and b', args_schema=<class 'langchain_core.utils.pydantic.multiply'>, func=<function multiply at 0x00000203F6DD7B00>)}"
      ]
     },
     "execution_count": 12,
     "metadata": {},
     "output_type": "execute_result"
    }
   ],
   "source": [
    "tool_mapping"
   ]
  },
  {
   "cell_type": "code",
   "execution_count": 13,
   "id": "3d85050f",
   "metadata": {},
   "outputs": [],
   "source": [
    "response = llm_with_tool.invoke(\"who is current president in uk?\")"
   ]
  },
  {
   "cell_type": "code",
   "execution_count": 14,
   "id": "d98da095",
   "metadata": {},
   "outputs": [
    {
     "data": {
      "text/plain": [
       "AIMessage(content='', additional_kwargs={'tool_calls': [{'id': 'call_qwwh', 'function': {'arguments': '{\"query\": \"who is the current president of the UK?\"}', 'name': 'search'}, 'type': 'function'}]}, response_metadata={'token_usage': {'completion_tokens': 227, 'prompt_tokens': 219, 'total_tokens': 446, 'completion_time': 0.511590385, 'prompt_time': 0.013152566, 'queue_time': 0.304094484, 'total_time': 0.524742951}, 'model_name': 'qwen-qwq-32b', 'system_fingerprint': 'fp_07cd5d759a', 'finish_reason': 'tool_calls', 'logprobs': None}, id='run-23c80a42-33fb-4be6-9b44-155703426309-0', tool_calls=[{'name': 'search', 'args': {'query': 'who is the current president of the UK?'}, 'id': 'call_qwwh', 'type': 'tool_call'}], usage_metadata={'input_tokens': 219, 'output_tokens': 227, 'total_tokens': 446})"
      ]
     },
     "execution_count": 14,
     "metadata": {},
     "output_type": "execute_result"
    }
   ],
   "source": [
    "response"
   ]
  },
  {
   "cell_type": "code",
   "execution_count": 15,
   "id": "f4bf8c22",
   "metadata": {},
   "outputs": [],
   "source": [
    "tool_details = response.additional_kwargs"
   ]
  },
  {
   "cell_type": "code",
   "execution_count": 16,
   "id": "44dd67d7",
   "metadata": {},
   "outputs": [
    {
     "data": {
      "text/plain": [
       "{'tool_calls': [{'id': 'call_qwwh',\n",
       "   'function': {'arguments': '{\"query\": \"who is the current president of the UK?\"}',\n",
       "    'name': 'search'},\n",
       "   'type': 'function'}]}"
      ]
     },
     "execution_count": 16,
     "metadata": {},
     "output_type": "execute_result"
    }
   ],
   "source": [
    "tool_details"
   ]
  },
  {
   "cell_type": "code",
   "execution_count": 17,
   "id": "466cab87",
   "metadata": {},
   "outputs": [
    {
     "data": {
      "text/plain": [
       "[{'id': 'call_qwwh',\n",
       "  'function': {'arguments': '{\"query\": \"who is the current president of the UK?\"}',\n",
       "   'name': 'search'},\n",
       "  'type': 'function'}]"
      ]
     },
     "execution_count": 17,
     "metadata": {},
     "output_type": "execute_result"
    }
   ],
   "source": [
    "tool_details = tool_details.get(\"tool_calls\")\n",
    "tool_details"
   ]
  },
  {
   "cell_type": "code",
   "execution_count": 18,
   "id": "49be3f92",
   "metadata": {},
   "outputs": [
    {
     "data": {
      "text/plain": [
       "'search'"
      ]
     },
     "execution_count": 18,
     "metadata": {},
     "output_type": "execute_result"
    }
   ],
   "source": [
    "tool_details[0]['function']['name']"
   ]
  },
  {
   "cell_type": "code",
   "execution_count": 19,
   "id": "2a7e104d",
   "metadata": {},
   "outputs": [
    {
     "data": {
      "text/plain": [
       "'{\"query\": \"who is the current president of the UK?\"}'"
      ]
     },
     "execution_count": 19,
     "metadata": {},
     "output_type": "execute_result"
    }
   ],
   "source": [
    "tool_details[0].get('function').get('arguments')"
   ]
  },
  {
   "cell_type": "code",
   "execution_count": 20,
   "id": "bb2f7315",
   "metadata": {},
   "outputs": [
    {
     "data": {
      "text/plain": [
       "{'query': 'who is the current president of the UK?'}"
      ]
     },
     "execution_count": 20,
     "metadata": {},
     "output_type": "execute_result"
    }
   ],
   "source": [
    "# converted string to json\n",
    "json.loads(tool_details[0].get('function').get('arguments'))"
   ]
  },
  {
   "cell_type": "code",
   "execution_count": 21,
   "id": "276662be",
   "metadata": {},
   "outputs": [
    {
     "data": {
      "text/plain": [
       "[{'url': 'https://en.wikipedia.org/wiki/Rishi_Sunak',\n",
       "  'content': '1965Heath1975Thatcher1989Thatcher re-elected1990Major1995Major re-elected1997Hague2001Duncan Smith2003Howard2005Cameron2016May2019JohnsonJuly–September 2022TrussOctober 2022Sunak2024Badenoch [...] 1965Heath1975Thatcher1989Thatcher re-elected1990Major1995Major re-elected1997Hague2001Duncan Smith2003Howard2005Cameron2016May2019JohnsonJuly–September 2022TrussOctober 2022Sunak2024Badenoch [...] ChamberlainWinston ChurchillSir Anthony EdenHarold MacmillanSir Alec Douglas-HomeEdward HeathMargaret ThatcherJohn MajorWilliam HagueIain Duncan SmithMichael HowardDavid CameronTheresa MayBoris JohnsonLiz TrussRishi SunakKemi BadenochvteLeaders of the opposition of the United KingdomHouse of CommonsFoxHowickPonsonbyTierneyPeelAlthorpPeelRussellPeelRussellBentinckGranbyGranby/Herries/DisraeliDisraeliRussellDisraeliPalmerstonDisraeliGladstoneDisraeliGladstoneHartingtonNorthcoteGladstoneHicks'},\n",
       " {'url': 'https://en.wikipedia.org/wiki/Prime_Minister_of_the_United_Kingdom',\n",
       "  'content': \"Also attending Cabinet | Chief Whip/Parliamentary Secretary to the TreasuryChief Secretary to the TreasuryAttorney General for England and Wales/Advocate General for Northern IrelandMinister of State for International Development\\nvteList of current heads of government in the United Kingdom\\nHis Majesty's Government | MajorityLabourPrime MinisterKeir Starmer(Labour) | Majority | Labour | Prime Minister | Keir Starmer(Labour)\\nMajority | Labour\\nPrime Minister | Keir Starmer(Labour) [...] Also attending Cabinet | Chief Whip/Parliamentary Secretary to the TreasuryChief Secretary to the TreasuryAttorney General for England and Wales/Advocate General for Northern IrelandMinister of State for International Development\\nvteList of current heads of government in the United Kingdom\\nHis Majesty's Government | MajorityLabourPrime MinisterKeir Starmer(Labour) | Majority | Labour | Prime Minister | Keir Starmer(Labour)\\nMajority | Labour\\nPrime Minister | Keir Starmer(Labour) [...] and EqualitiesTransport SecretaryCulture, Media and Sport SecretaryNorthern Ireland SecretaryScottish SecretaryWelsh SecretaryAlso attending CabinetChief Whip/Parliamentary Secretary to the TreasuryChief Secretary to the TreasuryAttorney General for England and Wales/Advocate General for Northern IrelandMinister of State for International DevelopmentvteList of current heads of government in the United KingdomHis Majesty's GovernmentMajorityLabourPrime MinisterKeir Starmer(Labour)Northern\"},\n",
       " {'url': 'https://www.gov.uk/government/ministers/prime-minister',\n",
       "  'content': 'As leader of the UK government the Prime Minister also:\\n\\nCurrent role holder\\n\\nThe Rt Hon Sir Keir Starmer KCB KC MP\\n\\nSir Keir Starmer\\xa0became Prime Minister on 5 July 2024.\\n\\nEducation\\n\\nKeir attended Reigate Grammar School, before studying Law\\xa0at the University of Leeds. He went on to do postgraduate studies at the University of Oxford, receiving a Bachelor of Civil Law (BCL) degree.\\n\\nPolitical Career'}]"
      ]
     },
     "execution_count": 21,
     "metadata": {},
     "output_type": "execute_result"
    }
   ],
   "source": [
    "tool_mapping[tool_details[0]['function']['name']].invoke(json.loads(tool_details[0]['function']['arguments']))"
   ]
  },
  {
   "cell_type": "code",
   "execution_count": 22,
   "id": "7fbef48d",
   "metadata": {},
   "outputs": [],
   "source": [
    "def invoke_tool(state: AgentState):\n",
    "    tool_details = state['messages'][-1].additional_kwargs.get(\"tool_calls\", [])[0]\n",
    "    \n",
    "    if tool_details is None:\n",
    "        raise Exception(\"no tool call found\")\n",
    "    \n",
    "    print()\n",
    "    \n",
    "    if tool_details.get(\"function\").get(\"name\") == \"search\":\n",
    "        response = input(prompt=f\"[y/n] continue with expensive websearch\")\n",
    "        if response == 'n':\n",
    "            raise Exception(\"web search discarded\")\n",
    "        response = tool_mapping[tool_details['function']['name']].invoke(json.loads(tool_details.get('function').get('arguments')))\n",
    "    return {\"messages\": [response]}"
   ]
  },
  {
   "cell_type": "code",
   "execution_count": 23,
   "id": "61a82021",
   "metadata": {},
   "outputs": [],
   "source": [
    "def router(state: AgentState):\n",
    "    tool_calls = state['messages'][-1].additional_kwargs.get(\"tool_calls\", [])\n",
    "    if len(tool_calls):\n",
    "        return \"tool\"\n",
    "    return \"end\"\n",
    "    "
   ]
  },
  {
   "cell_type": "code",
   "execution_count": 24,
   "id": "5f8353c1",
   "metadata": {},
   "outputs": [],
   "source": [
    "graph = StateGraph(AgentState)\n",
    "\n",
    "graph.add_node(\"ai_assistant\", invoke_model)\n",
    "graph.add_node(\"tool\", invoke_tool)\n",
    "\n",
    "graph.add_conditional_edges(\"ai_assistant\",\n",
    "                            router,\n",
    "                            {\n",
    "                                \"tool\": \"tool\",\n",
    "                                \"end\": END\n",
    "                            }\n",
    "                            )\n",
    "\n",
    "graph.set_entry_point(\"ai_assistant\")\n",
    "graph.add_edge(\"tool\", END)\n",
    "\n",
    "app = graph.compile()"
   ]
  },
  {
   "cell_type": "code",
   "execution_count": 25,
   "id": "c95677a8",
   "metadata": {},
   "outputs": [
    {
     "data": {
      "image/png": "[encoded data removed]",
      "text/plain": [
       "<IPython.core.display.Image object>"
      ]
     },
     "metadata": {},
     "output_type": "display_data"
    }
   ],
   "source": [
    "from IPython.display import display, Image\n",
    "\n",
    "display(Image(app.get_graph().draw_mermaid_png()))"
   ]
  },
  {
   "cell_type": "code",
   "execution_count": 26,
   "id": "dcb08648",
   "metadata": {},
   "outputs": [],
   "source": [
    "query = {\"messages\": [\"who is upcoming president of USA?\"]}"
   ]
  },
  {
   "cell_type": "code",
   "execution_count": 27,
   "id": "9cb70d14",
   "metadata": {},
   "outputs": [
    {
     "name": "stdout",
     "output_type": "stream",
     "text": [
      "\n"
     ]
    },
    {
     "data": {
      "text/plain": [
       "{'messages': ['who is upcoming president of USA?',\n",
       "  AIMessage(content='', additional_kwargs={'tool_calls': [{'id': 'call_2jxk', 'function': {'arguments': '{\"query\": \"upcoming US presidential election 2024 candidates\"}', 'name': 'search'}, 'type': 'function'}]}, response_metadata={'token_usage': {'completion_tokens': 214, 'prompt_tokens': 219, 'total_tokens': 433, 'completion_time': 0.519715246, 'prompt_time': 0.012176459, 'queue_time': 0.246089823, 'total_time': 0.531891705}, 'model_name': 'qwen-qwq-32b', 'system_fingerprint': 'fp_512a3da6bb', 'finish_reason': 'tool_calls', 'logprobs': None}, id='run-2ce0ca24-a442-42a1-b672-7fe1e94a6a51-0', tool_calls=[{'name': 'search', 'args': {'query': 'upcoming US presidential election 2024 candidates'}, 'id': 'call_2jxk', 'type': 'tool_call'}], usage_metadata={'input_tokens': 219, 'output_tokens': 214, 'total_tokens': 433}),\n",
       "  [{'url': 'https://ballotpedia.org/Presidential_candidates,_2024',\n",
       "    'content': \"2024 Presidential ElectionDate:November 5, 2024\\nPresidential candidates\\nKamala Harris (D)Donald Trump (R)(won)Jill Stein (G)Chase Oliver (L)\\nBattleground states•List of registered candidates•Electoral College•Prediction markets•Presidential debates•Important dates•Presidential election by state•Campaign finance•Logos and slogans•Key staffers•Vice presidential candidates•Policy positions•Ballotpedia's presidential election coverage index\\nPrimaries\\nDemocratic•Republican•Green•Libertarian [...] Former President Donald Trump (R) won the November 5, 2024, presidential election. Twenty-four candidates appeared on presidential election ballots across the country. Of those candidates, four qualified to appear on enough ballots — totaling at least 270 electoral votes — to win a majority of the Electoral College. Those noteworthy presidential candidates were Kamala Harris (D), Donald Trump (R), Jill Stein (G), and Chase Oliver (L). [...] Candidates who have filed for the 2024 presidential election\\nCandidate | Party\\nAaron Avouris | Libertarian Party\\nAaron Day | Republican Party\\nAaron Grotta | Nonpartisan\\nAaron M. He | Democratic Party\\nAaron Taylor | Nonpartisan\\nAbigail Gonzalez | Constitutional Party\\nAbilio Soares | Nonpartisan\\nAbraham Carrasco Garay | Independent\\nA.C. Toulme | Nonpartisan\\nAdam Charles Lewis | Nonpartisan\\nAdam D. Cottillion | Independent\\nAdam Dever | Independent\\nAdam Halfhill | Independent\"},\n",
       "   {'url': 'https://en.wikipedia.org/wiki/2024_United_States_presidential_election',\n",
       "    'content': \"NomineeDonald TrumpKamala HarrisPartyRepublicanDemocraticHome\\xa0stateFloridaCaliforniaRunning\\xa0mateJD VanceTim WalzElectoral\\xa0vote312226States\\xa0carried31 +ME-0219 +DC+NE-02Popular\\xa0vote77,302,580[2]75,017,613[2]Percentage49.8%[2]48.3%[2] |  |  |  | Nominee | Donald Trump | Kamala Harris |  | Party | Republican | Democratic | Home\\xa0state | Florida | California | Running\\xa0mate | JD Vance | Tim Walz | Electoral\\xa0vote | 312 | 226 | States\\xa0carried | 31 +ME-02 | 19 +DC+NE-02 | Popular\\xa0vote | 77,302,580[2] | [...] Presidential candidate | Party | Home state | Popular vote[2] | Electoralvote[2] | Running mate\\nCount | Percentage | Vice-presidential candidate | Home state | Electoral vote[2]\\nDonald Trump | Republican | Florida | 77,302,580 | 49.80% | 312 | JD Vance | Ohio | 312\\nKamala Harris | Democratic | California | 75,017,613 | 48.32% | 226 | Tim Walz | Minnesota | 226\\nJill Stein | Green | Massachusetts | 862,049 | 0.56% | 0 | Butch Ware | California | 0 [...] A presidential election was held in the United States on November 5, 2024. The Republican Party's ticket—Donald Trump, who was the 45th president of the United States from 2017 to 2021, and JD Vance, then-junior U.S. senator from Ohio—defeated the Democratic Party's ticket—Kamala Harris, the incumbent U.S. vice president, and Tim Walz, the 41st governor of Minnesota.\"},\n",
       "   {'url': 'https://www.presidency.ucsb.edu/statistics/elections/2024',\n",
       "    'content': 'PartyNomineesElectoral VotePopular VotePresidentialVice PresidentialDemocraticKamala HarrisTim Walz22642%75,019,23048.34%RepublicanDonald J. TrumpJ.D. Vance31258%77,303,56849.81%VariousOthers00 %2,878,3591.85%Last update: 12/31/2024 | Party | Nominees | Electoral Vote | Popular Vote | Presidential | Vice Presidential | Democratic |  | Kamala Harris | Tim Walz | 226 | 42% | 75,019,230 | 48.34% | Republican |  | Donald J. Trump | J.D. Vance | 312 | 58% | 77,303,568 | 49.81% | Various |  | Others'}]]}"
      ]
     },
     "execution_count": 27,
     "metadata": {},
     "output_type": "execute_result"
    }
   ],
   "source": [
    "app.invoke(query)"
   ]
  },
  {
   "cell_type": "code",
   "execution_count": 28,
   "id": "636cd987",
   "metadata": {},
   "outputs": [],
   "source": [
    "# for s in app.stream({\"messages\": [\"who is upcoming president of USA?\"]}):\n",
    "#     print(list(s.values())[0])\n",
    "#     print(\"---\")"
   ]
  },
  {
   "cell_type": "code",
   "execution_count": 29,
   "id": "c4b0b346",
   "metadata": {},
   "outputs": [],
   "source": [
    "# query = {\"messages\": [\"what is multiplication of 34 and 33\"]}\n",
    "# app.invoke(query)"
   ]
  },
  {
   "cell_type": "code",
   "execution_count": 30,
   "id": "19a45f4d",
   "metadata": {},
   "outputs": [],
   "source": [
    "# query = {\"messages\": [\"what is todays match score\"]}\n",
    "# app.invoke(query)"
   ]
  },
  {
   "cell_type": "markdown",
   "id": "e4b8a94e",
   "metadata": {},
   "source": [
    "# Memory"
   ]
  },
  {
   "cell_type": "code",
   "execution_count": 31,
   "id": "dfe26205",
   "metadata": {},
   "outputs": [],
   "source": [
    "tavily = TavilySearchResults()"
   ]
  },
  {
   "cell_type": "code",
   "execution_count": 32,
   "id": "ba64cd28",
   "metadata": {},
   "outputs": [],
   "source": [
    "tools = [tavily]"
   ]
  },
  {
   "cell_type": "code",
   "execution_count": 33,
   "id": "2e077cdf",
   "metadata": {},
   "outputs": [],
   "source": [
    "llm_with_tool = llm.bind_tools(tools)"
   ]
  },
  {
   "cell_type": "code",
   "execution_count": 104,
   "id": "0801e4ac",
   "metadata": {},
   "outputs": [],
   "source": [
    "def ai_assistant(state: AgentState):\n",
    "    return {\"messages\": [llm_with_tool.invoke(state[\"messages\"])]}"
   ]
  },
  {
   "cell_type": "code",
   "execution_count": 105,
   "id": "0e4a6cae",
   "metadata": {},
   "outputs": [],
   "source": [
    "memory = MemorySaver()"
   ]
  },
  {
   "cell_type": "code",
   "execution_count": 106,
   "id": "2f7d9002",
   "metadata": {},
   "outputs": [],
   "source": [
    "graph_builder = StateGraph(AgentState)\n",
    "\n",
    "graph_builder.add_node(\"ai_assistant\", ai_assistant)\n",
    "graph_builder.add_node(\"tools\", ToolNode(tools))\n",
    "\n",
    "graph_builder.add_edge(START, \"ai_assistant\")\n",
    "graph_builder.add_conditional_edges(\n",
    "    \"ai_assistant\",\n",
    "    tools_condition\n",
    ")\n",
    "\n",
    "graph_builder.add_edge(\"tools\", \"ai_assistant\")\n",
    "\n",
    "app2 = graph_builder.compile(checkpointer=memory,\n",
    "                             interrupt_before=[\"tools\"]\n",
    "                             )"
   ]
  },
  {
   "cell_type": "code",
   "execution_count": 107,
   "id": "dfc8317b",
   "metadata": {},
   "outputs": [
    {
     "data": {
      "image/png": "[encoded data removed]",
      "text/plain": [
       "<IPython.core.display.Image object>"
      ]
     },
     "metadata": {},
     "output_type": "display_data"
    }
   ],
   "source": [
    "display(Image(app2.get_graph().draw_mermaid_png()))"
   ]
  },
  {
   "cell_type": "code",
   "execution_count": 92,
   "id": "1fa40db7",
   "metadata": {},
   "outputs": [],
   "source": [
    "user_input  = \"what is current capital of india?\"\n",
    "\n",
    "config = {\"configurable\": {\"thread_id\": 1}}"
   ]
  },
  {
   "cell_type": "code",
   "execution_count": 63,
   "id": "5a611365",
   "metadata": {},
   "outputs": [],
   "source": [
    "user_input  = \"what is the todays value of apple stock\"\n",
    "\n",
    "config = {\"configurable\": {\"thread_id\": 1}}"
   ]
  },
  {
   "cell_type": "code",
   "execution_count": 108,
   "id": "5a7a170b",
   "metadata": {},
   "outputs": [],
   "source": [
    "user_input  = \"famous places of the Bengalore and must visit restaurants?\"\n",
    "\n",
    "config = {\"configurable\": {\"thread_id\": 1}}"
   ]
  },
  {
   "cell_type": "code",
   "execution_count": 109,
   "id": "7ef1fab9",
   "metadata": {},
   "outputs": [],
   "source": [
    "events = app2.stream(\n",
    "    {\"messages\": [(\"user\", user_input)]}, config, stream_mode=\"values\"\n",
    ")"
   ]
  },
  {
   "cell_type": "code",
   "execution_count": 110,
   "id": "aa3b8a6b",
   "metadata": {},
   "outputs": [
    {
     "name": "stdout",
     "output_type": "stream",
     "text": [
      "{'messages': [('user', 'famous places of the Bengalore and must visit restaurants?')]}\n",
      "{'messages': [('user', 'famous places of the Bengalore and must visit restaurants?'), AIMessage(content='', additional_kwargs={'tool_calls': [{'id': 'call_vstg', 'function': {'arguments': '{\"query\": \"Top famous tourist attractions in Bangalore 2024\"}', 'name': 'tavaly_search_results_json'}, 'type': 'function'}, {'id': 'call_tbj3', 'function': {'arguments': '{\"query\": \"Best must-try restaurants in Bangalore for dining 2024\"}', 'name': 'tavaly_search_results_json'}, 'type': 'function'}]}, response_metadata={'token_usage': {'completion_tokens': 234, 'prompt_tokens': 398, 'total_tokens': 632, 'completion_time': 0.529249167, 'prompt_time': 0.065416793, 'queue_time': -0.8212182210000001, 'total_time': 0.59466596}, 'model_name': 'qwen-qwq-32b', 'system_fingerprint': 'fp_07cd5d759a', 'finish_reason': 'tool_calls', 'logprobs': None}, id='run-a90a2285-f1c3-4a0f-92cc-0aef4e755ef2-0', tool_calls=[{'name': 'tavaly_search_results_json', 'args': {'query': 'Top famous tourist attractions in Bangalore 2024'}, 'id': 'call_vstg', 'type': 'tool_call'}, {'name': 'tavaly_search_results_json', 'args': {'query': 'Best must-try restaurants in Bangalore for dining 2024'}, 'id': 'call_tbj3', 'type': 'tool_call'}], usage_metadata={'input_tokens': 398, 'output_tokens': 234, 'total_tokens': 632})]}\n"
     ]
    }
   ],
   "source": [
    "for event in events:\n",
    "    print(event)"
   ]
  },
  {
   "cell_type": "code",
   "execution_count": 111,
   "id": "fe6b01ac",
   "metadata": {},
   "outputs": [],
   "source": [
    "# for event in events:\n",
    "#     if \"messages\" in event:\n",
    "#         event['messages'][-1].pretty_print()"
   ]
  },
  {
   "cell_type": "code",
   "execution_count": 112,
   "id": "a1665e87",
   "metadata": {},
   "outputs": [],
   "source": [
    "snapshot = app2.get_state(config=config)"
   ]
  },
  {
   "cell_type": "code",
   "execution_count": 113,
   "id": "81250514",
   "metadata": {},
   "outputs": [
    {
     "data": {
      "text/plain": [
       "('tools',)"
      ]
     },
     "execution_count": 113,
     "metadata": {},
     "output_type": "execute_result"
    }
   ],
   "source": [
    "snapshot.next"
   ]
  },
  {
   "cell_type": "code",
   "execution_count": 114,
   "id": "b566f421",
   "metadata": {},
   "outputs": [],
   "source": [
    "last_message = snapshot.values[\"messages\"][-1]"
   ]
  },
  {
   "cell_type": "code",
   "execution_count": 115,
   "id": "5b19b17f",
   "metadata": {},
   "outputs": [
    {
     "data": {
      "text/plain": [
       "[{'name': 'tavaly_search_results_json',\n",
       "  'args': {'query': 'Top famous tourist attractions in Bangalore 2024'},\n",
       "  'id': 'call_vstg',\n",
       "  'type': 'tool_call'},\n",
       " {'name': 'tavaly_search_results_json',\n",
       "  'args': {'query': 'Best must-try restaurants in Bangalore for dining 2024'},\n",
       "  'id': 'call_tbj3',\n",
       "  'type': 'tool_call'}]"
      ]
     },
     "execution_count": 115,
     "metadata": {},
     "output_type": "execute_result"
    }
   ],
   "source": [
    "last_message.tool_calls"
   ]
  },
  {
   "cell_type": "code",
   "execution_count": 116,
   "id": "6fd1fd01",
   "metadata": {},
   "outputs": [],
   "source": [
    "events = app2.stream(None, config, stream_mode=\"values\")"
   ]
  },
  {
   "cell_type": "code",
   "execution_count": 117,
   "id": "d2535539",
   "metadata": {},
   "outputs": [
    {
     "name": "stdout",
     "output_type": "stream",
     "text": [
      "==================================\u001b[1m Ai Message \u001b[0m==================================\n",
      "Tool Calls:\n",
      "  tavaly_search_results_json (call_vstg)\n",
      " Call ID: call_vstg\n",
      "  Args:\n",
      "    query: Top famous tourist attractions in Bangalore 2024\n",
      "  tavaly_search_results_json (call_tbj3)\n",
      " Call ID: call_tbj3\n",
      "  Args:\n",
      "    query: Best must-try restaurants in Bangalore for dining 2024\n",
      "=================================\u001b[1m Tool Message \u001b[0m=================================\n",
      "Name: tavaly_search_results_json\n",
      "\n",
      "Error: tavaly_search_results_json is not a valid tool, try one of [tavily_search_results_json].\n",
      "==================================\u001b[1m Ai Message \u001b[0m==================================\n",
      "Tool Calls:\n",
      "  tavily_search_results_json (call_xh4q)\n",
      " Call ID: call_xh4q\n",
      "  Args:\n",
      "    query: Top famous tourist attractions in Bangalore 2024\n",
      "  tavily_search_results_json (call_rsgy)\n",
      " Call ID: call_rsgy\n",
      "  Args:\n",
      "    query: Best must-try restaurants in Bangalore for dining 2024\n"
     ]
    }
   ],
   "source": [
    "for event in events:\n",
    "    if \"messages\" in event:\n",
    "        event['messages'][-1].pretty_print()"
   ]
  },
  {
   "cell_type": "code",
   "execution_count": 118,
   "id": "a1fbe8fb",
   "metadata": {},
   "outputs": [],
   "source": [
    "user_input = \"What is a weather there?\"\n",
    "\n",
    "config = {\"configurable\": {\"thread_id\": \"1\"}}"
   ]
  },
  {
   "cell_type": "code",
   "execution_count": 121,
   "id": "d62c2978",
   "metadata": {},
   "outputs": [],
   "source": [
    "events = app2.stream(\n",
    "    {\"messages\": [(\"user\", user_input)]}, config, stream_mode=\"values\"\n",
    ")"
   ]
  },
  {
   "cell_type": "code",
   "execution_count": 122,
   "id": "3f64188c",
   "metadata": {},
   "outputs": [
    {
     "name": "stdout",
     "output_type": "stream",
     "text": [
      "{'messages': [['user', 'What is a weather there?'], AIMessage(content=\"I'll need the location to check the weather. Could you please specify where you want the weather information for?\", additional_kwargs={}, response_metadata={'token_usage': {'completion_tokens': 242, 'prompt_tokens': 193, 'total_tokens': 435, 'completion_time': 0.550340612, 'prompt_time': 0.017107411, 'queue_time': 0.33809370899999996, 'total_time': 0.567448023}, 'model_name': 'qwen-qwq-32b', 'system_fingerprint': 'fp_a91d9c2cfb', 'finish_reason': 'stop', 'logprobs': None}, id='run-9104717d-0016-4f44-86a7-590d88fc274e-0', usage_metadata={'input_tokens': 193, 'output_tokens': 242, 'total_tokens': 435}), ('user', 'What is a weather there?')]}\n",
      "{'messages': [['user', 'What is a weather there?'], AIMessage(content=\"I'll need the location to check the weather. Could you please specify where you want the weather information for?\", additional_kwargs={}, response_metadata={'token_usage': {'completion_tokens': 242, 'prompt_tokens': 193, 'total_tokens': 435, 'completion_time': 0.550340612, 'prompt_time': 0.017107411, 'queue_time': 0.33809370899999996, 'total_time': 0.567448023}, 'model_name': 'qwen-qwq-32b', 'system_fingerprint': 'fp_a91d9c2cfb', 'finish_reason': 'stop', 'logprobs': None}, id='run-9104717d-0016-4f44-86a7-590d88fc274e-0', usage_metadata={'input_tokens': 193, 'output_tokens': 242, 'total_tokens': 435}), ('user', 'What is a weather there?'), AIMessage(content=\"I'll need the location to check the weather. Could you please specify which place you're asking about?\", additional_kwargs={}, response_metadata={'token_usage': {'completion_tokens': 199, 'prompt_tokens': 231, 'total_tokens': 430, 'completion_time': 0.485638352, 'prompt_time': 0.040660436, 'queue_time': 0.563339693, 'total_time': 0.526298788}, 'model_name': 'qwen-qwq-32b', 'system_fingerprint': 'fp_3796682456', 'finish_reason': 'stop', 'logprobs': None}, id='run-01aeaccd-41df-4eeb-a71e-cf94995266aa-0', usage_metadata={'input_tokens': 231, 'output_tokens': 199, 'total_tokens': 430})]}\n"
     ]
    }
   ],
   "source": [
    "for event in events:\n",
    "    print(event)"
   ]
  },
  {
   "cell_type": "code",
   "execution_count": 123,
   "id": "afc1a4e1",
   "metadata": {},
   "outputs": [],
   "source": [
    "snapshot = app2.get_state(config)"
   ]
  },
  {
   "cell_type": "code",
   "execution_count": 124,
   "id": "def5ad36",
   "metadata": {},
   "outputs": [
    {
     "data": {
      "text/plain": [
       "()"
      ]
     },
     "execution_count": 124,
     "metadata": {},
     "output_type": "execute_result"
    }
   ],
   "source": [
    "snapshot.next"
   ]
  },
  {
   "cell_type": "code",
   "execution_count": 125,
   "id": "8fd237b7",
   "metadata": {},
   "outputs": [],
   "source": [
    "last_message = snapshot.values['messages'][-1]"
   ]
  },
  {
   "cell_type": "code",
   "execution_count": 127,
   "id": "e5626707",
   "metadata": {},
   "outputs": [
    {
     "data": {
      "text/plain": [
       "[]"
      ]
     },
     "execution_count": 127,
     "metadata": {},
     "output_type": "execute_result"
    }
   ],
   "source": [
    "last_message.tool_calls"
   ]
  },
  {
   "cell_type": "code",
   "execution_count": 128,
   "id": "cda9be01",
   "metadata": {},
   "outputs": [],
   "source": [
    "events = app2.stream(None, config, stream_mode=\"values\")"
   ]
  },
  {
   "cell_type": "code",
   "execution_count": 129,
   "id": "854c9b75",
   "metadata": {},
   "outputs": [
    {
     "name": "stdout",
     "output_type": "stream",
     "text": [
      "==================================\u001b[1m Ai Message \u001b[0m==================================\n",
      "\n",
      "I'll need the location to check the weather. Could you please specify which place you're asking about?\n"
     ]
    }
   ],
   "source": [
    "for event in events:\n",
    "    if \"messages\" in event:\n",
    "        event['messages'][-1].pretty_print()"
   ]
  },
  {
   "cell_type": "markdown",
   "id": "fd9dc0de",
   "metadata": {},
   "source": [
    "#### Fetch the complete details"
   ]
  },
  {
   "cell_type": "code",
   "execution_count": 130,
   "id": "0c658739",
   "metadata": {},
   "outputs": [
    {
     "data": {
      "text/plain": [
       "StateSnapshot(values={'messages': [['user', 'What is a weather there?'], AIMessage(content=\"I'll need the location to check the weather. Could you please specify where you want the weather information for?\", additional_kwargs={}, response_metadata={'token_usage': {'completion_tokens': 242, 'prompt_tokens': 193, 'total_tokens': 435, 'completion_time': 0.550340612, 'prompt_time': 0.017107411, 'queue_time': 0.33809370899999996, 'total_time': 0.567448023}, 'model_name': 'qwen-qwq-32b', 'system_fingerprint': 'fp_a91d9c2cfb', 'finish_reason': 'stop', 'logprobs': None}, id='run-9104717d-0016-4f44-86a7-590d88fc274e-0', usage_metadata={'input_tokens': 193, 'output_tokens': 242, 'total_tokens': 435}), ['user', 'What is a weather there?'], AIMessage(content=\"I'll need the location to check the weather. Could you please specify which place you're asking about?\", additional_kwargs={}, response_metadata={'token_usage': {'completion_tokens': 199, 'prompt_tokens': 231, 'total_tokens': 430, 'completion_time': 0.485638352, 'prompt_time': 0.040660436, 'queue_time': 0.563339693, 'total_time': 0.526298788}, 'model_name': 'qwen-qwq-32b', 'system_fingerprint': 'fp_3796682456', 'finish_reason': 'stop', 'logprobs': None}, id='run-01aeaccd-41df-4eeb-a71e-cf94995266aa-0', usage_metadata={'input_tokens': 231, 'output_tokens': 199, 'total_tokens': 430})]}, next=(), config={'configurable': {'thread_id': '1', 'checkpoint_ns': '', 'checkpoint_id': '1f02bc75-3bde-6c93-8004-c83878506234'}}, metadata={'source': 'loop', 'writes': {'ai_assistant': {'messages': [AIMessage(content=\"I'll need the location to check the weather. Could you please specify which place you're asking about?\", additional_kwargs={}, response_metadata={'token_usage': {'completion_tokens': 199, 'prompt_tokens': 231, 'total_tokens': 430, 'completion_time': 0.485638352, 'prompt_time': 0.040660436, 'queue_time': 0.563339693, 'total_time': 0.526298788}, 'model_name': 'qwen-qwq-32b', 'system_fingerprint': 'fp_3796682456', 'finish_reason': 'stop', 'logprobs': None}, id='run-01aeaccd-41df-4eeb-a71e-cf94995266aa-0', usage_metadata={'input_tokens': 231, 'output_tokens': 199, 'total_tokens': 430})]}}, 'thread_id': '1', 'step': 4, 'parents': {}}, created_at='2025-05-08T04:45:55.192744+00:00', parent_config={'configurable': {'thread_id': '1', 'checkpoint_ns': '', 'checkpoint_id': '1f02bc75-2fdb-6fe3-8003-a8fd02a1f5fb'}}, tasks=())"
      ]
     },
     "execution_count": 130,
     "metadata": {},
     "output_type": "execute_result"
    }
   ],
   "source": [
    "app2.get_state(config)"
   ]
  },
  {
   "cell_type": "code",
   "execution_count": 131,
   "id": "88d27ee7",
   "metadata": {},
   "outputs": [],
   "source": [
    "snapshot = app2.get_state(config)"
   ]
  },
  {
   "cell_type": "code",
   "execution_count": 132,
   "id": "b054e2ee",
   "metadata": {},
   "outputs": [
    {
     "data": {
      "text/plain": [
       "()"
      ]
     },
     "execution_count": 132,
     "metadata": {},
     "output_type": "execute_result"
    }
   ],
   "source": [
    "snapshot.next"
   ]
  },
  {
   "cell_type": "code",
   "execution_count": 133,
   "id": "5b40a1e9",
   "metadata": {},
   "outputs": [],
   "source": [
    "user_input = \"give me the recent news from there?\"\n",
    "\n",
    "config = {\"configurable\": {\"thread_id\": \"1\"}}"
   ]
  },
  {
   "cell_type": "code",
   "execution_count": 134,
   "id": "5ca0263e",
   "metadata": {},
   "outputs": [],
   "source": [
    "events = app2.stream(\n",
    "    {\"messages\": [(\"user\", user_input)]}, config, stream_mode=\"values\"\n",
    ")"
   ]
  },
  {
   "cell_type": "code",
   "execution_count": 135,
   "id": "caee150c",
   "metadata": {},
   "outputs": [
    {
     "ename": "AttributeError",
     "evalue": "'tuple' object has no attribute 'pretty_print'",
     "output_type": "error",
     "traceback": [
      "\u001b[31m---------------------------------------------------------------------------\u001b[39m",
      "\u001b[31mAttributeError\u001b[39m                            Traceback (most recent call last)",
      "\u001b[36mCell\u001b[39m\u001b[36m \u001b[39m\u001b[32mIn[135]\u001b[39m\u001b[32m, line 3\u001b[39m\n\u001b[32m      1\u001b[39m \u001b[38;5;28;01mfor\u001b[39;00m event \u001b[38;5;129;01min\u001b[39;00m events:\n\u001b[32m      2\u001b[39m     \u001b[38;5;28;01mif\u001b[39;00m \u001b[33m\"\u001b[39m\u001b[33mmessages\u001b[39m\u001b[33m\"\u001b[39m \u001b[38;5;129;01min\u001b[39;00m event:\n\u001b[32m----> \u001b[39m\u001b[32m3\u001b[39m         \u001b[43mevent\u001b[49m\u001b[43m[\u001b[49m\u001b[33;43m'\u001b[39;49m\u001b[33;43mmessages\u001b[39;49m\u001b[33;43m'\u001b[39;49m\u001b[43m]\u001b[49m\u001b[43m[\u001b[49m\u001b[43m-\u001b[49m\u001b[32;43m1\u001b[39;49m\u001b[43m]\u001b[49m\u001b[43m.\u001b[49m\u001b[43mpretty_print\u001b[49m()\n",
      "\u001b[31mAttributeError\u001b[39m: 'tuple' object has no attribute 'pretty_print'"
     ]
    }
   ],
   "source": [
    "for event in events:\n",
    "    if \"messages\" in event:\n",
    "        event['messages'][-1].pretty_print()"
   ]
  },
  {
   "cell_type": "code",
   "execution_count": 136,
   "id": "3fb3735d",
   "metadata": {},
   "outputs": [],
   "source": [
    "snapshot = app2.get_state(config)"
   ]
  },
  {
   "cell_type": "code",
   "execution_count": 140,
   "id": "21fa8cfc",
   "metadata": {},
   "outputs": [],
   "source": [
    "current_message = snapshot.values[\"messages\"]"
   ]
  },
  {
   "cell_type": "code",
   "execution_count": 141,
   "id": "441492ce",
   "metadata": {},
   "outputs": [
    {
     "data": {
      "text/plain": [
       "[['user', 'What is a weather there?'],\n",
       " AIMessage(content=\"I'll need the location to check the weather. Could you please specify where you want the weather information for?\", additional_kwargs={}, response_metadata={'token_usage': {'completion_tokens': 242, 'prompt_tokens': 193, 'total_tokens': 435, 'completion_time': 0.550340612, 'prompt_time': 0.017107411, 'queue_time': 0.33809370899999996, 'total_time': 0.567448023}, 'model_name': 'qwen-qwq-32b', 'system_fingerprint': 'fp_a91d9c2cfb', 'finish_reason': 'stop', 'logprobs': None}, id='run-9104717d-0016-4f44-86a7-590d88fc274e-0', usage_metadata={'input_tokens': 193, 'output_tokens': 242, 'total_tokens': 435}),\n",
       " ['user', 'What is a weather there?'],\n",
       " AIMessage(content=\"I'll need the location to check the weather. Could you please specify which place you're asking about?\", additional_kwargs={}, response_metadata={'token_usage': {'completion_tokens': 199, 'prompt_tokens': 231, 'total_tokens': 430, 'completion_time': 0.485638352, 'prompt_time': 0.040660436, 'queue_time': 0.563339693, 'total_time': 0.526298788}, 'model_name': 'qwen-qwq-32b', 'system_fingerprint': 'fp_3796682456', 'finish_reason': 'stop', 'logprobs': None}, id='run-01aeaccd-41df-4eeb-a71e-cf94995266aa-0', usage_metadata={'input_tokens': 231, 'output_tokens': 199, 'total_tokens': 430}),\n",
       " ['user', 'give me the recent news from there?']]"
      ]
     },
     "execution_count": 141,
     "metadata": {},
     "output_type": "execute_result"
    }
   ],
   "source": [
    "current_message"
   ]
  },
  {
   "cell_type": "code",
   "execution_count": 142,
   "id": "873b193c",
   "metadata": {},
   "outputs": [
    {
     "ename": "AttributeError",
     "evalue": "'list' object has no attribute 'tool_calls'",
     "output_type": "error",
     "traceback": [
      "\u001b[31m---------------------------------------------------------------------------\u001b[39m",
      "\u001b[31mAttributeError\u001b[39m                            Traceback (most recent call last)",
      "\u001b[36mCell\u001b[39m\u001b[36m \u001b[39m\u001b[32mIn[142]\u001b[39m\u001b[32m, line 1\u001b[39m\n\u001b[32m----> \u001b[39m\u001b[32m1\u001b[39m tool_call_id = \u001b[43mcurrent_message\u001b[49m\u001b[43m.\u001b[49m\u001b[43mtool_calls\u001b[49m[\u001b[32m0\u001b[39m][\u001b[33m\"\u001b[39m\u001b[33mid\u001b[39m\u001b[33m\"\u001b[39m]\n",
      "\u001b[31mAttributeError\u001b[39m: 'list' object has no attribute 'tool_calls'"
     ]
    }
   ],
   "source": [
    "tool_call_id = current_message.tool_calls[0][\"id\"]"
   ]
  },
  {
   "cell_type": "code",
   "execution_count": 143,
   "id": "8fbfab12",
   "metadata": {},
   "outputs": [],
   "source": [
    "from langchain_core.messages import AIMessage, ToolMessage"
   ]
  },
  {
   "cell_type": "code",
   "execution_count": 144,
   "id": "b649613a",
   "metadata": {},
   "outputs": [],
   "source": [
    "answer = \"delhi is too hot now a days as well as bit foggy\""
   ]
  },
  {
   "cell_type": "code",
   "execution_count": null,
   "id": "6bf1d466",
   "metadata": {},
   "outputs": [],
   "source": [
    "new_message = [\n",
    "    ToolMessage(content=answer, tool_call_id=tool_call_id),\n",
    "    AIMessage(content=answer),\n",
    "]"
   ]
  },
  {
   "cell_type": "code",
   "execution_count": null,
   "id": "1073a5b1",
   "metadata": {},
   "outputs": [],
   "source": [
    "app2.update_state(\n",
    "    config,\n",
    "    {\"messages\": new_message}\n",
    ")"
   ]
  },
  {
   "cell_type": "code",
   "execution_count": null,
   "id": "870e0465",
   "metadata": {},
   "outputs": [],
   "source": [
    "print(app2.get_state(config).values['messages'][-1:])"
   ]
  }
 ],
 "metadata": {
  "kernelspec": {
   "display_name": "langgraph",
   "language": "python",
   "name": "python3"
  },
  "language_info": {
   "codemirror_mode": {
    "name": "ipython",
    "version": 3
   },
   "file_extension": ".py",
   "mimetype": "text/x-python",
   "name": "python",
   "nbconvert_exporter": "python",
   "pygments_lexer": "ipython3",
   "version": "3.12.0"
  }
 },
 "nbformat": 4,
 "nbformat_minor": 5
}
