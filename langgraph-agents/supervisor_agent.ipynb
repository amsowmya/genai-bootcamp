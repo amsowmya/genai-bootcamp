{
 "cells": [
  {
   "cell_type": "code",
   "execution_count": 15,
   "id": "2735f2b9",
   "metadata": {},
   "outputs": [],
   "source": [
    "from typing_extensions import Literal, TypedDict\n",
    "from langchain_core.tools import tool\n",
    "from langgraph.graph import StateGraph, MessagesState, START, END\n",
    "from langgraph.types import Command # using the command we can pass the command from one agent to another agent\n",
    "from dotenv import load_dotenv\n",
    "from IPython.display import display, Image\n",
    "from langchain_groq import ChatGroq\n",
    "from langchain_core.messages import HumanMessage, BaseMessage\n",
    "from langgraph.prebuilt import create_react_agent\n",
    "from typing import Annotated # just to mention the metadata\n",
    "from langchain_experimental.utilities import PythonREPL\n",
    "from langchain_community.tools.tavily_search import TavilySearchResults"
   ]
  },
  {
   "cell_type": "code",
   "execution_count": 2,
   "id": "9847704e",
   "metadata": {},
   "outputs": [
    {
     "data": {
      "text/plain": [
       "True"
      ]
     },
     "execution_count": 2,
     "metadata": {},
     "output_type": "execute_result"
    }
   ],
   "source": [
    "load_dotenv()"
   ]
  },
  {
   "cell_type": "code",
   "execution_count": 3,
   "id": "b6bcee18",
   "metadata": {},
   "outputs": [
    {
     "data": {
      "text/plain": [
       "'<think>\\n\\n</think>\\n\\nHello! How can I assist you today? 😊'"
      ]
     },
     "execution_count": 3,
     "metadata": {},
     "output_type": "execute_result"
    }
   ],
   "source": [
    "import os\n",
    "\n",
    "groq_api_key = os.getenv(\"GROQ_API_KEY\")\n",
    "\n",
    "llm = ChatGroq(groq_api_key=groq_api_key, model_name=\"deepseek-r1-distill-llama-70b\")\n",
    "\n",
    "llm.invoke(\"hi\").content"
   ]
  },
  {
   "cell_type": "code",
   "execution_count": 4,
   "id": "39ae1c3c",
   "metadata": {},
   "outputs": [],
   "source": [
    "tavily_tool = TavilySearchResults()"
   ]
  },
  {
   "cell_type": "code",
   "execution_count": 5,
   "id": "f89d4199",
   "metadata": {},
   "outputs": [
    {
     "data": {
      "text/plain": [
       "[{'url': 'https://tradingeconomics.com/india/gdp',\n",
       "  'content': 'The Gross Domestic Product (GDP) in India was worth 3567.55 billion US dollars in 2023, according to official data from the World Bank. The GDP value of India represents 3.38 percent of the world economy. source: World Bank [...] GDP in India averaged 785.41 USD Billion from 1960 until 2023, reaching an all time high of 3567.55 USD Billion in 2023 and a record low of 37.03 USD Billion in 1960. This page provides the latest reported value for - India GDP - plus previous releases, historical high and low, short-term forecast and long-term prediction, economic calendar, survey consensus and news. India GDP - values, historical data and charts - was last updated on May of 2025. [...] GDP in India is expected to reach 3792.00 USD Billion by the end of 2025, according to Trading Economics global macro models and analysts expectations. In the long-term, the India GDP is projected to trend around 4043.00 USD Billion in 2026 and 4281.00 USD Billion in 2027, according to our econometric models.\\nUSD Billion\\n5Y10Y25YMAX\\nExport API\\nOK\\nLoading...\\n201320172021\\n|\\nWorld Bank\\nValueChgChg%\\n| Related | Last | Previous | Unit | Reference |\\n| --- | --- | --- | --- | --- |'},\n",
       " {'url': 'https://en.wikipedia.org/wiki/Economy_of_India',\n",
       "  'content': 'countryStatisticsPopulation 1,428,627,663 (1st; 2024 est.)[5]GDP $4.19 trillion (nominal; 2025 est.)[6] $17.65 trillion (PPP; 2025 est.)[6]GDP rank4th (nominal; 2025)3rd (PPP; 2025)GDP growth 7.2%\\xa0(FY2024)[7] 6.4%\\xa0(FY2025)[7]GDP per capita $2,980 (nominal; 2025 est.)[7] $12,130 (PPP; 2025 est.)[7]GDP per capita rank136th (nominal; 2025)[a]119th (PPP; 2025)[a]GDP by sectorAgriculture: 17.7%Industry: 27.6%Services: 54.7%(FY 2023–24)[8]GDP by componentPrivate final consumption: 56.3%Government'},\n",
       " {'url': 'https://timesofindia.indiatimes.com/business/india-business/in-7-charts-how-indias-gdp-has-doubled-from-2-1-trillion-to-4-2-trillion-in-just-10-years/articleshow/119545395.cms',\n",
       "  'content': \"With a healthy GDP growth rate, the Indian economy is expected to surpass Japan in 2026 as the world’s 4th largest economy. It is likely to become the third largest economy in the world in nominal GDP terms by 2028, according to IMF projections.  \\nIndia’s GDP is expected to rise to $5723.3 billion by 2028 and $6307.2 billion by 2029. In 2029, the world’s largest economy, the US, is projected to have a GDP of $35458 billion - which is 5.62 times India’s GDP! [...] India’s nominal GDP in 2015 was $2,103.6 billion. Come 2025, the IMF projects that it will reach $4,271.9 billion. That's over 100% growth in just 10 years! [...] AA\\n+Text Size\\n\\nSmall\\nMedium\\nLarge\\n\\nIndia’s nominal GDP in 2015 was $2,103.6 billion. Come 2025, the IMF projects that it will reach $4,271.9 billion. That's over 100% growth in just 10 years! How has India managed to double its GDP in just ten years? What factors have worked to propel the economy, which at one time had been infamously ranked among the ‘Fragile Five’? We take a look:\"},\n",
       " {'url': 'https://www.macrotrends.net/global-metrics/countries/ind/india/gdp-gross-domestic-product',\n",
       "  'content': 'India GDP for 2023 was 3.550 trillion US dollars, a 5.86% increase from 2022. · India GDP for 2022 was 3.353 trillion US dollars, a 5.88% increase from 2021.'},\n",
       " {'url': 'https://cleartax.in/s/world-gdp-ranking-list',\n",
       "  'content': \"India is currently ranked as the 5th largest economy globally in 2025, but it is projected to surpass Japan and secure the 4th position among the world's top 10 largest economies, with a nominal GDP of $4,340 billion in 2025. Moreover, the IMF forecasts that by 2027, India will overtake Germany to become the 3rd largest economy worldwide [...] India GDP Per Capita 2024 / India Per Capita Income 2024\\nKnowing India's rank in the World GDP Ranking 2024 list, it is evident that the value of output per person is quite substantial. India's per capita income of the population for 2024 is 2.73%. As per the Union government, the rise in the per capita income of people has pushed many households into higher income brackets. [...] With a real GDP of RS. 322.87 lakh crore in 2023-24 generated by a population of over 1 billion, India is among the highest population-based economies in the world. Additionally, as per a recent data, India will tend to grow at 7% in 2024-25.\\xa0This means India's economic growth next fiscal year will be the fastest among major economies. Therefore, in the upcoming years, rising consumption and investments, both domestic and foreign, will contribute to the nation’s growth and may also help India\"}]"
      ]
     },
     "execution_count": 5,
     "metadata": {},
     "output_type": "execute_result"
    }
   ],
   "source": [
    "tavily_tool.invoke(\"gdp of india?\")"
   ]
  },
  {
   "cell_type": "code",
   "execution_count": 6,
   "id": "6950b25a",
   "metadata": {},
   "outputs": [
    {
     "name": "stderr",
     "output_type": "stream",
     "text": [
      "<>:13: SyntaxWarning: invalid escape sequence '\\`'\n",
      "<>:13: SyntaxWarning: invalid escape sequence '\\`'\n",
      "<>:13: SyntaxWarning: invalid escape sequence '\\`'\n",
      "<>:13: SyntaxWarning: invalid escape sequence '\\`'\n",
      "C:\\Users\\sowmy\\AppData\\Local\\Temp\\ipykernel_9288\\4245526608.py:13: SyntaxWarning: invalid escape sequence '\\`'\n",
      "  result_str = f\"Successfully executed:\\n\\`\\`\\`python\\n{code}\\n\\`\\`\\`\\nStdout: {result}\"\n",
      "C:\\Users\\sowmy\\AppData\\Local\\Temp\\ipykernel_9288\\4245526608.py:13: SyntaxWarning: invalid escape sequence '\\`'\n",
      "  result_str = f\"Successfully executed:\\n\\`\\`\\`python\\n{code}\\n\\`\\`\\`\\nStdout: {result}\"\n"
     ]
    }
   ],
   "source": [
    "@tool \n",
    "def python_repl_tool(\n",
    "    code: Annotated[str, \"The python code to execute to generate your chart.\"]\n",
    "):\n",
    "    \"\"\"Use this to execute python code and do math. If you want to see the output of a value,\n",
    "    you should print it out with `print(...)`. This is visible to the user\n",
    "    \"\"\"\n",
    "    try:\n",
    "        result = repl.run(code)\n",
    "    except BaseException as e:\n",
    "        return f\"Failed to execute. Error: {repr(e)}\"\n",
    "    \n",
    "    result_str = f\"Successfully executed:\\n\\`\\`\\`python\\n{code}\\n\\`\\`\\`\\nStdout: {result}\"\n",
    "    return result_str"
   ]
  },
  {
   "cell_type": "code",
   "execution_count": 7,
   "id": "21fcb73d",
   "metadata": {},
   "outputs": [],
   "source": [
    "repl = PythonREPL()"
   ]
  },
  {
   "cell_type": "code",
   "execution_count": 8,
   "id": "fb13ea67",
   "metadata": {},
   "outputs": [],
   "source": [
    "code = \"\"\" \n",
    "x = 5\n",
    "y = x * 2\n",
    "print(y)\n",
    "\"\"\""
   ]
  },
  {
   "cell_type": "code",
   "execution_count": 9,
   "id": "383518b2",
   "metadata": {},
   "outputs": [
    {
     "name": "stderr",
     "output_type": "stream",
     "text": [
      "Python REPL can execute arbitrary code. Use with caution.\n"
     ]
    },
    {
     "data": {
      "text/plain": [
       "'10\\n'"
      ]
     },
     "execution_count": 9,
     "metadata": {},
     "output_type": "execute_result"
    }
   ],
   "source": [
    "repl.run(code)"
   ]
  },
  {
   "cell_type": "code",
   "execution_count": 10,
   "id": "90027c0f",
   "metadata": {},
   "outputs": [],
   "source": [
    "members = [\"researcher\", \"coder\"]"
   ]
  },
  {
   "cell_type": "code",
   "execution_count": 12,
   "id": "abf2caca",
   "metadata": {},
   "outputs": [],
   "source": [
    "options = members+[\"FINISH\"]"
   ]
  },
  {
   "cell_type": "code",
   "execution_count": 13,
   "id": "267118db",
   "metadata": {},
   "outputs": [
    {
     "data": {
      "text/plain": [
       "['researcher', 'coder', 'FINISH']"
      ]
     },
     "execution_count": 13,
     "metadata": {},
     "output_type": "execute_result"
    }
   ],
   "source": [
    "options"
   ]
  },
  {
   "cell_type": "code",
   "execution_count": 16,
   "id": "1d679b47",
   "metadata": {},
   "outputs": [],
   "source": [
    "class Router(TypedDict):\n",
    "    \"\"\"Worker to route to next. If no workers needed, route to FINISH\"\"\"\n",
    "    next: Literal['researcher', 'coder', 'FINISH']"
   ]
  },
  {
   "cell_type": "code",
   "execution_count": 17,
   "id": "e48b33e4",
   "metadata": {},
   "outputs": [],
   "source": [
    "class State(MessagesState):\n",
    "    next: str"
   ]
  },
  {
   "cell_type": "code",
   "execution_count": 18,
   "id": "c583898e",
   "metadata": {},
   "outputs": [],
   "source": [
    "system_prompt = f\"\"\" \n",
    "You are a supervisor, tasked with managing a conversation between the following workers: {members}.\n",
    "Given the following user request, respond with the worker to act next.\n",
    "Each worker will perform a task and respond with their results and status.\n",
    "When finished, respond with FINISH.\n",
    "\"\"\""
   ]
  },
  {
   "cell_type": "code",
   "execution_count": 19,
   "id": "c3b531d5",
   "metadata": {},
   "outputs": [
    {
     "data": {
      "text/plain": [
       "[{'role': 'system',\n",
       "  'content': \" \\nYou are a supervisor, tasked with managing a conversation between the following workers: ['researcher', 'coder'].\\nGiven the following user request, respond with the worker to act next.\\nEach worker will perform a task and respond with their results and status.\\nWhen finished, respond with FINISH.\\n\"}]"
      ]
     },
     "execution_count": 19,
     "metadata": {},
     "output_type": "execute_result"
    }
   ],
   "source": [
    "[{\"role\": \"system\", \"content\": system_prompt}, ]"
   ]
  },
  {
   "cell_type": "code",
   "execution_count": 20,
   "id": "770a59ac",
   "metadata": {},
   "outputs": [],
   "source": [
    "def supervisor_node(state: State) -> Command[Literal[\"researcher\", \"coder\", \"__end__\"]]:\n",
    "    messages = [{\"role\": \"system\", \"content\": system_prompt}] + state['messages']\n",
    "    \n",
    "    response = llm.with_structured_output(Router).invoke(messages)\n",
    "    \n",
    "    goto = response['next']\n",
    "    \n",
    "    print(\"below my goto ****************\")\n",
    "    \n",
    "    print(goto)\n",
    "    \n",
    "    if goto == \"FINISH\":\n",
    "        goto = END \n",
    "    \n",
    "    return Command(goto=goto, update={\"next\": goto})"
   ]
  },
  {
   "cell_type": "code",
   "execution_count": 21,
   "id": "e368fbed",
   "metadata": {},
   "outputs": [],
   "source": [
    "def research_node(state: State) -> Command[Literal[\"supervisor\"]]:\n",
    "    \n",
    "    research_agent = create_react_agent(llm, tools=[tavily_tool], prompt=\"You are a researcher. DO NOT do any math.\")\n",
    "    \n",
    "    result = research_agent.invoke(state)\n",
    "    \n",
    "    return Command(\n",
    "        update={\n",
    "            \"messages\": [\n",
    "                HumanMessage(content=result['messages'][-1].content, name=\"researcher\")\n",
    "            ]\n",
    "        },\n",
    "        goto = \"supervisor\"\n",
    "    )"
   ]
  },
  {
   "cell_type": "code",
   "execution_count": 24,
   "id": "fca6dcfc",
   "metadata": {},
   "outputs": [],
   "source": [
    "def code_node(state: State) -> Command[Literal[\"supervisor\"]]:\n",
    "    \n",
    "    code_agent = create_react_agent(llm, tools=[python_repl_tool])\n",
    "    \n",
    "    result = code_agent.invoke(state)\n",
    "    \n",
    "    return Command(\n",
    "        update={\n",
    "            \"messages\": [\n",
    "                HumanMessage(content=result[\"messages\"][-1].content, name=\"coder\")\n",
    "            ]\n",
    "        },\n",
    "        goto = \"supervisor\"\n",
    "    )"
   ]
  },
  {
   "cell_type": "code",
   "execution_count": 25,
   "id": "693e9a4f",
   "metadata": {},
   "outputs": [],
   "source": [
    "graph = StateGraph(State)\n",
    "\n",
    "graph.add_node(\"supervisor\", supervisor_node)\n",
    "graph.add_node(\"researcher\", research_node)\n",
    "graph.add_node(\"coder\", code_node)\n",
    "\n",
    "graph.add_edge(START, \"supervisor\")\n",
    "\n",
    "app = graph.compile()"
   ]
  },
  {
   "cell_type": "code",
   "execution_count": 26,
   "id": "3ac9c097",
   "metadata": {},
   "outputs": [
    {
     "data": {
      "image/png": "[encoded data removed]",
      "text/plain": [
       "<IPython.core.display.Image object>"
      ]
     },
     "metadata": {},
     "output_type": "display_data"
    }
   ],
   "source": [
    "display(Image(app.get_graph().draw_mermaid_png()))"
   ]
  },
  {
   "cell_type": "code",
   "execution_count": 27,
   "id": "a6eeb1b0",
   "metadata": {},
   "outputs": [
    {
     "name": "stdout",
     "output_type": "stream",
     "text": [
      "below my goto ****************\n",
      "researcher\n",
      "((), {'supervisor': {'next': 'researcher'}})\n",
      "----\n",
      "(('researcher:2e62a0aa-a66d-a8d0-bf3d-f69a16d635ab',), {'agent': {'messages': [AIMessage(content='', additional_kwargs={'tool_calls': [{'id': 'call_hkz7', 'function': {'arguments': '{\"query\":\"square of 42\"}', 'name': 'tavily_search_results_json'}, 'type': 'function'}]}, response_metadata={'token_usage': {'completion_tokens': 207, 'prompt_tokens': 177, 'total_tokens': 384, 'completion_time': 0.793735647, 'prompt_time': 0.011923797, 'queue_time': 0.055909311, 'total_time': 0.805659444}, 'model_name': 'deepseek-r1-distill-llama-70b', 'system_fingerprint': 'fp_1bbe7845ec', 'finish_reason': 'tool_calls', 'logprobs': None}, id='run-7814304c-93fb-4a5b-9ac3-d27330ca2401-0', tool_calls=[{'name': 'tavily_search_results_json', 'args': {'query': 'square of 42'}, 'id': 'call_hkz7', 'type': 'tool_call'}], usage_metadata={'input_tokens': 177, 'output_tokens': 207, 'total_tokens': 384})]}})\n",
      "----\n",
      "(('researcher:2e62a0aa-a66d-a8d0-bf3d-f69a16d635ab',), {'tools': {'messages': [ToolMessage(content='[{\"url\": \"https://www.cuemath.com/algebra/square-root-of-42/\", \"content\": \"The square root of a number implies a number whose product with itself gives the initial number.\\\\nThe square root of 42 is 6.4807.\\\\nThe square root of 42 is written as √42 in radical form and it cannot be reduced further.\\\\nThe square root of 42 can be written as (42)1/2 in exponential form. [...] How can your child master math concepts?\\\\nMath mastery comes with practice and understanding the ‘Why’ behind the ‘What.’ Experience the Cuemath difference.\\\\nBook a Free Trial Class\\\\nInteractive Questions\\\\nCheck Answer >\\\\ngo to slidego to slidego to slide\\\\nFAQs on Square Roots of 42\\\\nWhat is the negative square root of 42?\\\\nThe negative square root of 42 is -6.4807.\\\\nWhat is the square of 42?\\\\nThe square of 42 is (42)2 = 1764.\\\\nCan we find the square root of 42 using the prime factorization form? [...] Find two consecutive perfect squares between which the number 42 lies. The two numbers are 36 (62) and 49 (72).\\\\n    So, the whole number part of the square root of 42 will be 6.\\\\nNow, for the decimal part we will use the formula:\\\\n    (Given number -\\xa0Smaller perfect square) / (Greater perfect square -\\xa0smaller perfect square)\\\\n    \\\\\\\\= (42 -\\xa036)/(49 -\\xa036) = 6/13 = 0.461\\\\nSo, the estimated square root of 42 by the approximation method is 6.461.\"}, {\"url\": \"https://www.teachoo.com/14133/2102/Example-1-ii/category/Examples/\", \"content\": \"We know that 42 = 40 + 2. Now, 422 = (40 + 2)2 = 402 + 22 + 2 × 40 × 2 = 1600 + 4 + 160 =\"}, {\"url\": \"https://byjus.com/maths/square-root-of-42/\", \"content\": \"| Square Root of 42 in Radical Form: √42. |\\\\n| --- |\\\\nSquare Root of 42 by Prime Factorization Method\\\\nTo find the square root of 42 using the prime factorization method, we need to know the prime factors of 42. The prime factors of 42 are 2, 3 and 7 and the prime factorization of 42 is 2× 3×7.\\\\nThus, √42 = √2. √3.√7\\\\nWe know that,\\\\n√2 = 1.414\\\\n√3 = 1.732\\\\n√7 = 2.646\\\\nNow, substitute the values of √2, √3 and √7 in the above equation.\\\\n√42 = 1.414 × 1.732 × 2.646\\\\n√42 = 6.481 (approximately) [...] What is the Square Root of 42?\\\\nIf a number is multiplied by itself and gives the result as 42, then the number is the square root 42. The square root of 42 is symbolically expressed as √42.\\\\nHence, √42 = √(Number × Number)\\\\nThus, if we multiply the number 6.4807 two times, we get the original value 42.\\\\n(i.e) √42 = √(6.4807× 6.4807)\\\\n√42 = √(6.4807)2\\\\nNow, remove square and square root, we get\\\\n√42 = ± 6.4807 (or)\\\\n√42 = ± 6.481 (Rounded to three decimal places) [...] | Square Root of 42 in Decimal Form: 6.481. |\\\\n| --- |\\\\nSquare Root of 42 in Radical Form\\\\nWe can also represent the square root of 42 in the radical form. To express the square root of 42 in radical form, write the prime factors of 42. The number 42 has three prime factors, such as 2, 3 and 7. So, if we want to write √42 in radical form, it should be like √2. √3. √7, which is not in the simplest form. So, we can say the square root of 42 is radical form is √42\"}, {\"url\": \"https://www.mathway.com/popular-problems/Algebra/245547\", \"content\": \"Simplify square root of 42. √42 42. The result can be shown in multiple forms. Exact Form: √42 42. Decimal Form: 6.48074069.\"}, {\"url\": \"https://www.quora.com/If-a-number-plus-its-square-is-equal-to-42-what-is-the-number\", \"content\": \"Answer is 6. Closest to 42 is 36 which is the square of 6. 42–36=6. X is the number. X + X square=\"}]', name='tavily_search_results_json', id='6d033594-73cf-4d42-9802-1fc4c9775cfe', tool_call_id='call_hkz7', artifact={'query': 'square of 42', 'follow_up_questions': None, 'answer': None, 'images': [], 'results': [{'url': 'https://www.cuemath.com/algebra/square-root-of-42/', 'title': 'How to Find the Square Root of 42? - Cuemath', 'content': 'The square root of a number implies a number whose product with itself gives the initial number.\\nThe square root of 42 is 6.4807.\\nThe square root of 42 is written as √42 in radical form and it cannot be reduced further.\\nThe square root of 42 can be written as (42)1/2 in exponential form. [...] How can your child master math concepts?\\nMath mastery comes with practice and understanding the ‘Why’ behind the ‘What.’ Experience the Cuemath difference.\\nBook a Free Trial Class\\nInteractive Questions\\nCheck Answer >\\ngo to slidego to slidego to slide\\nFAQs on Square Roots of 42\\nWhat is the negative square root of 42?\\nThe negative square root of 42 is -6.4807.\\nWhat is the square of 42?\\nThe square of 42 is (42)2 = 1764.\\nCan we find the square root of 42 using the prime factorization form? [...] Find two consecutive perfect squares between which the number 42 lies. The two numbers are 36 (62) and 49 (72).\\n    So, the whole number part of the square root of 42 will be 6.\\nNow, for the decimal part we will use the formula:\\n    (Given number -\\xa0Smaller perfect square) / (Greater perfect square -\\xa0smaller perfect square)\\n    \\\\= (42 -\\xa036)/(49 -\\xa036) = 6/13 = 0.461\\nSo, the estimated square root of 42 by the approximation method is 6.461.', 'score': 0.8325776, 'raw_content': None}, {'url': 'https://www.teachoo.com/14133/2102/Example-1-ii/category/Examples/', 'title': 'Example 1 - Find square of 42 without actual multiplication - Class 8', 'content': 'We know that 42 = 40 + 2. Now, 422 = (40 + 2)2 = 402 + 22 + 2 × 40 × 2 = 1600 + 4 + 160 =', 'score': 0.80844593, 'raw_content': None}, {'url': 'https://byjus.com/maths/square-root-of-42/', 'title': \"Square Root of 42 - BYJU'S\", 'content': '| Square Root of 42 in Radical Form: √42. |\\n| --- |\\nSquare Root of 42 by Prime Factorization Method\\nTo find the square root of 42 using the prime factorization method, we need to know the prime factors of 42. The prime factors of 42 are 2, 3 and 7 and the prime factorization of 42 is 2× 3×7.\\nThus, √42 = √2. √3.√7\\nWe know that,\\n√2 = 1.414\\n√3 = 1.732\\n√7 = 2.646\\nNow, substitute the values of √2, √3 and √7 in the above equation.\\n√42 = 1.414 × 1.732 × 2.646\\n√42 = 6.481 (approximately) [...] What is the Square Root of 42?\\nIf a number is multiplied by itself and gives the result as 42, then the number is the square root 42. The square root of 42 is symbolically expressed as √42.\\nHence, √42 = √(Number × Number)\\nThus, if we multiply the number 6.4807 two times, we get the original value 42.\\n(i.e) √42 = √(6.4807× 6.4807)\\n√42 = √(6.4807)2\\nNow, remove square and square root, we get\\n√42 = ± 6.4807 (or)\\n√42 = ± 6.481 (Rounded to three decimal places) [...] | Square Root of 42 in Decimal Form: 6.481. |\\n| --- |\\nSquare Root of 42 in Radical Form\\nWe can also represent the square root of 42 in the radical form. To express the square root of 42 in radical form, write the prime factors of 42. The number 42 has three prime factors, such as 2, 3 and 7. So, if we want to write √42 in radical form, it should be like √2. √3. √7, which is not in the simplest form. So, we can say the square root of 42 is radical form is √42', 'score': 0.7944651, 'raw_content': None}, {'url': 'https://www.mathway.com/popular-problems/Algebra/245547', 'title': 'Simplify square root of 42 - Mathway', 'content': 'Simplify square root of 42. √42 42. The result can be shown in multiple forms. Exact Form: √42 42. Decimal Form: 6.48074069.', 'score': 0.7931224, 'raw_content': None}, {'url': 'https://www.quora.com/If-a-number-plus-its-square-is-equal-to-42-what-is-the-number', 'title': 'If a number plus its square is equal to 42, what is the number? - Quora', 'content': 'Answer is 6. Closest to 42 is 36 which is the square of 6. 42–36=6. X is the number. X + X square=', 'score': 0.7393665, 'raw_content': None}], 'response_time': 1.4})]}})\n",
      "----\n",
      "(('researcher:2e62a0aa-a66d-a8d0-bf3d-f69a16d635ab',), {'agent': {'messages': [AIMessage(content='The square of 42 is 1764.', additional_kwargs={}, response_metadata={'token_usage': {'completion_tokens': 270, 'prompt_tokens': 1322, 'total_tokens': 1592, 'completion_time': 1.206731705, 'prompt_time': 0.109105144, 'queue_time': 0.058452994999999994, 'total_time': 1.315836849}, 'model_name': 'deepseek-r1-distill-llama-70b', 'system_fingerprint': 'fp_1bbe7845ec', 'finish_reason': 'stop', 'logprobs': None}, id='run-6733b1ba-ba8c-4f51-a2ea-61dd955e6b16-0', usage_metadata={'input_tokens': 1322, 'output_tokens': 270, 'total_tokens': 1592})]}})\n",
      "----\n",
      "((), {'researcher': {'messages': [HumanMessage(content='The square of 42 is 1764.', additional_kwargs={}, response_metadata={}, name='researcher')]}})\n",
      "----\n",
      "below my goto ****************\n",
      "coder\n",
      "((), {'supervisor': {'next': 'coder'}})\n",
      "----\n",
      "(('coder:8c6c0477-7789-ea0e-6e1c-d0452a50e041',), {'agent': {'messages': [AIMessage(content='', additional_kwargs={'tool_calls': [{'id': 'call_s043', 'function': {'arguments': '{\"code\":\"print(42 ** 2)\"}', 'name': 'python_repl_tool'}, 'type': 'function'}]}, response_metadata={'token_usage': {'completion_tokens': 126, 'prompt_tokens': 188, 'total_tokens': 314, 'completion_time': 0.647932035, 'prompt_time': 0.12367036, 'queue_time': 0.6859871510000001, 'total_time': 0.771602395}, 'model_name': 'deepseek-r1-distill-llama-70b', 'system_fingerprint': 'fp_1bbe7845ec', 'finish_reason': 'tool_calls', 'logprobs': None}, id='run-09d22f23-1341-4d12-89d7-d8ae1ec866fd-0', tool_calls=[{'name': 'python_repl_tool', 'args': {'code': 'print(42 ** 2)'}, 'id': 'call_s043', 'type': 'tool_call'}], usage_metadata={'input_tokens': 188, 'output_tokens': 126, 'total_tokens': 314})]}})\n",
      "----\n",
      "(('coder:8c6c0477-7789-ea0e-6e1c-d0452a50e041',), {'tools': {'messages': [ToolMessage(content='Successfully executed:\\n\\\\`\\\\`\\\\`python\\nprint(42 ** 2)\\n\\\\`\\\\`\\\\`\\nStdout: 1764\\n', name='python_repl_tool', id='56ada623-2288-45f7-9671-12b2b1d2df2d', tool_call_id='call_s043')]}})\n",
      "----\n",
      "(('coder:8c6c0477-7789-ea0e-6e1c-d0452a50e041',), {'agent': {'messages': [AIMessage(content='The square of 42 is calculated by multiplying 42 by itself, which equals 1764. This can be confirmed using the Python code `print(42 ** 2)`, resulting in the output 1764.\\n\\n**Step-by-Step Explanation:**\\n\\n1. **Understand the Problem:** The task is to find the square of the number 42.\\n2. **Mathematical Approach:** Squaring a number means multiplying the number by itself. So, 42 squared is 42 × 42.\\n3. **Calculation:** \\n   - 42 × 40 = 1680\\n   - 42 × 2 = 84\\n   - Adding these together: 1680 + 84 = 1764\\n4. **Verification Using Python:** \\n   - Write the Python code `print(42 ** 2)`.\\n   - Execute the code, which outputs 1764, confirming the result.\\n\\n**Answer:** The square of 42 is **1764**.', additional_kwargs={}, response_metadata={'token_usage': {'completion_tokens': 608, 'prompt_tokens': 279, 'total_tokens': 887, 'completion_time': 2.210909091, 'prompt_time': 0.044152182, 'queue_time': 0.058232408, 'total_time': 2.255061273}, 'model_name': 'deepseek-r1-distill-llama-70b', 'system_fingerprint': 'fp_1bbe7845ec', 'finish_reason': 'stop', 'logprobs': None}, id='run-b3d9e05a-09d2-43a3-908a-de35d0c79b2b-0', usage_metadata={'input_tokens': 279, 'output_tokens': 608, 'total_tokens': 887})]}})\n",
      "----\n",
      "((), {'coder': {'messages': [HumanMessage(content='The square of 42 is calculated by multiplying 42 by itself, which equals 1764. This can be confirmed using the Python code `print(42 ** 2)`, resulting in the output 1764.\\n\\n**Step-by-Step Explanation:**\\n\\n1. **Understand the Problem:** The task is to find the square of the number 42.\\n2. **Mathematical Approach:** Squaring a number means multiplying the number by itself. So, 42 squared is 42 × 42.\\n3. **Calculation:** \\n   - 42 × 40 = 1680\\n   - 42 × 2 = 84\\n   - Adding these together: 1680 + 84 = 1764\\n4. **Verification Using Python:** \\n   - Write the Python code `print(42 ** 2)`.\\n   - Execute the code, which outputs 1764, confirming the result.\\n\\n**Answer:** The square of 42 is **1764**.', additional_kwargs={}, response_metadata={}, name='coder')]}})\n",
      "----\n",
      "below my goto ****************\n",
      "researcher\n",
      "((), {'supervisor': {'next': 'researcher'}})\n",
      "----\n",
      "(('researcher:2e41de4d-cd7b-03a7-20e2-88a78057d190',), {'agent': {'messages': [AIMessage(content='', additional_kwargs={'tool_calls': [{'id': 'call_5ea2', 'function': {'arguments': '{\"query\":\"square of 42\"}', 'name': 'tavily_search_results_json'}, 'type': 'function'}]}, response_metadata={'token_usage': {'completion_tokens': 28, 'prompt_tokens': 394, 'total_tokens': 422, 'completion_time': 0.101818182, 'prompt_time': 0.032181086, 'queue_time': 0.054072484000000004, 'total_time': 0.133999268}, 'model_name': 'deepseek-r1-distill-llama-70b', 'system_fingerprint': 'fp_1bbe7845ec', 'finish_reason': 'tool_calls', 'logprobs': None}, id='run-9e00831d-9ca1-451b-86f9-79bb6f37c18f-0', tool_calls=[{'name': 'tavily_search_results_json', 'args': {'query': 'square of 42'}, 'id': 'call_5ea2', 'type': 'tool_call'}], usage_metadata={'input_tokens': 394, 'output_tokens': 28, 'total_tokens': 422})]}})\n",
      "----\n",
      "(('researcher:2e41de4d-cd7b-03a7-20e2-88a78057d190',), {'tools': {'messages': [ToolMessage(content='[{\"url\": \"https://www.cuemath.com/algebra/square-root-of-42/\", \"content\": \"The square root of a number implies a number whose product with itself gives the initial number.\\\\nThe square root of 42 is 6.4807.\\\\nThe square root of 42 is written as √42 in radical form and it cannot be reduced further.\\\\nThe square root of 42 can be written as (42)1/2 in exponential form. [...] How can your child master math concepts?\\\\nMath mastery comes with practice and understanding the ‘Why’ behind the ‘What.’ Experience the Cuemath difference.\\\\nBook a Free Trial Class\\\\nInteractive Questions\\\\nCheck Answer >\\\\ngo to slidego to slidego to slide\\\\nFAQs on Square Roots of 42\\\\nWhat is the negative square root of 42?\\\\nThe negative square root of 42 is -6.4807.\\\\nWhat is the square of 42?\\\\nThe square of 42 is (42)2 = 1764.\\\\nCan we find the square root of 42 using the prime factorization form? [...] Find two consecutive perfect squares between which the number 42 lies. The two numbers are 36 (62) and 49 (72).\\\\n    So, the whole number part of the square root of 42 will be 6.\\\\nNow, for the decimal part we will use the formula:\\\\n    (Given number -\\xa0Smaller perfect square) / (Greater perfect square -\\xa0smaller perfect square)\\\\n    \\\\\\\\= (42 -\\xa036)/(49 -\\xa036) = 6/13 = 0.461\\\\nSo, the estimated square root of 42 by the approximation method is 6.461.\"}, {\"url\": \"https://www.teachoo.com/14133/2102/Example-1-ii/category/Examples/\", \"content\": \"We know that 42 = 40 + 2. Now, 422 = (40 + 2)2 = 402 + 22 + 2 × 40 × 2 = 1600 + 4 + 160 =\"}, {\"url\": \"https://byjus.com/maths/square-root-of-42/\", \"content\": \"| Square Root of 42 in Radical Form: √42. |\\\\n| --- |\\\\nSquare Root of 42 by Prime Factorization Method\\\\nTo find the square root of 42 using the prime factorization method, we need to know the prime factors of 42. The prime factors of 42 are 2, 3 and 7 and the prime factorization of 42 is 2× 3×7.\\\\nThus, √42 = √2. √3.√7\\\\nWe know that,\\\\n√2 = 1.414\\\\n√3 = 1.732\\\\n√7 = 2.646\\\\nNow, substitute the values of √2, √3 and √7 in the above equation.\\\\n√42 = 1.414 × 1.732 × 2.646\\\\n√42 = 6.481 (approximately) [...] What is the Square Root of 42?\\\\nIf a number is multiplied by itself and gives the result as 42, then the number is the square root 42. The square root of 42 is symbolically expressed as √42.\\\\nHence, √42 = √(Number × Number)\\\\nThus, if we multiply the number 6.4807 two times, we get the original value 42.\\\\n(i.e) √42 = √(6.4807× 6.4807)\\\\n√42 = √(6.4807)2\\\\nNow, remove square and square root, we get\\\\n√42 = ± 6.4807 (or)\\\\n√42 = ± 6.481 (Rounded to three decimal places) [...] | Square Root of 42 in Decimal Form: 6.481. |\\\\n| --- |\\\\nSquare Root of 42 in Radical Form\\\\nWe can also represent the square root of 42 in the radical form. To express the square root of 42 in radical form, write the prime factors of 42. The number 42 has three prime factors, such as 2, 3 and 7. So, if we want to write √42 in radical form, it should be like √2. √3. √7, which is not in the simplest form. So, we can say the square root of 42 is radical form is √42\"}, {\"url\": \"https://www.mathway.com/popular-problems/Algebra/245547\", \"content\": \"Simplify square root of 42. √42 42. The result can be shown in multiple forms. Exact Form: √42 42. Decimal Form: 6.48074069.\"}, {\"url\": \"https://www.quora.com/If-a-number-plus-its-square-is-equal-to-42-what-is-the-number\", \"content\": \"Answer is 6. Closest to 42 is 36 which is the square of 6. 42–36=6. X is the number. X + X square=\"}]', name='tavily_search_results_json', id='6dc81502-653a-41bb-ba2d-8e1cf89dec79', tool_call_id='call_5ea2', artifact={'query': 'square of 42', 'follow_up_questions': None, 'answer': None, 'images': [], 'results': [{'url': 'https://www.cuemath.com/algebra/square-root-of-42/', 'title': 'How to Find the Square Root of 42? - Cuemath', 'content': 'The square root of a number implies a number whose product with itself gives the initial number.\\nThe square root of 42 is 6.4807.\\nThe square root of 42 is written as √42 in radical form and it cannot be reduced further.\\nThe square root of 42 can be written as (42)1/2 in exponential form. [...] How can your child master math concepts?\\nMath mastery comes with practice and understanding the ‘Why’ behind the ‘What.’ Experience the Cuemath difference.\\nBook a Free Trial Class\\nInteractive Questions\\nCheck Answer >\\ngo to slidego to slidego to slide\\nFAQs on Square Roots of 42\\nWhat is the negative square root of 42?\\nThe negative square root of 42 is -6.4807.\\nWhat is the square of 42?\\nThe square of 42 is (42)2 = 1764.\\nCan we find the square root of 42 using the prime factorization form? [...] Find two consecutive perfect squares between which the number 42 lies. The two numbers are 36 (62) and 49 (72).\\n    So, the whole number part of the square root of 42 will be 6.\\nNow, for the decimal part we will use the formula:\\n    (Given number -\\xa0Smaller perfect square) / (Greater perfect square -\\xa0smaller perfect square)\\n    \\\\= (42 -\\xa036)/(49 -\\xa036) = 6/13 = 0.461\\nSo, the estimated square root of 42 by the approximation method is 6.461.', 'score': 0.8325776, 'raw_content': None}, {'url': 'https://www.teachoo.com/14133/2102/Example-1-ii/category/Examples/', 'title': 'Example 1 - Find square of 42 without actual multiplication - Class 8', 'content': 'We know that 42 = 40 + 2. Now, 422 = (40 + 2)2 = 402 + 22 + 2 × 40 × 2 = 1600 + 4 + 160 =', 'score': 0.80844593, 'raw_content': None}, {'url': 'https://byjus.com/maths/square-root-of-42/', 'title': \"Square Root of 42 - BYJU'S\", 'content': '| Square Root of 42 in Radical Form: √42. |\\n| --- |\\nSquare Root of 42 by Prime Factorization Method\\nTo find the square root of 42 using the prime factorization method, we need to know the prime factors of 42. The prime factors of 42 are 2, 3 and 7 and the prime factorization of 42 is 2× 3×7.\\nThus, √42 = √2. √3.√7\\nWe know that,\\n√2 = 1.414\\n√3 = 1.732\\n√7 = 2.646\\nNow, substitute the values of √2, √3 and √7 in the above equation.\\n√42 = 1.414 × 1.732 × 2.646\\n√42 = 6.481 (approximately) [...] What is the Square Root of 42?\\nIf a number is multiplied by itself and gives the result as 42, then the number is the square root 42. The square root of 42 is symbolically expressed as √42.\\nHence, √42 = √(Number × Number)\\nThus, if we multiply the number 6.4807 two times, we get the original value 42.\\n(i.e) √42 = √(6.4807× 6.4807)\\n√42 = √(6.4807)2\\nNow, remove square and square root, we get\\n√42 = ± 6.4807 (or)\\n√42 = ± 6.481 (Rounded to three decimal places) [...] | Square Root of 42 in Decimal Form: 6.481. |\\n| --- |\\nSquare Root of 42 in Radical Form\\nWe can also represent the square root of 42 in the radical form. To express the square root of 42 in radical form, write the prime factors of 42. The number 42 has three prime factors, such as 2, 3 and 7. So, if we want to write √42 in radical form, it should be like √2. √3. √7, which is not in the simplest form. So, we can say the square root of 42 is radical form is √42', 'score': 0.7944651, 'raw_content': None}, {'url': 'https://www.mathway.com/popular-problems/Algebra/245547', 'title': 'Simplify square root of 42 - Mathway', 'content': 'Simplify square root of 42. √42 42. The result can be shown in multiple forms. Exact Form: √42 42. Decimal Form: 6.48074069.', 'score': 0.7931224, 'raw_content': None}, {'url': 'https://www.quora.com/If-a-number-plus-its-square-is-equal-to-42-what-is-the-number', 'title': 'If a number plus its square is equal to 42, what is the number? - Quora', 'content': 'Answer is 6. Closest to 42 is 36 which is the square of 6. 42–36=6. X is the number. X + X square=', 'score': 0.7393665, 'raw_content': None}], 'response_time': 1.19})]}})\n",
      "----\n",
      "(('researcher:2e41de4d-cd7b-03a7-20e2-88a78057d190',), {'agent': {'messages': [AIMessage(content='The square of 42 is **1764**.', additional_kwargs={}, response_metadata={'token_usage': {'completion_tokens': 80, 'prompt_tokens': 1539, 'total_tokens': 1619, 'completion_time': 0.412098841, 'prompt_time': 0.114747085, 'queue_time': 0.05516311500000001, 'total_time': 0.526845926}, 'model_name': 'deepseek-r1-distill-llama-70b', 'system_fingerprint': 'fp_1bbe7845ec', 'finish_reason': 'stop', 'logprobs': None}, id='run-81fec4f6-dcfc-40c3-aac2-8bf7f07b515d-0', usage_metadata={'input_tokens': 1539, 'output_tokens': 80, 'total_tokens': 1619})]}})\n",
      "----\n",
      "((), {'researcher': {'messages': [HumanMessage(content='The square of 42 is **1764**.', additional_kwargs={}, response_metadata={}, name='researcher')]}})\n",
      "----\n",
      "below my goto ****************\n",
      "FINISH\n",
      "((), {'supervisor': {'next': '__end__'}})\n",
      "----\n"
     ]
    }
   ],
   "source": [
    "for s in app.stream({\"messages\": [(\"user\", \"what's the square of 42?\")]}, subgraphs=True):\n",
    "    print(s)\n",
    "    print(\"----\")"
   ]
  },
  {
   "cell_type": "code",
   "execution_count": null,
   "id": "afb7538b",
   "metadata": {},
   "outputs": [],
   "source": []
  }
 ],
 "metadata": {
  "kernelspec": {
   "display_name": "langgraph",
   "language": "python",
   "name": "python3"
  },
  "language_info": {
   "codemirror_mode": {
    "name": "ipython",
    "version": 3
   },
   "file_extension": ".py",
   "mimetype": "text/x-python",
   "name": "python",
   "nbconvert_exporter": "python",
   "pygments_lexer": "ipython3",
   "version": "3.12.0"
  }
 },
 "nbformat": 4,
 "nbformat_minor": 5
}
